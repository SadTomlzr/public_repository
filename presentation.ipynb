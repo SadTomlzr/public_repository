{
  "cells": [
    {
      "cell_type": "markdown",
      "metadata": {
        "id": "n9j2Jj4rmm34"
      },
      "source": [
        "# 202210xx 组会 NLP预训练与下游任务代码实现\n",
        "  文档主要内容是我在入门nlp时所遇到的一些代码上的问题，积累总结下来成为文档。主要解决的是：\n",
        "\n",
        "  1. 训练自己的数据集\n",
        "  2. 在深度学习看源码的时候常常看到有很多util和包，让我不能理解。在查阅资料后得知在dl实验过程中基本需要三个部分，分别为dataloader、trainer、model。其中model根据不同论文中的实现不一样内容也大不一样。但是dataloader和trainer大多都是一个流程。所以在第一部分简单的进行了实现，也理解了整个训练的流程。\n",
        "  3. 一开始对于单词为什么要预训练和得到的模型可以找到单词的相似单词这个结论只是看书觉得有些抽象，不知道数据的内容和形状。所以我也进行了简单的实现，本文只实现了word2vector和bert两个方式的预训练。\n",
        "  4. 下游任务的实现（但是只是简单的demo）\n",
        "\n",
        "  当前文档主要包含了以下内容：\n",
        "  - lstm实现情感分析\n",
        "   - 基础案例\n",
        "   - dataloader\n",
        "   - trainer\n",
        "  - 预训练（word2vector和bert预训练实现）\n",
        "   - word2vector实现\n",
        "   - bert实现\n",
        "  - nlp下游任务实现\n",
        "   - glove微调lstm实现情感分析\n",
        "   - bert微调实现语义推断\n",
        "\n",
        "  "
      ]
    },
    {
      "cell_type": "code",
      "execution_count": null,
      "metadata": {
        "id": "kLxKUc5jwC0a"
      },
      "outputs": [],
      "source": [
        "# 让当前笔记本挂载Google云硬盘\n",
        "# from google.colab import drive\n",
        "# drive.mount('/content/drive')"
      ]
    },
    {
      "cell_type": "code",
      "execution_count": null,
      "metadata": {
        "id": "WQRSYZaDwHog"
      },
      "outputs": [],
      "source": [
        "# 如果不在colab实现，则不运行当前单元格\n",
        "!cp drive/MyDrive/train.csv train.csv"
      ]
    },
    {
      "cell_type": "markdown",
      "metadata": {
        "id": "x8FXfycZwuLU"
      },
      "source": [
        "## lstm实现情感分析"
      ]
    },
    {
      "cell_type": "markdown",
      "metadata": {
        "id": "qzGUVqq7Ivrp"
      },
      "source": [
        "### 基础案例"
      ]
    },
    {
      "cell_type": "code",
      "execution_count": 1,
      "metadata": {
        "colab": {
          "base_uri": "https://localhost:8080/",
          "height": 1000
        },
        "id": "qAsDDR5JwYFm",
        "outputId": "fbbe2e29-3eaf-4ec3-8396-9409d26d5434"
      },
      "outputs": [
        {
          "output_type": "stream",
          "name": "stdout",
          "text": [
            "Looking in indexes: https://pypi.org/simple, https://us-python.pkg.dev/colab-wheels/public/simple/\n",
            "Collecting d2l==0.17.1\n",
            "  Downloading d2l-0.17.1-py3-none-any.whl (82 kB)\n",
            "\u001b[K     |████████████████████████████████| 82 kB 559 kB/s \n",
            "\u001b[?25hCollecting requests==2.25.1\n",
            "  Downloading requests-2.25.1-py2.py3-none-any.whl (61 kB)\n",
            "\u001b[K     |████████████████████████████████| 61 kB 7.5 MB/s \n",
            "\u001b[?25hCollecting jupyter==1.0.0\n",
            "  Downloading jupyter-1.0.0-py2.py3-none-any.whl (2.7 kB)\n",
            "Collecting numpy==1.18.5\n",
            "  Downloading numpy-1.18.5-cp37-cp37m-manylinux1_x86_64.whl (20.1 MB)\n",
            "\u001b[K     |████████████████████████████████| 20.1 MB 1.2 MB/s \n",
            "\u001b[?25hCollecting matplotlib==3.3.3\n",
            "  Downloading matplotlib-3.3.3-cp37-cp37m-manylinux1_x86_64.whl (11.6 MB)\n",
            "\u001b[K     |████████████████████████████████| 11.6 MB 56.2 MB/s \n",
            "\u001b[?25hCollecting pandas==1.2.2\n",
            "  Downloading pandas-1.2.2-cp37-cp37m-manylinux1_x86_64.whl (9.9 MB)\n",
            "\u001b[K     |████████████████████████████████| 9.9 MB 56.4 MB/s \n",
            "\u001b[?25hRequirement already satisfied: notebook in /usr/local/lib/python3.7/dist-packages (from jupyter==1.0.0->d2l==0.17.1) (5.3.1)\n",
            "Collecting qtconsole\n",
            "  Downloading qtconsole-5.3.2-py3-none-any.whl (120 kB)\n",
            "\u001b[K     |████████████████████████████████| 120 kB 51.2 MB/s \n",
            "\u001b[?25hRequirement already satisfied: ipywidgets in /usr/local/lib/python3.7/dist-packages (from jupyter==1.0.0->d2l==0.17.1) (7.7.1)\n",
            "Requirement already satisfied: jupyter-console in /usr/local/lib/python3.7/dist-packages (from jupyter==1.0.0->d2l==0.17.1) (6.1.0)\n",
            "Requirement already satisfied: ipykernel in /usr/local/lib/python3.7/dist-packages (from jupyter==1.0.0->d2l==0.17.1) (5.3.4)\n",
            "Requirement already satisfied: nbconvert in /usr/local/lib/python3.7/dist-packages (from jupyter==1.0.0->d2l==0.17.1) (5.6.1)\n",
            "Requirement already satisfied: python-dateutil>=2.1 in /usr/local/lib/python3.7/dist-packages (from matplotlib==3.3.3->d2l==0.17.1) (2.8.2)\n",
            "Requirement already satisfied: pyparsing!=2.0.4,!=2.1.2,!=2.1.6,>=2.0.3 in /usr/local/lib/python3.7/dist-packages (from matplotlib==3.3.3->d2l==0.17.1) (3.0.9)\n",
            "Requirement already satisfied: pillow>=6.2.0 in /usr/local/lib/python3.7/dist-packages (from matplotlib==3.3.3->d2l==0.17.1) (7.1.2)\n",
            "Requirement already satisfied: cycler>=0.10 in /usr/local/lib/python3.7/dist-packages (from matplotlib==3.3.3->d2l==0.17.1) (0.11.0)\n",
            "Requirement already satisfied: kiwisolver>=1.0.1 in /usr/local/lib/python3.7/dist-packages (from matplotlib==3.3.3->d2l==0.17.1) (1.4.4)\n",
            "Requirement already satisfied: pytz>=2017.3 in /usr/local/lib/python3.7/dist-packages (from pandas==1.2.2->d2l==0.17.1) (2022.2.1)\n",
            "Requirement already satisfied: certifi>=2017.4.17 in /usr/local/lib/python3.7/dist-packages (from requests==2.25.1->d2l==0.17.1) (2022.6.15)\n",
            "Requirement already satisfied: chardet<5,>=3.0.2 in /usr/local/lib/python3.7/dist-packages (from requests==2.25.1->d2l==0.17.1) (3.0.4)\n",
            "Requirement already satisfied: idna<3,>=2.5 in /usr/local/lib/python3.7/dist-packages (from requests==2.25.1->d2l==0.17.1) (2.10)\n",
            "Requirement already satisfied: urllib3<1.27,>=1.21.1 in /usr/local/lib/python3.7/dist-packages (from requests==2.25.1->d2l==0.17.1) (1.24.3)\n",
            "Requirement already satisfied: typing-extensions in /usr/local/lib/python3.7/dist-packages (from kiwisolver>=1.0.1->matplotlib==3.3.3->d2l==0.17.1) (4.1.1)\n",
            "Requirement already satisfied: six>=1.5 in /usr/local/lib/python3.7/dist-packages (from python-dateutil>=2.1->matplotlib==3.3.3->d2l==0.17.1) (1.15.0)\n",
            "Requirement already satisfied: jupyter-client in /usr/local/lib/python3.7/dist-packages (from ipykernel->jupyter==1.0.0->d2l==0.17.1) (6.1.12)\n",
            "Requirement already satisfied: ipython>=5.0.0 in /usr/local/lib/python3.7/dist-packages (from ipykernel->jupyter==1.0.0->d2l==0.17.1) (7.9.0)\n",
            "Requirement already satisfied: traitlets>=4.1.0 in /usr/local/lib/python3.7/dist-packages (from ipykernel->jupyter==1.0.0->d2l==0.17.1) (5.1.1)\n",
            "Requirement already satisfied: tornado>=4.2 in /usr/local/lib/python3.7/dist-packages (from ipykernel->jupyter==1.0.0->d2l==0.17.1) (5.1.1)\n",
            "Requirement already satisfied: pygments in /usr/local/lib/python3.7/dist-packages (from ipython>=5.0.0->ipykernel->jupyter==1.0.0->d2l==0.17.1) (2.6.1)\n",
            "Requirement already satisfied: backcall in /usr/local/lib/python3.7/dist-packages (from ipython>=5.0.0->ipykernel->jupyter==1.0.0->d2l==0.17.1) (0.2.0)\n",
            "Requirement already satisfied: pexpect in /usr/local/lib/python3.7/dist-packages (from ipython>=5.0.0->ipykernel->jupyter==1.0.0->d2l==0.17.1) (4.8.0)\n",
            "Requirement already satisfied: pickleshare in /usr/local/lib/python3.7/dist-packages (from ipython>=5.0.0->ipykernel->jupyter==1.0.0->d2l==0.17.1) (0.7.5)\n",
            "Requirement already satisfied: prompt-toolkit<2.1.0,>=2.0.0 in /usr/local/lib/python3.7/dist-packages (from ipython>=5.0.0->ipykernel->jupyter==1.0.0->d2l==0.17.1) (2.0.10)\n",
            "Requirement already satisfied: decorator in /usr/local/lib/python3.7/dist-packages (from ipython>=5.0.0->ipykernel->jupyter==1.0.0->d2l==0.17.1) (4.4.2)\n",
            "Requirement already satisfied: setuptools>=18.5 in /usr/local/lib/python3.7/dist-packages (from ipython>=5.0.0->ipykernel->jupyter==1.0.0->d2l==0.17.1) (57.4.0)\n",
            "Collecting jedi>=0.10\n",
            "  Downloading jedi-0.18.1-py2.py3-none-any.whl (1.6 MB)\n",
            "\u001b[K     |████████████████████████████████| 1.6 MB 49.4 MB/s \n",
            "\u001b[?25hRequirement already satisfied: parso<0.9.0,>=0.8.0 in /usr/local/lib/python3.7/dist-packages (from jedi>=0.10->ipython>=5.0.0->ipykernel->jupyter==1.0.0->d2l==0.17.1) (0.8.3)\n",
            "Requirement already satisfied: wcwidth in /usr/local/lib/python3.7/dist-packages (from prompt-toolkit<2.1.0,>=2.0.0->ipython>=5.0.0->ipykernel->jupyter==1.0.0->d2l==0.17.1) (0.2.5)\n",
            "Requirement already satisfied: ipython-genutils~=0.2.0 in /usr/local/lib/python3.7/dist-packages (from ipywidgets->jupyter==1.0.0->d2l==0.17.1) (0.2.0)\n",
            "Requirement already satisfied: widgetsnbextension~=3.6.0 in /usr/local/lib/python3.7/dist-packages (from ipywidgets->jupyter==1.0.0->d2l==0.17.1) (3.6.1)\n",
            "Requirement already satisfied: jupyterlab-widgets>=1.0.0 in /usr/local/lib/python3.7/dist-packages (from ipywidgets->jupyter==1.0.0->d2l==0.17.1) (3.0.3)\n",
            "Requirement already satisfied: nbformat in /usr/local/lib/python3.7/dist-packages (from notebook->jupyter==1.0.0->d2l==0.17.1) (5.4.0)\n",
            "Requirement already satisfied: jupyter-core>=4.4.0 in /usr/local/lib/python3.7/dist-packages (from notebook->jupyter==1.0.0->d2l==0.17.1) (4.11.1)\n",
            "Requirement already satisfied: terminado>=0.8.1 in /usr/local/lib/python3.7/dist-packages (from notebook->jupyter==1.0.0->d2l==0.17.1) (0.13.3)\n",
            "Requirement already satisfied: Send2Trash in /usr/local/lib/python3.7/dist-packages (from notebook->jupyter==1.0.0->d2l==0.17.1) (1.8.0)\n",
            "Requirement already satisfied: jinja2 in /usr/local/lib/python3.7/dist-packages (from notebook->jupyter==1.0.0->d2l==0.17.1) (2.11.3)\n",
            "Requirement already satisfied: pyzmq>=13 in /usr/local/lib/python3.7/dist-packages (from jupyter-client->ipykernel->jupyter==1.0.0->d2l==0.17.1) (23.2.1)\n",
            "Requirement already satisfied: ptyprocess in /usr/local/lib/python3.7/dist-packages (from terminado>=0.8.1->notebook->jupyter==1.0.0->d2l==0.17.1) (0.7.0)\n",
            "Requirement already satisfied: MarkupSafe>=0.23 in /usr/local/lib/python3.7/dist-packages (from jinja2->notebook->jupyter==1.0.0->d2l==0.17.1) (2.0.1)\n",
            "Requirement already satisfied: defusedxml in /usr/local/lib/python3.7/dist-packages (from nbconvert->jupyter==1.0.0->d2l==0.17.1) (0.7.1)\n",
            "Requirement already satisfied: mistune<2,>=0.8.1 in /usr/local/lib/python3.7/dist-packages (from nbconvert->jupyter==1.0.0->d2l==0.17.1) (0.8.4)\n",
            "Requirement already satisfied: pandocfilters>=1.4.1 in /usr/local/lib/python3.7/dist-packages (from nbconvert->jupyter==1.0.0->d2l==0.17.1) (1.5.0)\n",
            "Requirement already satisfied: entrypoints>=0.2.2 in /usr/local/lib/python3.7/dist-packages (from nbconvert->jupyter==1.0.0->d2l==0.17.1) (0.4)\n",
            "Requirement already satisfied: testpath in /usr/local/lib/python3.7/dist-packages (from nbconvert->jupyter==1.0.0->d2l==0.17.1) (0.6.0)\n",
            "Requirement already satisfied: bleach in /usr/local/lib/python3.7/dist-packages (from nbconvert->jupyter==1.0.0->d2l==0.17.1) (5.0.1)\n",
            "Requirement already satisfied: jsonschema>=2.6 in /usr/local/lib/python3.7/dist-packages (from nbformat->notebook->jupyter==1.0.0->d2l==0.17.1) (4.3.3)\n",
            "Requirement already satisfied: fastjsonschema in /usr/local/lib/python3.7/dist-packages (from nbformat->notebook->jupyter==1.0.0->d2l==0.17.1) (2.16.1)\n",
            "Requirement already satisfied: attrs>=17.4.0 in /usr/local/lib/python3.7/dist-packages (from jsonschema>=2.6->nbformat->notebook->jupyter==1.0.0->d2l==0.17.1) (22.1.0)\n",
            "Requirement already satisfied: importlib-resources>=1.4.0 in /usr/local/lib/python3.7/dist-packages (from jsonschema>=2.6->nbformat->notebook->jupyter==1.0.0->d2l==0.17.1) (5.9.0)\n",
            "Requirement already satisfied: pyrsistent!=0.17.0,!=0.17.1,!=0.17.2,>=0.14.0 in /usr/local/lib/python3.7/dist-packages (from jsonschema>=2.6->nbformat->notebook->jupyter==1.0.0->d2l==0.17.1) (0.18.1)\n",
            "Requirement already satisfied: importlib-metadata in /usr/local/lib/python3.7/dist-packages (from jsonschema>=2.6->nbformat->notebook->jupyter==1.0.0->d2l==0.17.1) (4.12.0)\n",
            "Requirement already satisfied: zipp>=3.1.0 in /usr/local/lib/python3.7/dist-packages (from importlib-resources>=1.4.0->jsonschema>=2.6->nbformat->notebook->jupyter==1.0.0->d2l==0.17.1) (3.8.1)\n",
            "Requirement already satisfied: webencodings in /usr/local/lib/python3.7/dist-packages (from bleach->nbconvert->jupyter==1.0.0->d2l==0.17.1) (0.5.1)\n",
            "Collecting qtpy>=2.0.1\n",
            "  Downloading QtPy-2.2.0-py3-none-any.whl (82 kB)\n",
            "\u001b[K     |████████████████████████████████| 82 kB 510 kB/s \n",
            "\u001b[?25hRequirement already satisfied: packaging in /usr/local/lib/python3.7/dist-packages (from qtpy>=2.0.1->qtconsole->jupyter==1.0.0->d2l==0.17.1) (21.3)\n",
            "Installing collected packages: jedi, qtpy, qtconsole, numpy, requests, pandas, matplotlib, jupyter, d2l\n",
            "  Attempting uninstall: numpy\n",
            "    Found existing installation: numpy 1.21.6\n",
            "    Uninstalling numpy-1.21.6:\n",
            "      Successfully uninstalled numpy-1.21.6\n",
            "  Attempting uninstall: requests\n",
            "    Found existing installation: requests 2.23.0\n",
            "    Uninstalling requests-2.23.0:\n",
            "      Successfully uninstalled requests-2.23.0\n",
            "  Attempting uninstall: pandas\n",
            "    Found existing installation: pandas 1.3.5\n",
            "    Uninstalling pandas-1.3.5:\n",
            "      Successfully uninstalled pandas-1.3.5\n",
            "  Attempting uninstall: matplotlib\n",
            "    Found existing installation: matplotlib 3.2.2\n",
            "    Uninstalling matplotlib-3.2.2:\n",
            "      Successfully uninstalled matplotlib-3.2.2\n",
            "\u001b[31mERROR: pip's dependency resolver does not currently take into account all the packages that are installed. This behaviour is the source of the following dependency conflicts.\n",
            "xarray-einstats 0.2.2 requires numpy>=1.21, but you have numpy 1.18.5 which is incompatible.\n",
            "tensorflow 2.8.2+zzzcolab20220719082949 requires numpy>=1.20, but you have numpy 1.18.5 which is incompatible.\n",
            "tables 3.7.0 requires numpy>=1.19.0, but you have numpy 1.18.5 which is incompatible.\n",
            "plotnine 0.8.0 requires numpy>=1.19.0, but you have numpy 1.18.5 which is incompatible.\n",
            "jaxlib 0.3.15+cuda11.cudnn805 requires numpy>=1.19, but you have numpy 1.18.5 which is incompatible.\n",
            "jax 0.3.17 requires numpy>=1.20, but you have numpy 1.18.5 which is incompatible.\n",
            "cmdstanpy 1.0.7 requires numpy>=1.21, but you have numpy 1.18.5 which is incompatible.\u001b[0m\n",
            "Successfully installed d2l-0.17.1 jedi-0.18.1 jupyter-1.0.0 matplotlib-3.3.3 numpy-1.18.5 pandas-1.2.2 qtconsole-5.3.2 qtpy-2.2.0 requests-2.25.1\n"
          ]
        },
        {
          "output_type": "display_data",
          "data": {
            "application/vnd.colab-display-data+json": {
              "pip_warning": {
                "packages": [
                  "matplotlib",
                  "mpl_toolkits",
                  "numpy",
                  "pandas"
                ]
              }
            }
          },
          "metadata": {}
        },
        {
          "output_type": "stream",
          "name": "stdout",
          "text": [
            "Looking in indexes: https://pypi.org/simple, https://us-python.pkg.dev/colab-wheels/public/simple/\n",
            "Collecting matplotlib==3.0.0\n",
            "  Downloading matplotlib-3.0.0-cp37-cp37m-manylinux1_x86_64.whl (12.8 MB)\n",
            "\u001b[K     |████████████████████████████████| 12.8 MB 4.8 MB/s \n",
            "\u001b[?25hRequirement already satisfied: numpy>=1.10.0 in /usr/local/lib/python3.7/dist-packages (from matplotlib==3.0.0) (1.18.5)\n",
            "Requirement already satisfied: kiwisolver>=1.0.1 in /usr/local/lib/python3.7/dist-packages (from matplotlib==3.0.0) (1.4.4)\n",
            "Requirement already satisfied: pyparsing!=2.0.4,!=2.1.2,!=2.1.6,>=2.0.1 in /usr/local/lib/python3.7/dist-packages (from matplotlib==3.0.0) (3.0.9)\n",
            "Requirement already satisfied: cycler>=0.10 in /usr/local/lib/python3.7/dist-packages (from matplotlib==3.0.0) (0.11.0)\n",
            "Requirement already satisfied: python-dateutil>=2.1 in /usr/local/lib/python3.7/dist-packages (from matplotlib==3.0.0) (2.8.2)\n",
            "Requirement already satisfied: typing-extensions in /usr/local/lib/python3.7/dist-packages (from kiwisolver>=1.0.1->matplotlib==3.0.0) (4.1.1)\n",
            "Requirement already satisfied: six>=1.5 in /usr/local/lib/python3.7/dist-packages (from python-dateutil>=2.1->matplotlib==3.0.0) (1.15.0)\n",
            "Installing collected packages: matplotlib\n",
            "  Attempting uninstall: matplotlib\n",
            "    Found existing installation: matplotlib 3.3.3\n",
            "    Uninstalling matplotlib-3.3.3:\n",
            "      Successfully uninstalled matplotlib-3.3.3\n",
            "\u001b[31mERROR: pip's dependency resolver does not currently take into account all the packages that are installed. This behaviour is the source of the following dependency conflicts.\n",
            "yellowbrick 1.5 requires matplotlib!=3.0.0,>=2.0.2, but you have matplotlib 3.0.0 which is incompatible.\n",
            "scikit-image 0.18.3 requires matplotlib!=3.0.0,>=2.0.0, but you have matplotlib 3.0.0 which is incompatible.\n",
            "plotnine 0.8.0 requires matplotlib>=3.1.1, but you have matplotlib 3.0.0 which is incompatible.\n",
            "plotnine 0.8.0 requires numpy>=1.19.0, but you have numpy 1.18.5 which is incompatible.\n",
            "mizani 0.7.3 requires matplotlib>=3.1.1, but you have matplotlib 3.0.0 which is incompatible.\n",
            "d2l 0.17.1 requires matplotlib==3.3.3, but you have matplotlib 3.0.0 which is incompatible.\u001b[0m\n",
            "Successfully installed matplotlib-3.0.0\n"
          ]
        },
        {
          "output_type": "display_data",
          "data": {
            "application/vnd.colab-display-data+json": {
              "pip_warning": {
                "packages": [
                  "matplotlib",
                  "mpl_toolkits"
                ]
              }
            }
          },
          "metadata": {}
        }
      ],
      "source": [
        "# 导包\n",
        "import torch\n",
        "import torch.nn as nn\n",
        "import torch.optim as optim\n",
        "import collections\n",
        "import torch.utils.data as Data\n",
        "from torch.autograd import Variable\n",
        "import jieba\n",
        "import pandas as pd\n",
        "import numpy as np\n",
        "!pip install d2l==0.17.1\n",
        "!pip install matplotlib==3.0.0\n",
        "from d2l import torch as d2l"
      ]
    },
    {
      "cell_type": "code",
      "execution_count": null,
      "metadata": {
        "colab": {
          "base_uri": "https://localhost:8080/",
          "height": 981
        },
        "id": "jUy428eJw3TG",
        "outputId": "087974db-2f00-41bb-efdb-c9a5c46aa2f0"
      },
      "outputs": [
        {
          "data": {
            "application/vnd.google.colaboratory.module+javascript": "\n      import \"https://ssl.gstatic.com/colaboratory/data_table/a8bd4d5e58f96183/data_table.js\";\n\n      window.createDataTable({\n        data: [[{\n            'v': 194,\n            'f': \"194\",\n        },\n{\n            'v': 0,\n            'f': \"0\",\n        },\n\"\\u770b\\u5230\\u7f51\\u53cb\\u7684\\u70b9\\u8bc4\\u8fd8\\u6709\\u4e9b\\u4e0d\\u4fe1\\uff0c\\u53bb\\u4e86\\u4ee5\\u540e\\u624d\\u77e5\\u9053\\u4ec0\\u4e48\\u53eb\\u5168\\u4e16\\u754c\\u6700\\u810f\\uff0c\\u6700\\u5dee\\u7684\\u9152\\u5e97\\u3002\"],\n [{\n            'v': 233,\n            'f': \"233\",\n        },\n{\n            'v': 0,\n            'f': \"0\",\n        },\n\"\\u8fd9\\u9152\\u5e97\\u592a\\u65e7\\u4e86,\\u5927\\u5385\\u770b\\u4e0a\\u53bb\\u8fd8\\u53ef\\u4ee5.\\u623f\\u95f4\\u7684\\u8bbe\\u65bd\\u6210\\u65e7\\u4e0d\\u582a!\\u536b\\u751f\\u95f4\\u7684\\u9a6c\\u6876\\u771f\\u7684\\u90fd\\u4e0d\\u8d70\\u6c34\\u7684.\\u65e9\\u9910\\u592a\\u4e00\\u822c\\u4e86.\\u8981\\u53bb\\u5165\\u4f4f\\u7684\\u670b\\u53cb\\u8981\\u6709\\u601d\\u60f3\\u51c6\\u5907,\\u671f\\u671b\\u503c\\u4e0d\\u8981\\u592a\\u9ad8.400\\u591a\\u4e00\\u665a\\u8bf4\\u5b9e\\u8bdd\\u4e0d\\u592a\\u503c!!\"],\n [{\n            'v': 662,\n            'f': \"662\",\n        },\n{\n            'v': 1,\n            'f': \"1\",\n        },\n\"\\u56e0\\u4e3a\\u8fd9\\u91cc\\u6709\\u514d\\u8d39\\u7684\\u5bbd\\u5e26,\\u624d\\u9884\\u5b9a\\u4e86\\u8c6a\\u534e\\u5355\\u4eba\\u5927\\u5e8a\\u623f...\\u4e0b\\u9762\\u662f\\u6211\\u7684\\u4e00\\u4e9b\\u4f18\\u7f3a\\u70b9\\u8bc4\\u4ef7:\\u4f18\\u70b9:1.\\u73af\\u5883\\u4e0d\\u9519,\\u522b\\u5885\\u578b\\u7684\\u623f\\u5b50..\\u5230\\u5904\\u79cd\\u7684\\u6930\\u5b50\\u6811..\\u4e00\\u4e2a\\u5927\\u6e38\\u6cf3\\u6c60.2.\\u5730\\u91cc\\u4f4d\\u7f6e\\u4e0d\\u9519,\\u5c5e\\u4e8e\\u5e02\\u4e2d\\u5fc3..2\\u5206\\u949f\\u8def\\u7a0b\\u4e00\\u4e2a\\u5927\\u578b\\u8d85\\u5e02(\\u5bf9\\u4e8e\\u672c\\u5730\\u6765\\u8bf4),..3\\u5206\\u949f\\u8def\\u7a0b\\u5403\\u996d\\u7684\\u5730\\u65b9\\u5f88\\u65b9\\u4fbf,\\u8d70\\u8def2\\u5206\\u949f\\u4e0d\\u5230\\u5c31\\u6709\\u6c34\\u679c\\u5e02\\u573a..\\u665a\\u4e0a\\u5468\\u56f4\\u7684\\u9a6c\\u8def\\u4e0a\\u4e5f\\u76f8\\u5f53\\u70ed\\u95f93.\\u623f\\u95f4\\u8fd8\\u7b97\\u5e72\\u51c0..4.\\u6709\\u65e9\\u9910,\\u968f\\u4fbf\\u5bf9\\u4ed8\\u4e00\\u4e0b\\u5e94\\u8be5\\u662f\\u6ca1\\u6709\\u95ee\\u9898\\u7684...\\u7f3a\\u70b9:1.\\u623f\\u95f4\\u6bd4\\u8f83\\u5c0f,\\u70ed\\u6c34\\u597d\\u50cf\\u662f\\u6709\\u65f6\\u95f4\\u624d\\u6709\\u7684..\\u56e0\\u4e3a\\u6211\\u4e0b\\u5348\\u6d17\\u6fa1\\u4e00\\u822c\\u90fd\\u6ca1\\u6709\\u70ed\\u6c342.\\u665a\\u4e0a\\u4e0a\\u7f51\\u7684\\u901f\\u5ea6\\u8ddf\\u725b\\u4e00\\u6837,\\u6839\\u672c\\u6253\\u4e0d\\u5f00\\u7f51\\u9875..\\u4e0d\\u77e5\\u9053\\u4ec0\\u4e48\\u539f\\u56e0...\\u95ee\\u670d\\u52a1\\u53f0,\\u56de\\u7b54\\u662f\\\"\\u6211\\u4eec\\u4e5f\\u662f\\u8fd9\\u6837\\u7684\\\"\\u603b\\u4f53\\u6765\\u8bf4,200\\u591a\\u7684\\u623f\\u4ef7\\u5bf9\\u4e8e\\u8fd9\\u6837\\u7684\\u9152\\u5e97\\u7b97\\u662f\\u8fd8\\u53ef\\u4ee5\\u4e86...\\u6211\\u4eec\\u51fa\\u95e8\\u603b\\u4e0d\\u80fd\\u8981\\u6c42\\u9152\\u5e97\\u5c31\\u8ddf\\u81ea\\u5df1\\u7684\\u5bb6\\u4e00\\u6837..\\u518d\\u8bf4\\u4e86\\u5c31\\u662f\\u5728\\u5bb6\\u4f60\\u53ef\\u80fd\\u4e5f\\u6709\\u65f6\\u5019\\u4f1a\\u62b1\\u6028\\u536b\\u751f\\u95f4\\u6709\\u5473\\u9053,\\u53a8\\u623f\\u592a\\u5c0f..\\u6211\\u4eec\\u51fa\\u6765\\u4e86\\u603b\\u662f\\u968f\\u9047\\u800c\\u5b89\\u5427...\\u795d\\u5927\\u5bb6\\u65c5\\u7a0b\\u6109\\u5feb..\"],\n [{\n            'v': 415,\n            'f': \"415\",\n        },\n{\n            'v': 1,\n            'f': \"1\",\n        },\n\"7\\u670825\\u65e5\\u5230\\u5bb6\\u4eba\\u5230\\u6cf0\\u5c71\\u73a9\\uff0c\\u901a\\u8fc7\\u643a\\u7a0b\\u8ba2\\u7684\\u534e\\u4fa8\\u5927\\u53a6\\u7684\\u623f\\u95f4\\uff08\\u8bf4\\u662f\\u641e\\u6d3b\\u52a8\\uff0c\\u82b1280\\u5347\\u7ea7\\u5230360\\u7684\\u623f\\u95f4\\uff0c\\u4f46\\u662f\\u5b9e\\u9645\\u6211\\u4eec\\u4e5f\\u4e0d\\u77e5\\u9053280\\u548c360\\u7684\\u623f\\u95f4\\u5230\\u5e95\\u662f\\u600e\\u6837\\u7684\\uff09\\u3002\\u5bf9\\u534e\\u4fa8\\u5927\\u53a6\\u7684\\u8bc4\\u4ef7\\u548c\\u4ee5\\u524d\\u5f88\\u5f88\\u591a\\u7f51\\u53cb\\u7684\\u8bc4\\u4ef7\\u4e00\\u6837\\uff1a\\u670d\\u52a1\\u5f88\\u70ed\\u60c5\\uff0c\\u4f46\\u662f\\u8bbe\\u65bd\\u592a\\u9648\\u65e7\\uff08\\u5728\\u643a\\u7a0b\\u7f51\\u4e0a\\u770b\\u9152\\u5e97\\u7684\\u53cd\\u9988\\uff0c\\u8bf4\\u662f\\u6709\\u65b0\\u88c5\\u4fee\\u7684\\u623f\\u95f4\\uff0c\\u4f46\\u662f\\u8ba2\\u623f\\u7684\\u65f6\\u5019\\u643a\\u7a0b\\u7684\\u5de5\\u4f5c\\u4eba\\u5458\\u4e0d\\u77e5\\u9053\\u6211\\u4eec\\u8ba2\\u7684\\u623f\\u95f4\\u662f\\u5426\\u662f\\u65b0\\u88c5\\u4fee\\u7684\\uff0c\\u8fd9\\u70b9\\u5e0c\\u671b\\u643a\\u7a0b\\u4ee5\\u540e\\u628a\\u5de5\\u4f5c\\u505a\\u4ed4\\u7ec6\\u4e00\\u4e9b\\uff09\\u3002\\u5165\\u4f4f\\u534e\\u4fa8\\u5927\\u53a6\\u4ece\\u95e8\\u7ae5\\u3001\\u524d\\u53f0\\u5e26\\u623f\\u95f4\\u670d\\u52a1\\u4eba\\u90fd\\u6001\\u5ea6\\u5f88\\u597d\\uff0c\\u5f88\\u70ed\\u60c5\\uff0c\\u5bf9\\u5ba2\\u4eba\\u7684\\u8981\\u6c42\\u53cd\\u5e94\\u5f88\\u5feb\\uff08\\u6211\\u56e0\\u4e3a\\u5e26\\u4e86\\u5b69\\u5b50\\uff0c\\u8981\\u6c42\\u591a\\u9001\\u4e00\\u5957\\u6d17\\u6f31\\u7528\\u54c1\\u5230\\u623f\\u95f4\\uff0c\\u521a\\u653e\\u4e0b\\u7535\\u8bdd\\u6ca1\\u591a\\u4e45\\u670d\\u52a1\\u5458\\u5c31\\u9001\\u6765\\u4e86\\uff09\\uff0c\\u5bf9\\u4e00\\u4e9b\\u6211\\u4eec\\u8be2\\u95ee\\u7684\\u600e\\u4e48\\u53bb\\u6cf0\\u5c71\\u73a9\\uff0c\\u9644\\u8fd1\\u6709\\u4ec0\\u4e48\\u597d\\u5403\\u7684\\u7b49\\u95ee\\u9898\\u90fd\\u5f88\\u8010\\u5fc3\\u7684\\u56de\\u7b54\\u3002\\u623f\\u95f4\\u6709\\u6b22\\u8fce\\u679c\\u76d8\\uff0c\\u800c\\u4e14\\u5206\\u91cf\\u4e0d\\u5c0f\\uff0c\\u5f88\\u5b9e\\u5728\\uff0c\\u5475\\u5475\\u3002\\u4f46\\u662f\\u534e\\u4fa8\\u5927\\u53a6\\u7684\\u8bbe\\u65bd\\u786e\\u5b9e\\u592a\\u9648\\u65e7\\u4e86\\uff0c\\u5f88\\u591a\\u5730\\u65b9\\u7684\\u5899\\u7eb8\\u5df2\\u7ecf\\u8131\\u843d\\uff0c\\u623f\\u95f4\\u7684\\u6d74\\u5ba4\\u6bd4\\u8f83\\u5c0f\\uff0c\\u800c\\u4e14\\u6ca1\\u6709\\u72ec\\u7acb\\u7684\\u6dcb\\u6d74\\u95f4\\uff0c\\u611f\\u89c9\\u8001\\u4eba\\u548c\\u5c0f\\u5b69\\u4f7f\\u7528\\u65f6\\u6bd4\\u8f83\\u4e0d\\u65b9\\u4fbf\\u3002\\u4f46\\u662f\\u826f\\u597d\\u7684\\u670d\\u52a1\\u8fd8\\u662f\\u53ef\\u4ee5\\u5f25\\u8865\\u8fd9\\u4e9b\\u4e0d\\u8db3\\u7684\\uff0c\\u800c\\u4e14\\u4ef7\\u94b1\\u4e5f\\u4e0d\\u8d35\\uff0c\\u611f\\u89c9\\u8fd8\\u53ef\\u4ee5\\u63a5\\u53d7\\u3002\"],\n [{\n            'v': 57,\n            'f': \"57\",\n        },\n{\n            'v': 0,\n            'f': \"0\",\n        },\n\"\\u6574\\u4e2a\\u623f\\u95f4\\u4e5f\\u592a\\u5c0f\\u4e86\\u70b9,\\u6240\\u6709\\u7684\\u52a0\\u4e00\\u8d77\\u5927\\u6982\\u624d\\u5341\\u5e73\\u7c73\\u5de6\\u53f3!\\u5e8a\\u5355\\u662f\\u810f\\u7684.\"],\n [{\n            'v': 32,\n            'f': \"32\",\n        },\n{\n            'v': 0,\n            'f': \"0\",\n        },\n\"1\\u9152\\u5e97\\u6bd4\\u8f83\\u504f\\u6253\\u8f66\\u4e0d\\u65b9\\u4fbf2\\u9152\\u5e97\\u697c\\u4e0a\\u6709KTV\\uff0c\\u665a\\u4e0a\\u975e\\u5e38\\u5435\\uff0c\\u7279\\u522b\\u662f\\u5bf9\\u4f4f\\u5728\\u4e94\\u697c\\u7684\\u623f\\u5ba2\\u30023\\u524d\\u53f0\\u63a5\\u5f85\\uff0c\\u6001\\u5ea6\\u751f\\u786c\\u3002\\u4e0d\\u592a\\u6b22\\u8fce\\u901a\\u8fc7\\u643a\\u7a0b\\u7f51\\u9884\\u8ba2\\u7684\\u4eba\\u3002\\u63a5\\u5f85\\u6211\\u7684\\u5c0f\\u59d0\\uff0c\\u8fd8\\u7ed9\\u6211\\u4e00\\u5f20\\u540d\\u7247\\uff0c\\u8ba9\\u6211\\u8ba2\\u623f\\u76f4\\u63a5\\u6253\\u5bbe\\u9986\\u7535\\u8bdd\\u5c31\\u53ef\\u4ee5\\u4e86\\u3002\\u8bf4\\u643a\\u7a0b\\u53d1\\u4f20\\u771f\\u6765\\u8fd8\\u8981\\u56de\\u4f20\\u6bd4\\u8f83\\u70e6\\u3002\\u90a3\\u4f4d\\u5c0f\\u59d0\\u597d\\u50cf\\u59d3\\u51af\\u30024\\u623f\\u4ef7\\u6c34\\u4efd\\u592a\\u591a\\u3002\\u623f\\u4ef7\\u6807\\u4ef7\\u4e3a516\\u5143\\uff0c\\u4f46\\u4e00\\u822c\\u9884\\u8ba2\\u53ea\\u8981\\u8bb2\\u4ef7\\u7684\\u8bdd\\u901a\\u5e38\\u4f1a\\u4ee5318\\u5143\\u6210\\u4ea4\\u30025\\u5728\\u5165\\u4f4f\\u540e\\u7684\\u7b2c\\u4e8c\\u5929\\uff0c\\u6211\\u9000\\u623f\\u540e\\uff0c\\u56e0\\u4e3a\\u6709\\u4e8b\\u8fd8\\u8981\\u5165\\u4f4f\\uff0c\\u524d\\u53f0\\u4e00\\u542c\\u662f\\u901a\\u8fc7\\u643a\\u7a0b\\u8ba2\\u7684\\u76f4\\u63a5\\u56de\\u7b54\\u6ca1\\u623f\\u9884\\u8ba2\\uff08\\u8be5\\u5e02\\u5f53\\u5929\\u5e76\\u6ca1\\u6709\\u4ec0\\u4e48\\u91cd\\u5927\\u6d3b\\u52a8\\uff0c\\u4e5f\\u4e0d\\u662f\\u65c5\\u6e38\\u65fa\\u5b63\\uff096\\u623f\\u95f4\\u91cc\\u7684\\u4ef7\\u683c\\u6bd4\\u5916\\u9762\\u9ad8\\u8bb8\\u591a\\uff0c\\u4e00\\u74f6\\u5916\\u9762\\u4e00\\u5143\\u94b1\\u7684\\u77ff\\u6cc9\\u6c34\\uff0c\\u623f\\u95f4\\u91cc\\u6807\\u4ef7\\u4e3a5\\u5143\\u3002\\u800c\\u4e14\\u9152\\u5e97\\u9644\\u8fd1\\u6ca1\\u6709\\u8d2d\\u7269\\u7684\\u5730\\u65b9\\u30027\\u670d\\u52a1\\u610f\\u8bc6\\u592a\\u5dee\\uff0c\\u6211\\u8be2\\u95ee\\u524d\\u53f0\\u5de5\\u4f5c\\u4eba\\u5458\\u5f53\\u5730\\u5929\\u6c14\\u9884\\u62a5\\uff0c\\u56de\\u7b54\\u8bf4\\u662f\\u4e0d\\u77e5\\u9053\\u30028\\u65e9\\u9910\\u8f83\\u5dee\\uff0c\\u90e8\\u5206\\u83dc\\u8fd8\\u662f\\u51b7\\u7684\\u8be5\\u9152\\u5e97\\u6709\\u597d\\u7684\\u8bbe\\u65bd\\u4f46\\u7f3a\\u4e4f\\u6709\\u6548\\u7684\\u7ba1\\u7406\\uff0c\\u670d\\u52a1\\u610f\\u8bc6\\u8f83\\u5dee\\uff0c\\u751a\\u81f3\\u6709\\u70b9\\u5e97\\u5927\\u6b3a\\u5ba2\\u7684\\u5473\\u9053\\uff0c\\u867d\\u7136\\uff0c\\u5b83\\u5e76\\u4e0d\\u662f\\u4ec0\\u4e48\\u5927\\u5e97\"],\n [{\n            'v': 68,\n            'f': \"68\",\n        },\n{\n            'v': 0,\n            'f': \"0\",\n        },\n\"\\u978b\\u6491\\u5728\\u4e91\\u5357\\u7684\\u534f\\u8bae\\u9152\\u5e97\\u5c11\\u5f97\\u53ef\\u601c\\uff0c\\u5e94\\u8be5\\u4e0b\\u5927\\u529b\\u6c14\\u591a\\u505a\\u4e9b\\u5de5\\u4f5c\\uff0c\\u628a\\u5982\\u5bb6\\u7684\\u5e97\\u5b50\\u4e5f\\u5230\\u5904\\u5f00\\u4e00\\u5f00\\uff0c\\u8981\\u4e0d\\u7136\\u6211\\u4eec\\u8fd9\\u4e9b\\u978b\\u6491\\u4f9d\\u8d56\\u75c7\\u60a3\\u8005\\u90fd\\u627e\\u4e0d\\u5230\\u4f4f\\u7684\\u5730\\u65b9\\u5566\\u3002\\u548c\\u5f53\\u5730\\u5927\\u591a\\u6570\\u9152\\u5e97\\u4e00\\u6837\\uff0c\\u4e0a\\u7f51\\u5728\\u8fd9\\u91cc\\u662f\\u5f88\\u5962\\u4f88\\u7684\\uff0c\\u975e\\u8981\\u4f4f\\u5546\\u52a1\\u95f4\\u624d\\u6709\\u7684\\u3002\\u8ba2\\u623f\\u7684\\u65f6\\u5019\\u978b\\u6491\\u8bf4\\u4e0d\\u80fd\\u5237\\u5361\\uff0c\\u5230\\u524d\\u53f0\\u5374\\u662f\\u53ef\\u4ee5\\u5237\\u7684\\uff0c\\u8fd8\\u6bd4\\u8f83\\u65b9\\u4fbf\\u3002\\u623f\\u95f4\\u91cc\\u5c31\\u5f88\\u4e00\\u822c\\uff0c\\u70ed\\u6c34\\u662f\\u51e0\\u4e4e\\u6ca1\\u6709\\uff0c\\u5bb3\\u5f97\\u962e\\u4e00\\u5bb6\\u4eba\\u4e24\\u5929\\u6ca1\\u6cd5\\u6d17\\u6fa1\\u3002\\u65e9\\u9910\\u6781\\u5dee\\uff0c\\u4e0d\\u8bba\\u7a00\\u996d\\u5e72\\u996d\\u7092\\u996d\\u716e\\u996d\\uff0c\\u53ea\\u8981\\u6709\\u7c73\\u7684\\u5730\\u65b9\\u5c31\\u4e00\\u5b9a\\u6709\\u6c99\\u5b50\\u3002\\u7535\\u68af\\u6709\\u65f6\\u5019\\u505c\\u8fd0\\uff0c\\u4e0d\\u6653\\u5f97\\u4ec0\\u4e48\\u539f\\u56e0\\u3002\\u697c\\u4e0b\\u6709\\u8d85\\u5e02\\uff0c\\u73af\\u5883\\u4e00\\u822c\\u3002\\u53ef\\u8d70\\u8def\\u5230\\u6d31\\u6d77\\u516c\\u56ed\\u6216\\u660e\\u73e0\\u5e7f\\u573a\\uff0c\\u90fd\\u4e0d\\u7b97\\u592a\\u8fdc\\u3002\\u6253\\u8f66\\u5230\\u673a\\u573a\\u7ea640\\u5143\\uff0c\\u5230\\u5927\\u7406\\u53e4\\u57ce\\u4e00\\u5e26\\u9700\\u8981\\u5927\\u7ea635\\u5143\\u3002\\u5927\\u7406\\u7684\\u51fa\\u79df\\u8f66\\u5728\\u57ce\\u5185\\u6253\\u8868\\uff0c\\u51fa\\u57ce\\u8bae\\u4ef7\\uff0c\\u65a9\\u5ba2\\u73b0\\u8c61\\u4e25\\u91cd\\u3002\\u4ece\\u5f00\\u53d1\\u533a\\u5230\\u4e0b\\u5173\\u5e02\\u4e2d\\u5fc3\\u4eba\\u6c11\\u5e7f\\u573a\\u4e00\\u5e26\\u624d6\\u5757\\u94b1\\uff0c\\u521a\\u51fa\\u8d77\\u6b65\\u4ef7\\u3002\\u670d\\u52a1\\u6c34\\u5e73\\u6709\\u5f85\\u63d0\\u9ad8\\uff0c\\u9000\\u623f\\u65f6\\u8bf4\\u4e0d\\u89c1\\u4e86\\u536b\\u751f\\u95f4\\u91cc\\u7eb8\\u7b52\\u91cc\\u7684\\u5377\\u7eb8\\u8f74\\uff0c\\u975e\\u8981\\u95ee\\u962e\\u662f\\u4e0d\\u662f\\u7ed9\\u62ff\\u8d70\\u4e86\\uff0cNND\\uff0c\\u6709\\u8c01\\u4f1a\\u5bf9\\u4ed6\\u4eec\\u7684\\u90a3\\u4e2a\\u70c2\\u4e1c\\u897f\\u611f\\u5174\\u8da3\\u7684\\u3002\\u5efa\\u8bae\\u8981\\u5728\\u5927\\u7406\\u4f4f\\u9152\\u5e97\\u7684\\u670b\\u53cb\\uff0c\\u5f00\\u53d1\\u533a\\u8fd9\\u8fb9\\u7684\\u9152\\u5e97\\u6709\\u5f88\\u591a\\uff0c\\u770b\\u8d77\\u6765\\u8fd8\\u4e0d\\u9519\\u3002\\u5934\\u4e00\\u665a\\u5728\\u8fd9\\u91cc\\u6b47\\u6b47\\u811a\\uff0c\\u7136\\u540e\\u81ea\\u5df1\\u518d\\u53bb\\u627e\\u4f4f\\u7684\\u5730\\u65b9\\u4e5f\\u53ef\\u4ee5\\u7684\\u3002\"],\n [{\n            'v': 70,\n            'f': \"70\",\n        },\n{\n            'v': 0,\n            'f': \"0\",\n        },\n\"\\u643a\\u7a0b\\u670d\\u52a1\\u4eba\\u5458\\u7535\\u8bdd\\u4e2d\\u5411\\u6211\\u63a8\\u8350\\u4e86\\u6b64\\u5bb6\\u9152\\u5e97\\uff0c\\u5411\\u6211\\u8bf4\\u660e\\u8fd9\\u662f\\u56db\\u661f\\u9152\\u5e97\\uff0c\\u5ba2\\u6237\\u8bc4\\u4ef7\\u90fd\\u5f88\\u597d\\u3002\\u4f4f\\u8fdb\\u53bb\\u4e4b\\u540e\\uff0c\\u5f88\\u7591\\u60d1\\u8fd9\\u6837\\u7684\\u9152\\u5e97\\u4f1a\\u6709\\u5f88\\u597d\\u8bc4\\u4ef7\\uff1f\\u4e0a\\u4e86\\u643a\\u7a0b\\u7f51\\u4e4b\\u540e\\uff0c\\u624d\\u53d1\\u73b0\\uff0c\\u8fd9\\u4e2a\\u9152\\u5e97\\u7684\\u7528\\u6237\\u8bc4\\u4ef7\\u53ea\\u67092.2\\u5206\\uff01\\u8fd9\\u5c31\\u662f\\u643a\\u7a0b\\u7535\\u8bdd\\u4e2d\\u5439\\u5618\\u7684\\u5f88\\u597d\\uff1f\\uff1f\\uff01\\uff01\\uff01\\u8fd9\\u662f\\u6211\\u4f4f\\u8fc7\\u7684\\u4e16\\u754c\\u4e0a\\u6700\\u5dee\\u7684\\u9152\\u5e97\\uff01\\u5148\\u770b\\u623f\\u95f4\\uff1a\\u4e0a\\u4e86\\u7535\\u68af\\uff0c\\u8d70\\u5eca\\u5185\\u4e00\\u7247\\u9ed1\\u6697\\uff01\\u5c45\\u7136\\u6ca1\\u6709\\u5f00\\u706f\\uff01\\u4f30\\u8ba1\\u957f\\u671f\\u6ca1\\u6709\\u4f4f\\u5ba2\\u4e86\\u3002\\u4e00\\u5f00\\u95e8\\uff0c\\u5f02\\u5473\\u51b2\\u9f3b\\uff01\\u770b\\u5899\\u58c1\\uff0c\\u5899\\u4e0a\\u7684\\u58c1\\u7eb8\\u5df2\\u7ecf\\u6709\\u4e9b\\u8131\\u843d\\u3002\\u770b\\u5730\\u6bef\\uff0c\\u810f\\u4e14\\u4e0d\\u5e73\\uff0c\\u5f88\\u660e\\u663e\\u9152\\u5e97\\u6ca1\\u6709\\u5438\\u5c18\\u5668\\u6216\\u6ca1\\u6709\\u4f7f\\u7528\\u5438\\u5c18\\u5668\\u3002\\u770b\\u9a6c\\u6876\\uff0c\\u5c45\\u7136\\u6709\\u9ec4\\u8272\\u7684\\u5927\\u7247\\u6c34\\u9508\\u3002\\u770b\\u7a97\\u6237\\uff0c\\u5f00\\u5e8a\\u7684\\u628a\\u624b\\u4e0a\\u4e24\\u4e2a\\u87ba\\u4e1d\\u5c45\\u7136\\u6389\\u4e86\\u4e00\\u4e2a\\uff01\\u518d\\u770b\\u7535\\u89c6\\uff0c\\u662f\\u6211\\u4eec\\u5927\\u5bb6\\u5728\\u4e0a\\u4e16\\u7eaa\\u672b\\u5c31\\u5df2\\u7ecf\\u6dd8\\u6c70\\u7684\\u90a3\\u79cd\\uff0c\\u663e\\u50cf\\u7ba1\\u5df2\\u7ecf\\u8001\\u5316\\uff0c\\u4e00\\u64ad\\u653e\\u767d\\u8272\\u4e3a\\u4e3b\\u7684\\u753b\\u9762\\u65f6\\u7535\\u89c6\\u5c31\\u4ec0\\u4e48\\u4e5f\\u770b\\u4e0d\\u89c1\\u4e86\\uff0c\\u53ea\\u80fd\\u770b\\u89c1\\u767d\\u8272\\u6a2a\\u6761\\uff0c\\u4f34\\u968f\\u5f88\\u5927\\u7684\\u7535\\u89c6\\u6742\\u97f3\\uff01\\u73af\\u5883\\uff1a\\u6709\\u8fd9\\u6837\\u7684\\u623f\\u95f4\\uff0c\\u8fd8\\u80fd\\u6709\\u4ec0\\u4e48\\u6837\\u7684\\u73af\\u5883\\uff1f\\u670d\\u52a1\\uff1a\\u8fde\\u670d\\u52a1\\u5458\\u90fd\\u8fd8\\u6ca1\\u62db\\u5168\\uff01\\u591a\\u6570\\u670d\\u52a1\\u5458\\u53cd\\u5e94\\u8fdf\\u7f13\\uff0c\\u7535\\u8bdd\\u6c9f\\u901a\\u4e2d\\u6ca1\\u6709\\u4e60\\u60ef\\u6027\\u793c\\u8c8c\\uff0c\\u7535\\u8bdd\\u4e2d\\u4e8b\\u60c5\\u8bf4\\u5b8c\\u4e86\\u5c45\\u7136\\u6ca1\\u6709\\u4e00\\u53e5\\u518d\\u89c1\\u5c31\\u76f4\\u63a5\\u6302\\u673a\\u4e86\\uff0c\\u6302\\u7684\\u4f60\\u6655\\u5934\\u8f6c\\u5411\\uff0c\\u6839\\u672c\\u4e0d\\u77e5\\u9053\\u5979\\u6709\\u6ca1\\u6709\\u540c\\u610f\\u4f60\\u7684\\u8981\\u6c42\\u3002\\u89c1\\u5230\\u5ba2\\u4eba\\u5982\\u89c1\\u964c\\u751f\\u4eba\\uff0c\\u95e8\\u53e3\\u95e8\\u7ae5\\u6839\\u672c\\u6ca1\\u6709\\u3002\\u603b\\u7ed3\\uff1a\\u5982\\u679c\\u4e0d\\u662f\\u540c\\u4e8b\\u5acc\\u9ebb\\u70e6\\uff0c\\u6211\\u80af\\u5b9a\\u6362\\u5176\\u4ed6\\u9152\\u5e97\\u3002\\u5fe0\\u544a\\u6240\\u6709\\u51fa\\u5dee\\u7684\\u5144\\u5f1f\\uff0c\\u5b81\\u53ef\\u4f4f\\u5982\\u5bb6\\u4e00\\u7c7b\\u7684\\u9152\\u5e97\\uff0c\\u4e5f\\u5343\\u4e07\\u4e0d\\u8981\\u4f4f\\u8fd9\\u91cc,\\u53ea\\u4f1a\\u6bd4\\u4f60\\u60f3\\u8c61\\u7684\\u66f4\\u5dee\\uff0c\\u4e0d\\u4f1a\\u6bd4\\u4f60\\u60f3\\u8c61\\u7684\\u597d\\uff01\\u5bf9\\u4e8e\\u643a\\u7a0b\\u7684\\u63a8\\u8350\\u6211\\u611f\\u5230\\u5f88\\u75db\\u5fc3\\uff01\\u4f30\\u8ba1\\u662f\\u8fd9\\u5bb6\\u9152\\u5e97\\u7ed9\\u7684\\u56de\\u6263\\u591a\\u5427\\uff0c\\u8fd9\\u6837\\u7684\\u643a\\u7a0b\\u63a8\\u8350\\uff0c\\u53ea\\u4f1a\\u5bfc\\u81f4\\u6211\\u4ee5\\u540e\\u4e0d\\u76f8\\u4fe1\\u643a\\u7a0b\\uff01\\u5e76\\u544a\\u8bc9\\u6211\\u7684\\u540c\\u4e8b\\uff0c\\u4e0d\\u8981\\u76f8\\u4fe1\\u643a\\u7a0b\\uff01\\u6211\\u60f3\\u8bf4\\uff1a\\u6b3a\\u9a97\\u7684\\u5229\\u76ca\\u65e0\\u6cd5\\u957f\\u4e45\\uff0c\\u65e0\\u5f02\\u4e0e\\u996e\\u7504\\u6b62\\u6e34\\uff01\"],\n [{\n            'v': 459,\n            'f': \"459\",\n        },\n{\n            'v': 1,\n            'f': \"1\",\n        },\n\"\\u9152\\u5e97\\u670d\\u52a1\\u610f\\u8bc6\\u5f88\\u597d\\uff0c\\u5f88\\u70ed\\u60c5\\uff0c\\u4e3b\\u52a8\\u4ecb\\u7ecd\\u9152\\u5e97\\u7684\\u7279\\u8272\\u3002\\u611f\\u89c9\\u4e0d\\u9519\\u3002\"],\n [{\n            'v': 88,\n            'f': \"88\",\n        },\n{\n            'v': 0,\n            'f': \"0\",\n        },\n\"\\u4f4f\\u7684\\u623f\\u95f4\\u9760\\u8fd1\\u9a6c\\u8def\\uff0c\\u6bd4\\u8f83\\u5435\\u3002\\u623f\\u95f4\\u6709\\u80a1\\u5473\\u9053\\u3002\\u4e0d\\u5982\\u9526\\u6c5f\\u5e72\\u51c0\\u3002\\u4e0d\\u63a8\\u8350\\u5165\\u4f4f\\uff0c\\u65e9\\u996d\\u8fd8\\u53ef\\u4ee5\\u3002\"]],\n        columns: [[\"number\", \"index\"], [\"number\", \"label\"], [\"string\", \"review\"]],\n        columnOptions: [{\"width\": \"1px\", \"className\": \"index_column\"}],\n        rowsPerPage: 25,\n        helpUrl: \"https://colab.research.google.com/notebooks/data_table.ipynb\",\n        suppressOutputScrolling: true,\n        minimumWidth: undefined,\n      });\n    ",
            "text/html": [
              "\n",
              "  <div id=\"df-918673b0-6d85-4ffc-bceb-e2a78a51a630\">\n",
              "    <div class=\"colab-df-container\">\n",
              "      <div>\n",
              "<style scoped>\n",
              "    .dataframe tbody tr th:only-of-type {\n",
              "        vertical-align: middle;\n",
              "    }\n",
              "\n",
              "    .dataframe tbody tr th {\n",
              "        vertical-align: top;\n",
              "    }\n",
              "\n",
              "    .dataframe thead th {\n",
              "        text-align: right;\n",
              "    }\n",
              "</style>\n",
              "<table border=\"1\" class=\"dataframe\">\n",
              "  <thead>\n",
              "    <tr style=\"text-align: right;\">\n",
              "      <th></th>\n",
              "      <th>label</th>\n",
              "      <th>review</th>\n",
              "    </tr>\n",
              "  </thead>\n",
              "  <tbody>\n",
              "    <tr>\n",
              "      <th>194</th>\n",
              "      <td>0</td>\n",
              "      <td>看到网友的点评还有些不信，去了以后才知道什么叫全世界最脏，最差的酒店。</td>\n",
              "    </tr>\n",
              "    <tr>\n",
              "      <th>233</th>\n",
              "      <td>0</td>\n",
              "      <td>这酒店太旧了,大厅看上去还可以.房间的设施成旧不堪!卫生间的马桶真的都不走水的.早餐太一般了...</td>\n",
              "    </tr>\n",
              "    <tr>\n",
              "      <th>662</th>\n",
              "      <td>1</td>\n",
              "      <td>因为这里有免费的宽带,才预定了豪华单人大床房...下面是我的一些优缺点评价:优点:1.环境不...</td>\n",
              "    </tr>\n",
              "    <tr>\n",
              "      <th>415</th>\n",
              "      <td>1</td>\n",
              "      <td>7月25日到家人到泰山玩，通过携程订的华侨大厦的房间（说是搞活动，花280升级到360的房间...</td>\n",
              "    </tr>\n",
              "    <tr>\n",
              "      <th>57</th>\n",
              "      <td>0</td>\n",
              "      <td>整个房间也太小了点,所有的加一起大概才十平米左右!床单是脏的.</td>\n",
              "    </tr>\n",
              "    <tr>\n",
              "      <th>32</th>\n",
              "      <td>0</td>\n",
              "      <td>1酒店比较偏打车不方便2酒店楼上有KTV，晚上非常吵，特别是对住在五楼的房客。3前台接待，态...</td>\n",
              "    </tr>\n",
              "    <tr>\n",
              "      <th>68</th>\n",
              "      <td>0</td>\n",
              "      <td>鞋撑在云南的协议酒店少得可怜，应该下大力气多做些工作，把如家的店子也到处开一开，要不然我们这...</td>\n",
              "    </tr>\n",
              "    <tr>\n",
              "      <th>70</th>\n",
              "      <td>0</td>\n",
              "      <td>携程服务人员电话中向我推荐了此家酒店，向我说明这是四星酒店，客户评价都很好。住进去之后，很疑...</td>\n",
              "    </tr>\n",
              "    <tr>\n",
              "      <th>459</th>\n",
              "      <td>1</td>\n",
              "      <td>酒店服务意识很好，很热情，主动介绍酒店的特色。感觉不错。</td>\n",
              "    </tr>\n",
              "    <tr>\n",
              "      <th>88</th>\n",
              "      <td>0</td>\n",
              "      <td>住的房间靠近马路，比较吵。房间有股味道。不如锦江干净。不推荐入住，早饭还可以。</td>\n",
              "    </tr>\n",
              "  </tbody>\n",
              "</table>\n",
              "</div>\n",
              "      <button class=\"colab-df-convert\" onclick=\"convertToInteractive('df-918673b0-6d85-4ffc-bceb-e2a78a51a630')\"\n",
              "              title=\"Convert this dataframe to an interactive table.\"\n",
              "              style=\"display:none;\">\n",
              "        \n",
              "  <svg xmlns=\"http://www.w3.org/2000/svg\" height=\"24px\"viewBox=\"0 0 24 24\"\n",
              "       width=\"24px\">\n",
              "    <path d=\"M0 0h24v24H0V0z\" fill=\"none\"/>\n",
              "    <path d=\"M18.56 5.44l.94 2.06.94-2.06 2.06-.94-2.06-.94-.94-2.06-.94 2.06-2.06.94zm-11 1L8.5 8.5l.94-2.06 2.06-.94-2.06-.94L8.5 2.5l-.94 2.06-2.06.94zm10 10l.94 2.06.94-2.06 2.06-.94-2.06-.94-.94-2.06-.94 2.06-2.06.94z\"/><path d=\"M17.41 7.96l-1.37-1.37c-.4-.4-.92-.59-1.43-.59-.52 0-1.04.2-1.43.59L10.3 9.45l-7.72 7.72c-.78.78-.78 2.05 0 2.83L4 21.41c.39.39.9.59 1.41.59.51 0 1.02-.2 1.41-.59l7.78-7.78 2.81-2.81c.8-.78.8-2.07 0-2.86zM5.41 20L4 18.59l7.72-7.72 1.47 1.35L5.41 20z\"/>\n",
              "  </svg>\n",
              "      </button>\n",
              "      \n",
              "  <style>\n",
              "    .colab-df-container {\n",
              "      display:flex;\n",
              "      flex-wrap:wrap;\n",
              "      gap: 12px;\n",
              "    }\n",
              "\n",
              "    .colab-df-convert {\n",
              "      background-color: #E8F0FE;\n",
              "      border: none;\n",
              "      border-radius: 50%;\n",
              "      cursor: pointer;\n",
              "      display: none;\n",
              "      fill: #1967D2;\n",
              "      height: 32px;\n",
              "      padding: 0 0 0 0;\n",
              "      width: 32px;\n",
              "    }\n",
              "\n",
              "    .colab-df-convert:hover {\n",
              "      background-color: #E2EBFA;\n",
              "      box-shadow: 0px 1px 2px rgba(60, 64, 67, 0.3), 0px 1px 3px 1px rgba(60, 64, 67, 0.15);\n",
              "      fill: #174EA6;\n",
              "    }\n",
              "\n",
              "    [theme=dark] .colab-df-convert {\n",
              "      background-color: #3B4455;\n",
              "      fill: #D2E3FC;\n",
              "    }\n",
              "\n",
              "    [theme=dark] .colab-df-convert:hover {\n",
              "      background-color: #434B5C;\n",
              "      box-shadow: 0px 1px 3px 1px rgba(0, 0, 0, 0.15);\n",
              "      filter: drop-shadow(0px 1px 2px rgba(0, 0, 0, 0.3));\n",
              "      fill: #FFFFFF;\n",
              "    }\n",
              "  </style>\n",
              "\n",
              "      <script>\n",
              "        const buttonEl =\n",
              "          document.querySelector('#df-918673b0-6d85-4ffc-bceb-e2a78a51a630 button.colab-df-convert');\n",
              "        buttonEl.style.display =\n",
              "          google.colab.kernel.accessAllowed ? 'block' : 'none';\n",
              "\n",
              "        async function convertToInteractive(key) {\n",
              "          const element = document.querySelector('#df-918673b0-6d85-4ffc-bceb-e2a78a51a630');\n",
              "          const dataTable =\n",
              "            await google.colab.kernel.invokeFunction('convertToInteractive',\n",
              "                                                     [key], {});\n",
              "          if (!dataTable) return;\n",
              "\n",
              "          const docLinkHtml = 'Like what you see? Visit the ' +\n",
              "            '<a target=\"_blank\" href=https://colab.research.google.com/notebooks/data_table.ipynb>data table notebook</a>'\n",
              "            + ' to learn more about interactive tables.';\n",
              "          element.innerHTML = '';\n",
              "          dataTable['output_type'] = 'display_data';\n",
              "          await google.colab.output.renderOutput(dataTable, element);\n",
              "          const docLink = document.createElement('div');\n",
              "          docLink.innerHTML = docLinkHtml;\n",
              "          element.appendChild(docLink);\n",
              "        }\n",
              "      </script>\n",
              "    </div>\n",
              "  </div>\n",
              "  "
            ],
            "text/plain": [
              "     label                                             review\n",
              "194      0                看到网友的点评还有些不信，去了以后才知道什么叫全世界最脏，最差的酒店。\n",
              "233      0  这酒店太旧了,大厅看上去还可以.房间的设施成旧不堪!卫生间的马桶真的都不走水的.早餐太一般了...\n",
              "662      1  因为这里有免费的宽带,才预定了豪华单人大床房...下面是我的一些优缺点评价:优点:1.环境不...\n",
              "415      1  7月25日到家人到泰山玩，通过携程订的华侨大厦的房间（说是搞活动，花280升级到360的房间...\n",
              "57       0                    整个房间也太小了点,所有的加一起大概才十平米左右!床单是脏的.\n",
              "32       0  1酒店比较偏打车不方便2酒店楼上有KTV，晚上非常吵，特别是对住在五楼的房客。3前台接待，态...\n",
              "68       0  鞋撑在云南的协议酒店少得可怜，应该下大力气多做些工作，把如家的店子也到处开一开，要不然我们这...\n",
              "70       0  携程服务人员电话中向我推荐了此家酒店，向我说明这是四星酒店，客户评价都很好。住进去之后，很疑...\n",
              "459      1                       酒店服务意识很好，很热情，主动介绍酒店的特色。感觉不错。\n",
              "88       0            住的房间靠近马路，比较吵。房间有股味道。不如锦江干净。不推荐入住，早饭还可以。"
            ]
          },
          "execution_count": 4,
          "metadata": {},
          "output_type": "execute_result"
        }
      ],
      "source": [
        "# 数据\n",
        "from google.colab import data_table\n",
        "from vega_datasets import data\n",
        "# colab 插件 开启 datatable\n",
        "data_table.enable_dataframe_formatter()\n",
        "\n",
        "df = pd.read_csv(\"train.csv\")\n",
        "df = df.sample(frac=1)\n",
        "df[:10]"
      ]
    },
    {
      "cell_type": "code",
      "execution_count": null,
      "metadata": {
        "colab": {
          "base_uri": "https://localhost:8080/",
          "height": 363
        },
        "id": "ZgPDvKQ6w4MW",
        "outputId": "2bbe6e2c-f6cf-4738-c090-ab2c69f45eca"
      },
      "outputs": [
        {
          "data": {
            "text/plain": [
              "['看到网友的点评还有些不信，去了以后才知道什么叫全世界最脏，最差的酒店。',\n",
              " '这酒店太旧了,大厅看上去还可以.房间的设施成旧不堪!卫生间的马桶真的都不走水的.早餐太一般了.要去入住的朋友要有思想准备,期望值不要太高.400多一晚说实话不太值!!',\n",
              " '因为这里有免费的宽带,才预定了豪华单人大床房...下面是我的一些优缺点评价:优点:1.环境不错,别墅型的房子..到处种的椰子树..一个大游泳池.2.地里位置不错,属于市中心..2分钟路程一个大型超市(对于本地来说),..3分钟路程吃饭的地方很方便,走路2分钟不到就有水果市场..晚上周围的马路上也相当热闹3.房间还算干净..4.有早餐,随便对付一下应该是没有问题的...缺点:1.房间比较小,热水好像是有时间才有的..因为我下午洗澡一般都没有热水2.晚上上网的速度跟牛一样,根本打不开网页..不知道什么原因...问服务台,回答是\"我们也是这样的\"总体来说,200多的房价对于这样的酒店算是还可以了...我们出门总不能要求酒店就跟自己的家一样..再说了就是在家你可能也有时候会抱怨卫生间有味道,厨房太小..我们出来了总是随遇而安吧...祝大家旅程愉快..']"
            ]
          },
          "metadata": {},
          "output_type": "display_data"
        },
        {
          "data": {
            "text/plain": [
              "[0, 0, 1]"
            ]
          },
          "metadata": {},
          "output_type": "display_data"
        },
        {
          "name": "stderr",
          "output_type": "stream",
          "text": [
            "Building prefix dict from the default dictionary ...\n",
            "DEBUG:jieba:Building prefix dict from the default dictionary ...\n",
            "Dumping model to file cache /tmp/jieba.cache\n",
            "DEBUG:jieba:Dumping model to file cache /tmp/jieba.cache\n",
            "Loading model cost 0.816 seconds.\n",
            "DEBUG:jieba:Loading model cost 0.816 seconds.\n",
            "Prefix dict has been built successfully.\n",
            "DEBUG:jieba:Prefix dict has been built successfully.\n"
          ]
        }
      ],
      "source": [
        "# 转为数组\n",
        "seq = df[\"review\"].tolist()\n",
        "label = df[\"label\"].tolist()\n",
        "display(seq[:3])\n",
        "display(label[:3])\n",
        "\n",
        "#分词\n",
        "seq_cut = []\n",
        "seq_cut_list = []\n",
        "for i in seq:\n",
        "    cut_res = list(jieba.cut(i))\n",
        "    # 收集每次出现的单词\n",
        "    seq_cut = seq_cut + cut_res\n",
        "    # 收集每次出现的句子\n",
        "    seq_cut_list.append(cut_res)\n",
        "word2num = sorted(collections.Counter(seq_cut).items(), key=lambda item: item[1], reverse=True)\n",
        "# 所有词\n",
        "vocab = list(set(seq_cut))\n",
        "# 词对应索引\n",
        "word2index = {w[0]: i+1 for i, w in enumerate(word2num)}\n",
        "word2index[\"PAD\"] = 0"
      ]
    },
    {
      "cell_type": "code",
      "execution_count": null,
      "metadata": {
        "id": "FiBz_Gq2w5K_"
      },
      "outputs": [],
      "source": [
        "# 词典大小\n",
        "vocab_size = len(word2index)\n",
        "# 句子最大长度\n",
        "seq_length = max([len(i) for i in seq_cut_list])\n",
        "embed_size = 3\n",
        "num_classes = 2\n",
        "num_hiddens = 5"
      ]
    },
    {
      "cell_type": "code",
      "execution_count": null,
      "metadata": {
        "id": "s8v1TYqYw60q"
      },
      "outputs": [],
      "source": [
        "def prepare_data(seq,label):\n",
        "    inputs = []\n",
        "    for i in seq:\n",
        "        seq_index = [word2index[word] for word in i]\n",
        "        # 句子长度补齐\n",
        "        if len(seq_index)!=seq_length:\n",
        "            seq_index = seq_index + [0] * (seq_length-len(seq_index))\n",
        "        inputs.append(seq_index)\n",
        "    targets = [i for i in label]\n",
        "    return inputs, targets\n",
        "input_batch_old,target_batch_old = prepare_data(seq_cut_list,label)\n",
        "input_batch,target_batch = Variable(torch.LongTensor(input_batch_old)),Variable(torch.LongTensor(target_batch_old))"
      ]
    },
    {
      "cell_type": "code",
      "execution_count": null,
      "metadata": {
        "colab": {
          "base_uri": "https://localhost:8080/"
        },
        "id": "8AxkGPqQw9-a",
        "outputId": "8c5f4efe-c3fa-4875-eef9-472826353646"
      },
      "outputs": [
        {
          "data": {
            "text/plain": [
              "device(type='cuda', index=0)"
            ]
          },
          "execution_count": 8,
          "metadata": {},
          "output_type": "execute_result"
        }
      ],
      "source": [
        "def try_gpu(i=0):\n",
        "    \"\"\"Return gpu(i) if exists, otherwise return cpu().\"\"\"\n",
        "    if torch.cuda.device_count() >= i + 1:\n",
        "        return torch.device(f'cuda:{i}')\n",
        "    return torch.device('cpu')\n",
        "device = try_gpu()\n",
        "device"
      ]
    },
    {
      "cell_type": "code",
      "execution_count": null,
      "metadata": {
        "id": "e-lsMYekw_CU"
      },
      "outputs": [],
      "source": [
        "class BiLSTM(nn.Module):\n",
        "    def __init__(self, **kwargs):\n",
        "        super(BiLSTM, self).__init__(**kwargs)\n",
        "        self.embedding = nn.Embedding(vocab_size, embed_size)\n",
        "        # 将bidirectional设置为True以获取双向循环神经⽹络\n",
        "        self.encoder = nn.LSTM(embed_size, num_hiddens, num_layers=2,bidirectional=True)\n",
        "        self.decoder = nn.Linear(4 * num_hiddens, 2)\n",
        "    def forward(self, inputs):\n",
        "        # inputs的形状是（批量⼤⼩，时间步数）\n",
        "        # 因为⻓短期记忆⽹络要求其输⼊的第⼀个维度是时间维，\n",
        "        # 所以在获得词元表⽰之前，输⼊会被转置。\n",
        "        # 输出形状为（时间步数，批量⼤⼩，词向量维度）\n",
        "        embeddings = self.embedding(inputs.T)\n",
        "        self.encoder.flatten_parameters()\n",
        "        # 返回上⼀个隐藏层在不同时间步的隐状态，\n",
        "        # outputs的形状是（时间步数，批量⼤⼩，2*隐藏单元数）\n",
        "        outputs, _ = self.encoder(embeddings)\n",
        "        # 连结初始和最终时间步的隐状态，作为全连接层的输⼊，\n",
        "        # 其形状为（批量⼤⼩，4*隐藏单元数）\n",
        "        encoding = torch.cat((outputs[0], outputs[-1]), dim=1)\n",
        "        outs = self.decoder(encoding)\n",
        "        return outs"
      ]
    },
    {
      "cell_type": "code",
      "execution_count": null,
      "metadata": {
        "id": "WlrPA6mHxAZR"
      },
      "outputs": [],
      "source": [
        "net = BiLSTM()\n",
        "criterion = nn.CrossEntropyLoss()\n",
        "optimizer = optim.Adam(net.parameters(), lr=0.001)\n",
        "X = input_batch.to(device)\n",
        "net.to(device)\n",
        "Y = target_batch.to(device)"
      ]
    },
    {
      "cell_type": "code",
      "execution_count": null,
      "metadata": {
        "colab": {
          "base_uri": "https://localhost:8080/"
        },
        "id": "cUN7AMxOxBaq",
        "outputId": "68bc7b8b-2d3f-42b2-b492-cf701c88a1ee"
      },
      "outputs": [
        {
          "name": "stdout",
          "output_type": "stream",
          "text": [
            "Epoch: 0200 loss = 0.302109\n",
            "Epoch: 0400 loss = 0.089808\n",
            "Epoch: 0600 loss = 0.049415\n",
            "Epoch: 0800 loss = 0.018903\n",
            "Epoch: 1000 loss = 0.007632\n"
          ]
        }
      ],
      "source": [
        "# 训练\n",
        "for epoch in range(1000):\n",
        "    net.train()\n",
        "    pred = net(X)\n",
        "    loss = criterion(pred, Y)\n",
        "    if (epoch+1)%200==0:\n",
        "      print('Epoch:', '%04d' % (epoch + 1), 'loss =', '{:.6f}'.format(loss))\n",
        "    optimizer.zero_grad()\n",
        "    loss.backward()\n",
        "    optimizer.step()"
      ]
    },
    {
      "cell_type": "markdown",
      "metadata": {
        "id": "e8CwqGMmHRZV"
      },
      "source": [
        "### dataloader&trainer构建"
      ]
    },
    {
      "cell_type": "markdown",
      "metadata": {
        "id": "W0cDo7JpHhb4"
      },
      "source": [
        "#### dataloader"
      ]
    },
    {
      "cell_type": "code",
      "execution_count": null,
      "metadata": {
        "id": "Rg0XNgW_WiiV"
      },
      "outputs": [],
      "source": [
        "import random"
      ]
    },
    {
      "cell_type": "code",
      "execution_count": null,
      "metadata": {
        "id": "KA9_wutBHhJ4"
      },
      "outputs": [],
      "source": [
        "def seq_data_iter_sequential(train, label, batch_size, num_steps=1):\n",
        "    \"\"\"使⽤顺序分区⽣成⼀个⼩批量⼦序列\"\"\"\n",
        "    # 从随机偏移量开始划分序列\n",
        "    item_len = len(train[0])\n",
        "\n",
        "    num_tokens = (len(train) // batch_size) * batch_size\n",
        "    Xs = torch.tensor(train[:num_tokens])\n",
        "    Ys = torch.tensor(label[:num_tokens])\n",
        "\n",
        "    Xs, Ys = Xs.reshape(-1, batch_size, item_len), Ys.reshape(-1,batch_size)\n",
        "    num_batches = Xs.shape[0] // num_steps\n",
        "    for i in range(0, num_steps * num_batches, num_steps):\n",
        "        X = Xs[i]\n",
        "        Y = Ys[i]\n",
        "        yield X, Y"
      ]
    },
    {
      "cell_type": "code",
      "execution_count": null,
      "metadata": {
        "colab": {
          "base_uri": "https://localhost:8080/"
        },
        "id": "MV0h0esBlxYo",
        "outputId": "c9e94431-246a-4a50-c0d0-089098da2881"
      },
      "outputs": [
        {
          "name": "stdout",
          "output_type": "stream",
          "text": [
            "x: tensor([[ 0,  1,  2,  3,  4,  5,  6,  7,  8,  9, 10, 11, 12, 13, 14, 15, 16, 17,\n",
            "         18, 19],\n",
            "        [20, 21, 22, 23, 24, 25, 26, 27, 28, 29, 30, 31, 32, 33, 34, 35, 36, 37,\n",
            "         38, 39],\n",
            "        [40, 41, 42, 43, 44, 45, 46, 47, 48, 49, 50, 51, 52, 53, 54, 55, 56, 57,\n",
            "         58, 59]]) \n",
            "y: tensor([0, 1, 2])\n"
          ]
        }
      ],
      "source": [
        "# seq_data_iter_sequential 使用demo\n",
        "test_train_seq = []\n",
        "for i in range(35):\n",
        "  test_train_seq.append(list(range(i*20,(i+1)*20)))\n",
        "\n",
        "test_label_seq = list(range(0,35))\n",
        "for i,j in seq_data_iter_sequential(test_train_seq,test_label_seq,3):\n",
        "  print(\"x:\",i,\"\\ny:\",j)\n",
        "  break"
      ]
    },
    {
      "cell_type": "code",
      "execution_count": null,
      "metadata": {
        "id": "gg2eFo_fHQ_G"
      },
      "outputs": [],
      "source": [
        "# loader类\n",
        "class DataLoader:\n",
        "    \"\"\"An iterator to load sequence data.\"\"\"\n",
        "    def __init__(self, batch_size, num_steps=1):\n",
        "        self.data_iter_fn = seq_data_iter_sequential\n",
        "        self.train_data, self.train_label = input_batch_old, target_batch_old\n",
        "        self.batch_size = batch_size\n",
        "        self.num_batches = len(self.train_data) // batch_size\n",
        "\n",
        "    def __iter__(self):\n",
        "        return self.data_iter_fn(self.train_data, self.train_label, self.batch_size)"
      ]
    },
    {
      "cell_type": "code",
      "execution_count": null,
      "metadata": {
        "id": "55ORxFAZlyJE"
      },
      "outputs": [],
      "source": [
        "# load方法\n",
        "def load_data(batch_size):\n",
        "  \"\"\"返回数据集的迭代器\"\"\"\n",
        "  data_iter = DataLoader(batch_size)\n",
        "  return data_iter"
      ]
    },
    {
      "cell_type": "markdown",
      "metadata": {
        "id": "t1-hQ121GBli"
      },
      "source": [
        "#### trainer"
      ]
    },
    {
      "cell_type": "code",
      "execution_count": null,
      "metadata": {
        "colab": {
          "base_uri": "https://localhost:8080/",
          "height": 254
        },
        "id": "t79n7upAxX6f",
        "outputId": "722cf50e-2bf0-41ca-f35c-76cd9583bcb9"
      },
      "outputs": [
        {
          "name": "stdout",
          "output_type": "stream",
          "text": [
            "每个batch数据的内容\n"
          ]
        },
        {
          "data": {
            "application/vnd.google.colaboratory.intrinsic+json": {
              "type": "string"
            },
            "text/plain": [
              "'X:'"
            ]
          },
          "metadata": {},
          "output_type": "display_data"
        },
        {
          "data": {
            "text/plain": [
              "tensor([[ 315, 1127,    2,  ...,    0,    0,    0],\n",
              "        [  93,    6,  991,  ...,    0,    0,    0],\n",
              "        [  97,  145,   19,  ...,    0,    0,    0],\n",
              "        ...,\n",
              "        [  56, 1749,  654,  ...,    0,    0,    0],\n",
              "        [  65,   31,    2,  ...,    0,    0,    0],\n",
              "        [  16,  325,   52,  ...,    0,    0,    0]])"
            ]
          },
          "metadata": {},
          "output_type": "display_data"
        },
        {
          "data": {
            "application/vnd.google.colaboratory.intrinsic+json": {
              "type": "string"
            },
            "text/plain": [
              "'Y:'"
            ]
          },
          "metadata": {},
          "output_type": "display_data"
        },
        {
          "data": {
            "text/plain": [
              "tensor([0, 0, 1, 1, 0, 0, 0, 0, 1, 0, 0, 1, 1, 1, 1, 0, 1, 1, 0, 0, 1, 0, 1, 0,\n",
              "        1, 0, 1, 1, 0, 0, 1, 0, 1, 0, 0, 0, 0, 1, 0, 0, 1, 1, 1, 0, 0, 0, 1, 0,\n",
              "        0, 1, 0, 1, 1, 0, 0, 1, 0, 1, 1, 0, 0, 1, 0, 0])"
            ]
          },
          "metadata": {},
          "output_type": "display_data"
        }
      ],
      "source": [
        "batch_size = 64\n",
        "train_iter = load_data(batch_size)\n",
        "for x,y in train_iter:\n",
        "  print(\"每个batch数据的内容\")\n",
        "  display(\"X:\",x,\"Y:\",y)\n",
        "  break"
      ]
    },
    {
      "cell_type": "code",
      "execution_count": null,
      "metadata": {
        "id": "9fWNAWI6Zz4Q"
      },
      "outputs": [],
      "source": [
        "def accuracy(y_hat, y):\n",
        "  \"\"\"Compute the number of correct predictions.\"\"\"\n",
        "  if len(y_hat.shape) > 1 and y_hat.shape[1] > 1:\n",
        "      y_hat = argmax(y_hat, axis=1)\n",
        "  cmp = astype(y_hat, y.dtype) == y\n",
        "  return float(reduce_sum(astype(cmp, y.dtype)))\n",
        "\n",
        "def train_one_batch(net,x,y,loss,trainer,device):\n",
        "  x = x.to(device)\n",
        "  y = y.to(device)\n",
        "\n",
        "  trainer.zero_grad()\n",
        "  pred = net(x)\n",
        "  l = loss(pred, y)\n",
        "  l.sum().backward()\n",
        "  trainer.step()\n",
        "  train_loss_sum = l.sum()\n",
        "  train_acc_sum = accuracy(pred, y)\n",
        "  return train_loss_sum, train_acc_sum\n",
        "\n",
        "argmax = lambda x, *args, **kwargs: x.argmax(*args, **kwargs)\n",
        "astype = lambda x, *args, **kwargs: x.type(*args, **kwargs)\n",
        "reduce_sum = lambda x, *args, **kwargs: x.sum(*args, **kwargs)"
      ]
    },
    {
      "cell_type": "code",
      "execution_count": null,
      "metadata": {
        "id": "HhHzG9GlvdJS"
      },
      "outputs": [],
      "source": [
        "def train(net, train_iter, test_iter, loss, trainer, num_epochs,device):\n",
        "    \"\"\"Train a model with GPU\"\"\"\n",
        "    num_batches = train_iter.num_batches\n",
        "    net.to(device)\n",
        "    net.train()\n",
        "\n",
        "    for epoch in range(num_epochs):\n",
        "        # Sum of training loss, sum of training accuracy, no. of examples,\n",
        "        # no. of predictions\n",
        "        for i, (features, labels) in enumerate(train_iter):\n",
        "            l, acc = train_one_batch(net, features, labels, loss, trainer,device)\n",
        "            if (i + 1) % (num_batches) == 0 or i == num_batches - 1:\n",
        "                print(\"epoch:\",epoch,\"acc:\",acc,\"loss\",l)\n",
        "    # print(f'loss {metric[0] / metric[2]:.3f}, train acc '\n",
        "    #       f'{metric[1] / metric[3]:.3f}, test acc {test_acc:.3f}')\n",
        "    # print(f'{metric[2] * num_epochs / timer.sum():.1f} examples/sec on '\n",
        "    #       f'{str(devices)}')"
      ]
    },
    {
      "cell_type": "code",
      "execution_count": null,
      "metadata": {
        "colab": {
          "base_uri": "https://localhost:8080/"
        },
        "id": "RTRVhGuzy74d",
        "outputId": "e8fe994f-970b-411b-f7a1-67560f3517af"
      },
      "outputs": [
        {
          "name": "stdout",
          "output_type": "stream",
          "text": [
            "epoch: 0 acc: 28.0 loss tensor(44.5319, device='cuda:0', grad_fn=<SumBackward0>)\n",
            "epoch: 1 acc: 39.0 loss tensor(44.2170, device='cuda:0', grad_fn=<SumBackward0>)\n",
            "epoch: 2 acc: 40.0 loss tensor(43.3062, device='cuda:0', grad_fn=<SumBackward0>)\n",
            "epoch: 3 acc: 44.0 loss tensor(39.2422, device='cuda:0', grad_fn=<SumBackward0>)\n",
            "epoch: 4 acc: 45.0 loss tensor(36.0559, device='cuda:0', grad_fn=<SumBackward0>)\n",
            "epoch: 5 acc: 45.0 loss tensor(33.6071, device='cuda:0', grad_fn=<SumBackward0>)\n",
            "epoch: 6 acc: 51.0 loss tensor(28.7657, device='cuda:0', grad_fn=<SumBackward0>)\n",
            "epoch: 7 acc: 48.0 loss tensor(32.8570, device='cuda:0', grad_fn=<SumBackward0>)\n",
            "epoch: 8 acc: 57.0 loss tensor(20.5080, device='cuda:0', grad_fn=<SumBackward0>)\n",
            "epoch: 9 acc: 58.0 loss tensor(18.3792, device='cuda:0', grad_fn=<SumBackward0>)\n",
            "epoch: 10 acc: 58.0 loss tensor(18.3021, device='cuda:0', grad_fn=<SumBackward0>)\n",
            "epoch: 11 acc: 59.0 loss tensor(15.5606, device='cuda:0', grad_fn=<SumBackward0>)\n",
            "epoch: 12 acc: 59.0 loss tensor(14.2446, device='cuda:0', grad_fn=<SumBackward0>)\n",
            "epoch: 13 acc: 60.0 loss tensor(11.2872, device='cuda:0', grad_fn=<SumBackward0>)\n",
            "epoch: 14 acc: 61.0 loss tensor(9.9811, device='cuda:0', grad_fn=<SumBackward0>)\n",
            "epoch: 15 acc: 57.0 loss tensor(18.6218, device='cuda:0', grad_fn=<SumBackward0>)\n",
            "epoch: 16 acc: 62.0 loss tensor(8.3685, device='cuda:0', grad_fn=<SumBackward0>)\n",
            "epoch: 17 acc: 62.0 loss tensor(7.2464, device='cuda:0', grad_fn=<SumBackward0>)\n",
            "epoch: 18 acc: 62.0 loss tensor(5.7561, device='cuda:0', grad_fn=<SumBackward0>)\n",
            "epoch: 19 acc: 63.0 loss tensor(3.9188, device='cuda:0', grad_fn=<SumBackward0>)\n"
          ]
        }
      ],
      "source": [
        "lr, num_epochs = 0.01, 20\n",
        "net = BiLSTM()\n",
        "optimizer = optim.Adam(net.parameters(), lr=lr)\n",
        "loss = nn.CrossEntropyLoss(reduction=\"none\")\n",
        "train(net,train_iter,0,loss,optimizer,num_epochs,device)"
      ]
    },
    {
      "cell_type": "markdown",
      "metadata": {
        "id": "6cgA64MOioKX"
      },
      "source": [
        "## 预训练（word2vector和bert）"
      ]
    },
    {
      "cell_type": "markdown",
      "metadata": {
        "id": "oxecqp7KRWMT"
      },
      "source": []
    },
    {
      "cell_type": "markdown",
      "metadata": {
        "id": "MTErRN-luOYA"
      },
      "source": [
        "### word2vector\n",
        "skip-gram\n",
        "<div align=center> \n",
        "<img src=\"https://aweidao1.com/image/thumb/2022-09-22/1663852754249744PKvhqY9L.png\" width=\"60%\"/>\n",
        "</div>\n",
        "\n",
        "cbow\n",
        "<div align=center> \n",
        "<img src=\"https://aweidao1.com/image/thumb/2022-09-22/1663852776354795QV04IncU.png\" width=\"60%\"/>\n",
        "</div>\n",
        "\n",
        "任务可视化\n",
        "\n",
        "可以知道的是在skip-gram里，我们需要的是将center词做输入，预测上下文词，是一个多分类任务，类别数是词典的上下文大小。\n",
        "<div align = center>\n",
        "<img src=\"https://aweidao1.com/image/thumb/2022-09-22/1663853672009861TxJ5WEC2.png\"/>\n",
        "</div>\n",
        "\n",
        "cbow同理，上下文预测中心词，分类数为词典的大小。"
      ]
    },
    {
      "cell_type": "code",
      "execution_count": null,
      "metadata": {
        "id": "xaAUOHzdin-Q"
      },
      "outputs": [],
      "source": [
        "import math\n",
        "import os\n",
        "import random\n",
        "import torch\n",
        "from d2l import torch as d2l"
      ]
    },
    {
      "cell_type": "code",
      "execution_count": null,
      "metadata": {
        "colab": {
          "base_uri": "https://localhost:8080/",
          "height": 53
        },
        "id": "ubzX6ORI--2w",
        "outputId": "d8c3d51d-bc6c-4424-c0b8-0525f8065657"
      },
      "outputs": [
        {
          "name": "stdout",
          "output_type": "stream",
          "text": [
            "Downloading ../data/ptb.zip from http://d2l-data.s3-accelerate.amazonaws.com/ptb.zip...\n"
          ]
        },
        {
          "data": {
            "application/vnd.google.colaboratory.intrinsic+json": {
              "type": "string"
            },
            "text/plain": [
              "'# sentences数: 42069'"
            ]
          },
          "execution_count": 22,
          "metadata": {},
          "output_type": "execute_result"
        }
      ],
      "source": [
        "d2l.DATA_HUB['ptb'] = (d2l.DATA_URL + 'ptb.zip',\n",
        "'319d85e578af0cdc590547f26231e4e31cdf1e42')\n",
        "\n",
        "def read_ptb():\n",
        "  \"\"\"将PTB数据集加载到⽂本⾏的列表中\"\"\"\n",
        "  data_dir = d2l.download_extract('ptb')\n",
        "  # Readthetrainingset.\n",
        "  with open(os.path.join(data_dir, 'ptb.train.txt')) as f:\n",
        "    raw_text = f.read()\n",
        "  return [line.split() for line in raw_text.split('\\n')]\n",
        "sentences = read_ptb()\n",
        "f'# sentences数: {len(sentences)}'"
      ]
    },
    {
      "cell_type": "code",
      "execution_count": null,
      "metadata": {
        "colab": {
          "base_uri": "https://localhost:8080/",
          "height": 35
        },
        "id": "WGECFq6m_MDw",
        "outputId": "200e7577-2b6c-4301-b293-fe20fb4d8b2d"
      },
      "outputs": [
        {
          "data": {
            "application/vnd.google.colaboratory.intrinsic+json": {
              "type": "string"
            },
            "text/plain": [
              "'vocab size: 6719'"
            ]
          },
          "execution_count": 23,
          "metadata": {},
          "output_type": "execute_result"
        }
      ],
      "source": [
        "vocab = d2l.Vocab(sentences, min_freq=10)\n",
        "f'vocab size: {len(vocab)}'"
      ]
    },
    {
      "cell_type": "markdown",
      "metadata": {
        "id": "dqcJoXfX_kd1"
      },
      "source": [
        "#### 下采样\n",
        "针对没有太多意义的高频词汇使用下采样降低出现次数，公式如下\n",
        "\n",
        "$$ P(w_i) = max(1-\\sqrt{t\\over f(w_i)},0). $$\n",
        "\n",
        "&emsp;&emsp;&emsp;$f(w_i)$是$w_i$的出现词数与数据集中的总词数的⽐率</br>&emsp;&emsp;&emsp;常量t是超参数（在实验中为$10^{−4}$）"
      ]
    },
    {
      "cell_type": "code",
      "execution_count": null,
      "metadata": {
        "id": "vWF8BDPp_NJY"
      },
      "outputs": [],
      "source": [
        "def subsample(sentences, vocab):\n",
        "  \"\"\"下采样⾼频词\"\"\"\n",
        "  # 排除未知词元'<unk>'\n",
        "  sentences = [[token for token in line if vocab[token] != vocab.unk] for line in sentences]\n",
        "  # 计算次元出现次数 type:dict\n",
        "  counter = d2l.count_corpus(sentences)\n",
        "  num_tokens = sum(counter.values())\n",
        "  # 如果在下采样期间保留词元，则返回True\n",
        "  def keep(token):\n",
        "    # 下采样公式\n",
        "    # return Boolean \n",
        "    # 判断是否保留\n",
        "    return (random.uniform(0, 1) < math.sqrt(1e-4 / counter[token] * num_tokens))\n",
        "  return ([[token for token in line if keep(token)] for line in sentences],counter)\n",
        "subsampled, counter = subsample(sentences, vocab)"
      ]
    },
    {
      "cell_type": "code",
      "execution_count": null,
      "metadata": {
        "colab": {
          "base_uri": "https://localhost:8080/",
          "height": 263
        },
        "id": "Yt_d2jC0CUh7",
        "outputId": "9ecd2d5b-073c-449d-87ff-4e8bf778690a"
      },
      "outputs": [
        {
          "data": {
            "image/svg+xml": "<?xml version=\"1.0\" encoding=\"utf-8\" standalone=\"no\"?>\n<!DOCTYPE svg PUBLIC \"-//W3C//DTD SVG 1.1//EN\"\n  \"http://www.w3.org/Graphics/SVG/1.1/DTD/svg11.dtd\">\n<!-- Created with matplotlib (https://matplotlib.org/) -->\n<svg height=\"182.423091pt\" version=\"1.1\" viewBox=\"0 0 262.190625 182.423091\" width=\"262.190625pt\" xmlns=\"http://www.w3.org/2000/svg\" xmlns:xlink=\"http://www.w3.org/1999/xlink\">\n <defs>\n  <style type=\"text/css\">\n*{stroke-linecap:butt;stroke-linejoin:round;}\n  </style>\n </defs>\n <g id=\"figure_1\">\n  <g id=\"patch_1\">\n   <path d=\"M 0 182.423091 \nL 262.190625 182.423091 \nL 262.190625 0 \nL 0 0 \nz\n\" style=\"fill:none;\"/>\n  </g>\n  <g id=\"axes_1\">\n   <g id=\"patch_2\">\n    <path d=\"M 59.690625 144.866841 \nL 254.990625 144.866841 \nL 254.990625 8.966841 \nL 59.690625 8.966841 \nz\n\" style=\"fill:#ffffff;\"/>\n   </g>\n   <g id=\"patch_3\">\n    <path clip-path=\"url(#peeb2311a04)\" d=\"M 68.567898 144.866841 \nL 75.814651 144.866841 \nL 75.814651 123.635436 \nL 68.567898 123.635436 \nz\n\" style=\"fill:#1f77b4;\"/>\n   </g>\n   <g id=\"patch_4\">\n    <path clip-path=\"url(#peeb2311a04)\" d=\"M 86.684781 144.866841 \nL 93.931534 144.866841 \nL 93.931534 86.00257 \nL 86.684781 86.00257 \nz\n\" style=\"fill:#1f77b4;\"/>\n   </g>\n   <g id=\"patch_5\">\n    <path clip-path=\"url(#peeb2311a04)\" d=\"M 104.801664 144.866841 \nL 112.048417 144.866841 \nL 112.048417 76.862089 \nL 104.801664 76.862089 \nz\n\" style=\"fill:#1f77b4;\"/>\n   </g>\n   <g id=\"patch_6\">\n    <path clip-path=\"url(#peeb2311a04)\" d=\"M 122.918547 144.866841 \nL 130.1653 144.866841 \nL 130.1653 96.728044 \nL 122.918547 96.728044 \nz\n\" style=\"fill:#1f77b4;\"/>\n   </g>\n   <g id=\"patch_7\">\n    <path clip-path=\"url(#peeb2311a04)\" d=\"M 141.03543 144.866841 \nL 148.282183 144.866841 \nL 148.282183 124.797407 \nL 141.03543 124.797407 \nz\n\" style=\"fill:#1f77b4;\"/>\n   </g>\n   <g id=\"patch_8\">\n    <path clip-path=\"url(#peeb2311a04)\" d=\"M 159.152313 144.866841 \nL 166.399067 144.866841 \nL 166.399067 138.050301 \nL 159.152313 138.050301 \nz\n\" style=\"fill:#1f77b4;\"/>\n   </g>\n   <g id=\"patch_9\">\n    <path clip-path=\"url(#peeb2311a04)\" d=\"M 177.269196 144.866841 \nL 184.51595 144.866841 \nL 184.51595 143.324686 \nL 177.269196 143.324686 \nz\n\" style=\"fill:#1f77b4;\"/>\n   </g>\n   <g id=\"patch_10\">\n    <path clip-path=\"url(#peeb2311a04)\" d=\"M 195.38608 144.866841 \nL 202.632833 144.866841 \nL 202.632833 144.475947 \nL 195.38608 144.475947 \nz\n\" style=\"fill:#1f77b4;\"/>\n   </g>\n   <g id=\"patch_11\">\n    <path clip-path=\"url(#peeb2311a04)\" d=\"M 213.502963 144.866841 \nL 220.749716 144.866841 \nL 220.749716 144.732973 \nL 213.502963 144.732973 \nz\n\" style=\"fill:#1f77b4;\"/>\n   </g>\n   <g id=\"patch_12\">\n    <path clip-path=\"url(#peeb2311a04)\" d=\"M 231.619846 144.866841 \nL 238.866599 144.866841 \nL 238.866599 144.791875 \nL 231.619846 144.791875 \nz\n\" style=\"fill:#1f77b4;\"/>\n   </g>\n   <g id=\"patch_13\">\n    <path clip-path=\"url(#peeb2311a04)\" d=\"M 75.814651 144.866841 \nL 83.061404 144.866841 \nL 83.061404 15.438269 \nL 75.814651 15.438269 \nz\n\" style=\"fill:url(#hde83f9028b);\"/>\n   </g>\n   <g id=\"patch_14\">\n    <path clip-path=\"url(#peeb2311a04)\" d=\"M 93.931534 144.866841 \nL 101.178287 144.866841 \nL 101.178287 59.480717 \nL 93.931534 59.480717 \nz\n\" style=\"fill:url(#hde83f9028b);\"/>\n   </g>\n   <g id=\"patch_15\">\n    <path clip-path=\"url(#peeb2311a04)\" d=\"M 112.048417 144.866841 \nL 119.29517 144.866841 \nL 119.29517 134.944572 \nL 112.048417 134.944572 \nz\n\" style=\"fill:url(#hde83f9028b);\"/>\n   </g>\n   <g id=\"patch_16\">\n    <path clip-path=\"url(#peeb2311a04)\" d=\"M 130.1653 144.866841 \nL 137.412054 144.866841 \nL 137.412054 144.384917 \nL 130.1653 144.384917 \nz\n\" style=\"fill:url(#hde83f9028b);\"/>\n   </g>\n   <g id=\"patch_17\">\n    <path clip-path=\"url(#peeb2311a04)\" d=\"M 148.282183 144.866841 \nL 155.528937 144.866841 \nL 155.528937 144.818648 \nL 148.282183 144.818648 \nz\n\" style=\"fill:url(#hde83f9028b);\"/>\n   </g>\n   <g id=\"patch_18\">\n    <path clip-path=\"url(#peeb2311a04)\" d=\"M 166.399067 144.866841 \nL 173.64582 144.866841 \nL 173.64582 144.866841 \nL 166.399067 144.866841 \nz\n\" style=\"fill:url(#hde83f9028b);\"/>\n   </g>\n   <g id=\"patch_19\">\n    <path clip-path=\"url(#peeb2311a04)\" d=\"M 184.51595 144.866841 \nL 191.762703 144.866841 \nL 191.762703 144.866841 \nL 184.51595 144.866841 \nz\n\" style=\"fill:url(#hde83f9028b);\"/>\n   </g>\n   <g id=\"patch_20\">\n    <path clip-path=\"url(#peeb2311a04)\" d=\"M 202.632833 144.866841 \nL 209.879586 144.866841 \nL 209.879586 144.866841 \nL 202.632833 144.866841 \nz\n\" style=\"fill:url(#hde83f9028b);\"/>\n   </g>\n   <g id=\"patch_21\">\n    <path clip-path=\"url(#peeb2311a04)\" d=\"M 220.749716 144.866841 \nL 227.996469 144.866841 \nL 227.996469 144.866841 \nL 220.749716 144.866841 \nz\n\" style=\"fill:url(#hde83f9028b);\"/>\n   </g>\n   <g id=\"patch_22\">\n    <path clip-path=\"url(#peeb2311a04)\" d=\"M 238.866599 144.866841 \nL 246.113352 144.866841 \nL 246.113352 144.866841 \nL 238.866599 144.866841 \nz\n\" style=\"fill:url(#hde83f9028b);\"/>\n   </g>\n   <g id=\"matplotlib.axis_1\">\n    <g id=\"xtick_1\">\n     <g id=\"line2d_1\">\n      <defs>\n       <path d=\"M 0 0 \nL 0 3.5 \n\" id=\"m404bd19b21\" style=\"stroke:#000000;stroke-width:0.8;\"/>\n      </defs>\n      <g>\n       <use style=\"stroke:#000000;stroke-width:0.8;\" x=\"66.756209\" xlink:href=\"#m404bd19b21\" y=\"144.866841\"/>\n      </g>\n     </g>\n     <g id=\"text_1\">\n      <!-- 0 -->\n      <defs>\n       <path d=\"M 31.78125 66.40625 \nQ 24.171875 66.40625 20.328125 58.90625 \nQ 16.5 51.421875 16.5 36.375 \nQ 16.5 21.390625 20.328125 13.890625 \nQ 24.171875 6.390625 31.78125 6.390625 \nQ 39.453125 6.390625 43.28125 13.890625 \nQ 47.125 21.390625 47.125 36.375 \nQ 47.125 51.421875 43.28125 58.90625 \nQ 39.453125 66.40625 31.78125 66.40625 \nz\nM 31.78125 74.21875 \nQ 44.046875 74.21875 50.515625 64.515625 \nQ 56.984375 54.828125 56.984375 36.375 \nQ 56.984375 17.96875 50.515625 8.265625 \nQ 44.046875 -1.421875 31.78125 -1.421875 \nQ 19.53125 -1.421875 13.0625 8.265625 \nQ 6.59375 17.96875 6.59375 36.375 \nQ 6.59375 54.828125 13.0625 64.515625 \nQ 19.53125 74.21875 31.78125 74.21875 \nz\n\" id=\"DejaVuSans-48\"/>\n      </defs>\n      <g transform=\"translate(63.574959 159.465278)scale(0.1 -0.1)\">\n       <use xlink:href=\"#DejaVuSans-48\"/>\n      </g>\n     </g>\n    </g>\n    <g id=\"xtick_2\">\n     <g id=\"line2d_2\">\n      <g>\n       <use style=\"stroke:#000000;stroke-width:0.8;\" x=\"110.943729\" xlink:href=\"#m404bd19b21\" y=\"144.866841\"/>\n      </g>\n     </g>\n     <g id=\"text_2\">\n      <!-- 20 -->\n      <defs>\n       <path d=\"M 19.1875 8.296875 \nL 53.609375 8.296875 \nL 53.609375 0 \nL 7.328125 0 \nL 7.328125 8.296875 \nQ 12.9375 14.109375 22.625 23.890625 \nQ 32.328125 33.6875 34.8125 36.53125 \nQ 39.546875 41.84375 41.421875 45.53125 \nQ 43.3125 49.21875 43.3125 52.78125 \nQ 43.3125 58.59375 39.234375 62.25 \nQ 35.15625 65.921875 28.609375 65.921875 \nQ 23.96875 65.921875 18.8125 64.3125 \nQ 13.671875 62.703125 7.8125 59.421875 \nL 7.8125 69.390625 \nQ 13.765625 71.78125 18.9375 73 \nQ 24.125 74.21875 28.421875 74.21875 \nQ 39.75 74.21875 46.484375 68.546875 \nQ 53.21875 62.890625 53.21875 53.421875 \nQ 53.21875 48.921875 51.53125 44.890625 \nQ 49.859375 40.875 45.40625 35.40625 \nQ 44.1875 33.984375 37.640625 27.21875 \nQ 31.109375 20.453125 19.1875 8.296875 \nz\n\" id=\"DejaVuSans-50\"/>\n      </defs>\n      <g transform=\"translate(104.581229 159.465278)scale(0.1 -0.1)\">\n       <use xlink:href=\"#DejaVuSans-50\"/>\n       <use x=\"63.623047\" xlink:href=\"#DejaVuSans-48\"/>\n      </g>\n     </g>\n    </g>\n    <g id=\"xtick_3\">\n     <g id=\"line2d_3\">\n      <g>\n       <use style=\"stroke:#000000;stroke-width:0.8;\" x=\"155.131249\" xlink:href=\"#m404bd19b21\" y=\"144.866841\"/>\n      </g>\n     </g>\n     <g id=\"text_3\">\n      <!-- 40 -->\n      <defs>\n       <path d=\"M 37.796875 64.3125 \nL 12.890625 25.390625 \nL 37.796875 25.390625 \nz\nM 35.203125 72.90625 \nL 47.609375 72.90625 \nL 47.609375 25.390625 \nL 58.015625 25.390625 \nL 58.015625 17.1875 \nL 47.609375 17.1875 \nL 47.609375 0 \nL 37.796875 0 \nL 37.796875 17.1875 \nL 4.890625 17.1875 \nL 4.890625 26.703125 \nz\n\" id=\"DejaVuSans-52\"/>\n      </defs>\n      <g transform=\"translate(148.768749 159.465278)scale(0.1 -0.1)\">\n       <use xlink:href=\"#DejaVuSans-52\"/>\n       <use x=\"63.623047\" xlink:href=\"#DejaVuSans-48\"/>\n      </g>\n     </g>\n    </g>\n    <g id=\"xtick_4\">\n     <g id=\"line2d_4\">\n      <g>\n       <use style=\"stroke:#000000;stroke-width:0.8;\" x=\"199.318769\" xlink:href=\"#m404bd19b21\" y=\"144.866841\"/>\n      </g>\n     </g>\n     <g id=\"text_4\">\n      <!-- 60 -->\n      <defs>\n       <path d=\"M 33.015625 40.375 \nQ 26.375 40.375 22.484375 35.828125 \nQ 18.609375 31.296875 18.609375 23.390625 \nQ 18.609375 15.53125 22.484375 10.953125 \nQ 26.375 6.390625 33.015625 6.390625 \nQ 39.65625 6.390625 43.53125 10.953125 \nQ 47.40625 15.53125 47.40625 23.390625 \nQ 47.40625 31.296875 43.53125 35.828125 \nQ 39.65625 40.375 33.015625 40.375 \nz\nM 52.59375 71.296875 \nL 52.59375 62.3125 \nQ 48.875 64.0625 45.09375 64.984375 \nQ 41.3125 65.921875 37.59375 65.921875 \nQ 27.828125 65.921875 22.671875 59.328125 \nQ 17.53125 52.734375 16.796875 39.40625 \nQ 19.671875 43.65625 24.015625 45.921875 \nQ 28.375 48.1875 33.59375 48.1875 \nQ 44.578125 48.1875 50.953125 41.515625 \nQ 57.328125 34.859375 57.328125 23.390625 \nQ 57.328125 12.15625 50.6875 5.359375 \nQ 44.046875 -1.421875 33.015625 -1.421875 \nQ 20.359375 -1.421875 13.671875 8.265625 \nQ 6.984375 17.96875 6.984375 36.375 \nQ 6.984375 53.65625 15.1875 63.9375 \nQ 23.390625 74.21875 37.203125 74.21875 \nQ 40.921875 74.21875 44.703125 73.484375 \nQ 48.484375 72.75 52.59375 71.296875 \nz\n\" id=\"DejaVuSans-54\"/>\n      </defs>\n      <g transform=\"translate(192.956269 159.465278)scale(0.1 -0.1)\">\n       <use xlink:href=\"#DejaVuSans-54\"/>\n       <use x=\"63.623047\" xlink:href=\"#DejaVuSans-48\"/>\n      </g>\n     </g>\n    </g>\n    <g id=\"xtick_5\">\n     <g id=\"line2d_5\">\n      <g>\n       <use style=\"stroke:#000000;stroke-width:0.8;\" x=\"243.506289\" xlink:href=\"#m404bd19b21\" y=\"144.866841\"/>\n      </g>\n     </g>\n     <g id=\"text_5\">\n      <!-- 80 -->\n      <defs>\n       <path d=\"M 31.78125 34.625 \nQ 24.75 34.625 20.71875 30.859375 \nQ 16.703125 27.09375 16.703125 20.515625 \nQ 16.703125 13.921875 20.71875 10.15625 \nQ 24.75 6.390625 31.78125 6.390625 \nQ 38.8125 6.390625 42.859375 10.171875 \nQ 46.921875 13.96875 46.921875 20.515625 \nQ 46.921875 27.09375 42.890625 30.859375 \nQ 38.875 34.625 31.78125 34.625 \nz\nM 21.921875 38.8125 \nQ 15.578125 40.375 12.03125 44.71875 \nQ 8.5 49.078125 8.5 55.328125 \nQ 8.5 64.0625 14.71875 69.140625 \nQ 20.953125 74.21875 31.78125 74.21875 \nQ 42.671875 74.21875 48.875 69.140625 \nQ 55.078125 64.0625 55.078125 55.328125 \nQ 55.078125 49.078125 51.53125 44.71875 \nQ 48 40.375 41.703125 38.8125 \nQ 48.828125 37.15625 52.796875 32.3125 \nQ 56.78125 27.484375 56.78125 20.515625 \nQ 56.78125 9.90625 50.3125 4.234375 \nQ 43.84375 -1.421875 31.78125 -1.421875 \nQ 19.734375 -1.421875 13.25 4.234375 \nQ 6.78125 9.90625 6.78125 20.515625 \nQ 6.78125 27.484375 10.78125 32.3125 \nQ 14.796875 37.15625 21.921875 38.8125 \nz\nM 18.3125 54.390625 \nQ 18.3125 48.734375 21.84375 45.5625 \nQ 25.390625 42.390625 31.78125 42.390625 \nQ 38.140625 42.390625 41.71875 45.5625 \nQ 45.3125 48.734375 45.3125 54.390625 \nQ 45.3125 60.0625 41.71875 63.234375 \nQ 38.140625 66.40625 31.78125 66.40625 \nQ 25.390625 66.40625 21.84375 63.234375 \nQ 18.3125 60.0625 18.3125 54.390625 \nz\n\" id=\"DejaVuSans-56\"/>\n      </defs>\n      <g transform=\"translate(237.143789 159.465278)scale(0.1 -0.1)\">\n       <use xlink:href=\"#DejaVuSans-56\"/>\n       <use x=\"63.623047\" xlink:href=\"#DejaVuSans-48\"/>\n      </g>\n     </g>\n    </g>\n    <g id=\"text_6\">\n     <!-- tokens per sentence -->\n     <defs>\n      <path d=\"M 18.3125 70.21875 \nL 18.3125 54.6875 \nL 36.8125 54.6875 \nL 36.8125 47.703125 \nL 18.3125 47.703125 \nL 18.3125 18.015625 \nQ 18.3125 11.328125 20.140625 9.421875 \nQ 21.96875 7.515625 27.59375 7.515625 \nL 36.8125 7.515625 \nL 36.8125 0 \nL 27.59375 0 \nQ 17.1875 0 13.234375 3.875 \nQ 9.28125 7.765625 9.28125 18.015625 \nL 9.28125 47.703125 \nL 2.6875 47.703125 \nL 2.6875 54.6875 \nL 9.28125 54.6875 \nL 9.28125 70.21875 \nz\n\" id=\"DejaVuSans-116\"/>\n      <path d=\"M 30.609375 48.390625 \nQ 23.390625 48.390625 19.1875 42.75 \nQ 14.984375 37.109375 14.984375 27.296875 \nQ 14.984375 17.484375 19.15625 11.84375 \nQ 23.34375 6.203125 30.609375 6.203125 \nQ 37.796875 6.203125 41.984375 11.859375 \nQ 46.1875 17.53125 46.1875 27.296875 \nQ 46.1875 37.015625 41.984375 42.703125 \nQ 37.796875 48.390625 30.609375 48.390625 \nz\nM 30.609375 56 \nQ 42.328125 56 49.015625 48.375 \nQ 55.71875 40.765625 55.71875 27.296875 \nQ 55.71875 13.875 49.015625 6.21875 \nQ 42.328125 -1.421875 30.609375 -1.421875 \nQ 18.84375 -1.421875 12.171875 6.21875 \nQ 5.515625 13.875 5.515625 27.296875 \nQ 5.515625 40.765625 12.171875 48.375 \nQ 18.84375 56 30.609375 56 \nz\n\" id=\"DejaVuSans-111\"/>\n      <path d=\"M 9.078125 75.984375 \nL 18.109375 75.984375 \nL 18.109375 31.109375 \nL 44.921875 54.6875 \nL 56.390625 54.6875 \nL 27.390625 29.109375 \nL 57.625 0 \nL 45.90625 0 \nL 18.109375 26.703125 \nL 18.109375 0 \nL 9.078125 0 \nz\n\" id=\"DejaVuSans-107\"/>\n      <path d=\"M 56.203125 29.59375 \nL 56.203125 25.203125 \nL 14.890625 25.203125 \nQ 15.484375 15.921875 20.484375 11.0625 \nQ 25.484375 6.203125 34.421875 6.203125 \nQ 39.59375 6.203125 44.453125 7.46875 \nQ 49.3125 8.734375 54.109375 11.28125 \nL 54.109375 2.78125 \nQ 49.265625 0.734375 44.1875 -0.34375 \nQ 39.109375 -1.421875 33.890625 -1.421875 \nQ 20.796875 -1.421875 13.15625 6.1875 \nQ 5.515625 13.8125 5.515625 26.8125 \nQ 5.515625 40.234375 12.765625 48.109375 \nQ 20.015625 56 32.328125 56 \nQ 43.359375 56 49.78125 48.890625 \nQ 56.203125 41.796875 56.203125 29.59375 \nz\nM 47.21875 32.234375 \nQ 47.125 39.59375 43.09375 43.984375 \nQ 39.0625 48.390625 32.421875 48.390625 \nQ 24.90625 48.390625 20.390625 44.140625 \nQ 15.875 39.890625 15.1875 32.171875 \nz\n\" id=\"DejaVuSans-101\"/>\n      <path d=\"M 54.890625 33.015625 \nL 54.890625 0 \nL 45.90625 0 \nL 45.90625 32.71875 \nQ 45.90625 40.484375 42.875 44.328125 \nQ 39.84375 48.1875 33.796875 48.1875 \nQ 26.515625 48.1875 22.3125 43.546875 \nQ 18.109375 38.921875 18.109375 30.90625 \nL 18.109375 0 \nL 9.078125 0 \nL 9.078125 54.6875 \nL 18.109375 54.6875 \nL 18.109375 46.1875 \nQ 21.34375 51.125 25.703125 53.5625 \nQ 30.078125 56 35.796875 56 \nQ 45.21875 56 50.046875 50.171875 \nQ 54.890625 44.34375 54.890625 33.015625 \nz\n\" id=\"DejaVuSans-110\"/>\n      <path d=\"M 44.28125 53.078125 \nL 44.28125 44.578125 \nQ 40.484375 46.53125 36.375 47.5 \nQ 32.28125 48.484375 27.875 48.484375 \nQ 21.1875 48.484375 17.84375 46.4375 \nQ 14.5 44.390625 14.5 40.28125 \nQ 14.5 37.15625 16.890625 35.375 \nQ 19.28125 33.59375 26.515625 31.984375 \nL 29.59375 31.296875 \nQ 39.15625 29.25 43.1875 25.515625 \nQ 47.21875 21.78125 47.21875 15.09375 \nQ 47.21875 7.46875 41.1875 3.015625 \nQ 35.15625 -1.421875 24.609375 -1.421875 \nQ 20.21875 -1.421875 15.453125 -0.5625 \nQ 10.6875 0.296875 5.421875 2 \nL 5.421875 11.28125 \nQ 10.40625 8.6875 15.234375 7.390625 \nQ 20.0625 6.109375 24.8125 6.109375 \nQ 31.15625 6.109375 34.5625 8.28125 \nQ 37.984375 10.453125 37.984375 14.40625 \nQ 37.984375 18.0625 35.515625 20.015625 \nQ 33.0625 21.96875 24.703125 23.78125 \nL 21.578125 24.515625 \nQ 13.234375 26.265625 9.515625 29.90625 \nQ 5.8125 33.546875 5.8125 39.890625 \nQ 5.8125 47.609375 11.28125 51.796875 \nQ 16.75 56 26.8125 56 \nQ 31.78125 56 36.171875 55.265625 \nQ 40.578125 54.546875 44.28125 53.078125 \nz\n\" id=\"DejaVuSans-115\"/>\n      <path id=\"DejaVuSans-32\"/>\n      <path d=\"M 18.109375 8.203125 \nL 18.109375 -20.796875 \nL 9.078125 -20.796875 \nL 9.078125 54.6875 \nL 18.109375 54.6875 \nL 18.109375 46.390625 \nQ 20.953125 51.265625 25.265625 53.625 \nQ 29.59375 56 35.59375 56 \nQ 45.5625 56 51.78125 48.09375 \nQ 58.015625 40.1875 58.015625 27.296875 \nQ 58.015625 14.40625 51.78125 6.484375 \nQ 45.5625 -1.421875 35.59375 -1.421875 \nQ 29.59375 -1.421875 25.265625 0.953125 \nQ 20.953125 3.328125 18.109375 8.203125 \nz\nM 48.6875 27.296875 \nQ 48.6875 37.203125 44.609375 42.84375 \nQ 40.53125 48.484375 33.40625 48.484375 \nQ 26.265625 48.484375 22.1875 42.84375 \nQ 18.109375 37.203125 18.109375 27.296875 \nQ 18.109375 17.390625 22.1875 11.75 \nQ 26.265625 6.109375 33.40625 6.109375 \nQ 40.53125 6.109375 44.609375 11.75 \nQ 48.6875 17.390625 48.6875 27.296875 \nz\n\" id=\"DejaVuSans-112\"/>\n      <path d=\"M 41.109375 46.296875 \nQ 39.59375 47.171875 37.8125 47.578125 \nQ 36.03125 48 33.890625 48 \nQ 26.265625 48 22.1875 43.046875 \nQ 18.109375 38.09375 18.109375 28.8125 \nL 18.109375 0 \nL 9.078125 0 \nL 9.078125 54.6875 \nL 18.109375 54.6875 \nL 18.109375 46.1875 \nQ 20.953125 51.171875 25.484375 53.578125 \nQ 30.03125 56 36.53125 56 \nQ 37.453125 56 38.578125 55.875 \nQ 39.703125 55.765625 41.0625 55.515625 \nz\n\" id=\"DejaVuSans-114\"/>\n      <path d=\"M 48.78125 52.59375 \nL 48.78125 44.1875 \nQ 44.96875 46.296875 41.140625 47.34375 \nQ 37.3125 48.390625 33.40625 48.390625 \nQ 24.65625 48.390625 19.8125 42.84375 \nQ 14.984375 37.3125 14.984375 27.296875 \nQ 14.984375 17.28125 19.8125 11.734375 \nQ 24.65625 6.203125 33.40625 6.203125 \nQ 37.3125 6.203125 41.140625 7.25 \nQ 44.96875 8.296875 48.78125 10.40625 \nL 48.78125 2.09375 \nQ 45.015625 0.34375 40.984375 -0.53125 \nQ 36.96875 -1.421875 32.421875 -1.421875 \nQ 20.0625 -1.421875 12.78125 6.34375 \nQ 5.515625 14.109375 5.515625 27.296875 \nQ 5.515625 40.671875 12.859375 48.328125 \nQ 20.21875 56 33.015625 56 \nQ 37.15625 56 41.109375 55.140625 \nQ 45.0625 54.296875 48.78125 52.59375 \nz\n\" id=\"DejaVuSans-99\"/>\n     </defs>\n     <g transform=\"translate(106.391406 173.143403)scale(0.1 -0.1)\">\n      <use xlink:href=\"#DejaVuSans-116\"/>\n      <use x=\"39.208984\" xlink:href=\"#DejaVuSans-111\"/>\n      <use x=\"100.390625\" xlink:href=\"#DejaVuSans-107\"/>\n      <use x=\"154.675781\" xlink:href=\"#DejaVuSans-101\"/>\n      <use x=\"216.199219\" xlink:href=\"#DejaVuSans-110\"/>\n      <use x=\"279.578125\" xlink:href=\"#DejaVuSans-115\"/>\n      <use x=\"331.677734\" xlink:href=\"#DejaVuSans-32\"/>\n      <use x=\"363.464844\" xlink:href=\"#DejaVuSans-112\"/>\n      <use x=\"426.941406\" xlink:href=\"#DejaVuSans-101\"/>\n      <use x=\"488.464844\" xlink:href=\"#DejaVuSans-114\"/>\n      <use x=\"529.578125\" xlink:href=\"#DejaVuSans-32\"/>\n      <use x=\"561.365234\" xlink:href=\"#DejaVuSans-115\"/>\n      <use x=\"613.464844\" xlink:href=\"#DejaVuSans-101\"/>\n      <use x=\"674.988281\" xlink:href=\"#DejaVuSans-110\"/>\n      <use x=\"738.367188\" xlink:href=\"#DejaVuSans-116\"/>\n      <use x=\"777.576172\" xlink:href=\"#DejaVuSans-101\"/>\n      <use x=\"839.099609\" xlink:href=\"#DejaVuSans-110\"/>\n      <use x=\"902.478516\" xlink:href=\"#DejaVuSans-99\"/>\n      <use x=\"957.458984\" xlink:href=\"#DejaVuSans-101\"/>\n     </g>\n    </g>\n   </g>\n   <g id=\"matplotlib.axis_2\">\n    <g id=\"ytick_1\">\n     <g id=\"line2d_6\">\n      <defs>\n       <path d=\"M 0 0 \nL -3.5 0 \n\" id=\"mc96e9a12ce\" style=\"stroke:#000000;stroke-width:0.8;\"/>\n      </defs>\n      <g>\n       <use style=\"stroke:#000000;stroke-width:0.8;\" x=\"59.690625\" xlink:href=\"#mc96e9a12ce\" y=\"144.866841\"/>\n      </g>\n     </g>\n     <g id=\"text_7\">\n      <!-- 0 -->\n      <g transform=\"translate(46.328125 148.666059)scale(0.1 -0.1)\">\n       <use xlink:href=\"#DejaVuSans-48\"/>\n      </g>\n     </g>\n    </g>\n    <g id=\"ytick_2\">\n     <g id=\"line2d_7\">\n      <g>\n       <use style=\"stroke:#000000;stroke-width:0.8;\" x=\"59.690625\" xlink:href=\"#mc96e9a12ce\" y=\"118.093316\"/>\n      </g>\n     </g>\n     <g id=\"text_8\">\n      <!-- 5000 -->\n      <defs>\n       <path d=\"M 10.796875 72.90625 \nL 49.515625 72.90625 \nL 49.515625 64.59375 \nL 19.828125 64.59375 \nL 19.828125 46.734375 \nQ 21.96875 47.46875 24.109375 47.828125 \nQ 26.265625 48.1875 28.421875 48.1875 \nQ 40.625 48.1875 47.75 41.5 \nQ 54.890625 34.8125 54.890625 23.390625 \nQ 54.890625 11.625 47.5625 5.09375 \nQ 40.234375 -1.421875 26.90625 -1.421875 \nQ 22.3125 -1.421875 17.546875 -0.640625 \nQ 12.796875 0.140625 7.71875 1.703125 \nL 7.71875 11.625 \nQ 12.109375 9.234375 16.796875 8.0625 \nQ 21.484375 6.890625 26.703125 6.890625 \nQ 35.15625 6.890625 40.078125 11.328125 \nQ 45.015625 15.765625 45.015625 23.390625 \nQ 45.015625 31 40.078125 35.4375 \nQ 35.15625 39.890625 26.703125 39.890625 \nQ 22.75 39.890625 18.8125 39.015625 \nQ 14.890625 38.140625 10.796875 36.28125 \nz\n\" id=\"DejaVuSans-53\"/>\n      </defs>\n      <g transform=\"translate(27.240625 121.892535)scale(0.1 -0.1)\">\n       <use xlink:href=\"#DejaVuSans-53\"/>\n       <use x=\"63.623047\" xlink:href=\"#DejaVuSans-48\"/>\n       <use x=\"127.246094\" xlink:href=\"#DejaVuSans-48\"/>\n       <use x=\"190.869141\" xlink:href=\"#DejaVuSans-48\"/>\n      </g>\n     </g>\n    </g>\n    <g id=\"ytick_3\">\n     <g id=\"line2d_8\">\n      <g>\n       <use style=\"stroke:#000000;stroke-width:0.8;\" x=\"59.690625\" xlink:href=\"#mc96e9a12ce\" y=\"91.319792\"/>\n      </g>\n     </g>\n     <g id=\"text_9\">\n      <!-- 10000 -->\n      <defs>\n       <path d=\"M 12.40625 8.296875 \nL 28.515625 8.296875 \nL 28.515625 63.921875 \nL 10.984375 60.40625 \nL 10.984375 69.390625 \nL 28.421875 72.90625 \nL 38.28125 72.90625 \nL 38.28125 8.296875 \nL 54.390625 8.296875 \nL 54.390625 0 \nL 12.40625 0 \nz\n\" id=\"DejaVuSans-49\"/>\n      </defs>\n      <g transform=\"translate(20.878125 95.119011)scale(0.1 -0.1)\">\n       <use xlink:href=\"#DejaVuSans-49\"/>\n       <use x=\"63.623047\" xlink:href=\"#DejaVuSans-48\"/>\n       <use x=\"127.246094\" xlink:href=\"#DejaVuSans-48\"/>\n       <use x=\"190.869141\" xlink:href=\"#DejaVuSans-48\"/>\n       <use x=\"254.492188\" xlink:href=\"#DejaVuSans-48\"/>\n      </g>\n     </g>\n    </g>\n    <g id=\"ytick_4\">\n     <g id=\"line2d_9\">\n      <g>\n       <use style=\"stroke:#000000;stroke-width:0.8;\" x=\"59.690625\" xlink:href=\"#mc96e9a12ce\" y=\"64.546267\"/>\n      </g>\n     </g>\n     <g id=\"text_10\">\n      <!-- 15000 -->\n      <g transform=\"translate(20.878125 68.345486)scale(0.1 -0.1)\">\n       <use xlink:href=\"#DejaVuSans-49\"/>\n       <use x=\"63.623047\" xlink:href=\"#DejaVuSans-53\"/>\n       <use x=\"127.246094\" xlink:href=\"#DejaVuSans-48\"/>\n       <use x=\"190.869141\" xlink:href=\"#DejaVuSans-48\"/>\n       <use x=\"254.492188\" xlink:href=\"#DejaVuSans-48\"/>\n      </g>\n     </g>\n    </g>\n    <g id=\"ytick_5\">\n     <g id=\"line2d_10\">\n      <g>\n       <use style=\"stroke:#000000;stroke-width:0.8;\" x=\"59.690625\" xlink:href=\"#mc96e9a12ce\" y=\"37.772743\"/>\n      </g>\n     </g>\n     <g id=\"text_11\">\n      <!-- 20000 -->\n      <g transform=\"translate(20.878125 41.571962)scale(0.1 -0.1)\">\n       <use xlink:href=\"#DejaVuSans-50\"/>\n       <use x=\"63.623047\" xlink:href=\"#DejaVuSans-48\"/>\n       <use x=\"127.246094\" xlink:href=\"#DejaVuSans-48\"/>\n       <use x=\"190.869141\" xlink:href=\"#DejaVuSans-48\"/>\n       <use x=\"254.492188\" xlink:href=\"#DejaVuSans-48\"/>\n      </g>\n     </g>\n    </g>\n    <g id=\"ytick_6\">\n     <g id=\"line2d_11\">\n      <g>\n       <use style=\"stroke:#000000;stroke-width:0.8;\" x=\"59.690625\" xlink:href=\"#mc96e9a12ce\" y=\"10.999219\"/>\n      </g>\n     </g>\n     <g id=\"text_12\">\n      <!-- 25000 -->\n      <g transform=\"translate(20.878125 14.798437)scale(0.1 -0.1)\">\n       <use xlink:href=\"#DejaVuSans-50\"/>\n       <use x=\"63.623047\" xlink:href=\"#DejaVuSans-53\"/>\n       <use x=\"127.246094\" xlink:href=\"#DejaVuSans-48\"/>\n       <use x=\"190.869141\" xlink:href=\"#DejaVuSans-48\"/>\n       <use x=\"254.492188\" xlink:href=\"#DejaVuSans-48\"/>\n      </g>\n     </g>\n    </g>\n    <g id=\"text_13\">\n     <!-- count -->\n     <defs>\n      <path d=\"M 8.5 21.578125 \nL 8.5 54.6875 \nL 17.484375 54.6875 \nL 17.484375 21.921875 \nQ 17.484375 14.15625 20.5 10.265625 \nQ 23.53125 6.390625 29.59375 6.390625 \nQ 36.859375 6.390625 41.078125 11.03125 \nQ 45.3125 15.671875 45.3125 23.6875 \nL 45.3125 54.6875 \nL 54.296875 54.6875 \nL 54.296875 0 \nL 45.3125 0 \nL 45.3125 8.40625 \nQ 42.046875 3.421875 37.71875 1 \nQ 33.40625 -1.421875 27.6875 -1.421875 \nQ 18.265625 -1.421875 13.375 4.4375 \nQ 8.5 10.296875 8.5 21.578125 \nz\nM 31.109375 56 \nz\n\" id=\"DejaVuSans-117\"/>\n     </defs>\n     <g transform=\"translate(14.798438 91.023091)rotate(-90)scale(0.1 -0.1)\">\n      <use xlink:href=\"#DejaVuSans-99\"/>\n      <use x=\"54.980469\" xlink:href=\"#DejaVuSans-111\"/>\n      <use x=\"116.162109\" xlink:href=\"#DejaVuSans-117\"/>\n      <use x=\"179.541016\" xlink:href=\"#DejaVuSans-110\"/>\n      <use x=\"242.919922\" xlink:href=\"#DejaVuSans-116\"/>\n     </g>\n    </g>\n   </g>\n   <g id=\"patch_23\">\n    <path d=\"M 59.690625 144.866841 \nL 59.690625 8.966841 \n\" style=\"fill:none;stroke:#000000;stroke-linecap:square;stroke-linejoin:miter;stroke-width:0.8;\"/>\n   </g>\n   <g id=\"patch_24\">\n    <path d=\"M 254.990625 144.866841 \nL 254.990625 8.966841 \n\" style=\"fill:none;stroke:#000000;stroke-linecap:square;stroke-linejoin:miter;stroke-width:0.8;\"/>\n   </g>\n   <g id=\"patch_25\">\n    <path d=\"M 59.690625 144.866841 \nL 254.990625 144.866841 \n\" style=\"fill:none;stroke:#000000;stroke-linecap:square;stroke-linejoin:miter;stroke-width:0.8;\"/>\n   </g>\n   <g id=\"patch_26\">\n    <path d=\"M 59.690625 8.966841 \nL 254.990625 8.966841 \n\" style=\"fill:none;stroke:#000000;stroke-linecap:square;stroke-linejoin:miter;stroke-width:0.8;\"/>\n   </g>\n   <g id=\"legend_1\">\n    <g id=\"patch_27\">\n     <path d=\"M 155.389063 46.323091 \nL 247.990625 46.323091 \nQ 249.990625 46.323091 249.990625 44.323091 \nL 249.990625 15.966841 \nQ 249.990625 13.966841 247.990625 13.966841 \nL 155.389063 13.966841 \nQ 153.389063 13.966841 153.389063 15.966841 \nL 153.389063 44.323091 \nQ 153.389063 46.323091 155.389063 46.323091 \nz\n\" style=\"fill:#ffffff;opacity:0.8;stroke:#cccccc;stroke-linejoin:miter;\"/>\n    </g>\n    <g id=\"patch_28\">\n     <path d=\"M 157.389063 25.565278 \nL 177.389063 25.565278 \nL 177.389063 18.565278 \nL 157.389063 18.565278 \nz\n\" style=\"fill:#1f77b4;\"/>\n    </g>\n    <g id=\"text_14\">\n     <!-- origin -->\n     <defs>\n      <path d=\"M 9.421875 54.6875 \nL 18.40625 54.6875 \nL 18.40625 0 \nL 9.421875 0 \nz\nM 9.421875 75.984375 \nL 18.40625 75.984375 \nL 18.40625 64.59375 \nL 9.421875 64.59375 \nz\n\" id=\"DejaVuSans-105\"/>\n      <path d=\"M 45.40625 27.984375 \nQ 45.40625 37.75 41.375 43.109375 \nQ 37.359375 48.484375 30.078125 48.484375 \nQ 22.859375 48.484375 18.828125 43.109375 \nQ 14.796875 37.75 14.796875 27.984375 \nQ 14.796875 18.265625 18.828125 12.890625 \nQ 22.859375 7.515625 30.078125 7.515625 \nQ 37.359375 7.515625 41.375 12.890625 \nQ 45.40625 18.265625 45.40625 27.984375 \nz\nM 54.390625 6.78125 \nQ 54.390625 -7.171875 48.1875 -13.984375 \nQ 42 -20.796875 29.203125 -20.796875 \nQ 24.46875 -20.796875 20.265625 -20.09375 \nQ 16.0625 -19.390625 12.109375 -17.921875 \nL 12.109375 -9.1875 \nQ 16.0625 -11.328125 19.921875 -12.34375 \nQ 23.78125 -13.375 27.78125 -13.375 \nQ 36.625 -13.375 41.015625 -8.765625 \nQ 45.40625 -4.15625 45.40625 5.171875 \nL 45.40625 9.625 \nQ 42.625 4.78125 38.28125 2.390625 \nQ 33.9375 0 27.875 0 \nQ 17.828125 0 11.671875 7.65625 \nQ 5.515625 15.328125 5.515625 27.984375 \nQ 5.515625 40.671875 11.671875 48.328125 \nQ 17.828125 56 27.875 56 \nQ 33.9375 56 38.28125 53.609375 \nQ 42.625 51.21875 45.40625 46.390625 \nL 45.40625 54.6875 \nL 54.390625 54.6875 \nz\n\" id=\"DejaVuSans-103\"/>\n     </defs>\n     <g transform=\"translate(185.389063 25.565278)scale(0.1 -0.1)\">\n      <use xlink:href=\"#DejaVuSans-111\"/>\n      <use x=\"61.181641\" xlink:href=\"#DejaVuSans-114\"/>\n      <use x=\"102.294922\" xlink:href=\"#DejaVuSans-105\"/>\n      <use x=\"130.078125\" xlink:href=\"#DejaVuSans-103\"/>\n      <use x=\"193.554688\" xlink:href=\"#DejaVuSans-105\"/>\n      <use x=\"221.337891\" xlink:href=\"#DejaVuSans-110\"/>\n     </g>\n    </g>\n    <g id=\"patch_29\">\n     <path d=\"M 157.389063 40.243403 \nL 177.389063 40.243403 \nL 177.389063 33.243403 \nL 157.389063 33.243403 \nz\n\" style=\"fill:url(#hde83f9028b);\"/>\n    </g>\n    <g id=\"text_15\">\n     <!-- subsampled -->\n     <defs>\n      <path d=\"M 48.6875 27.296875 \nQ 48.6875 37.203125 44.609375 42.84375 \nQ 40.53125 48.484375 33.40625 48.484375 \nQ 26.265625 48.484375 22.1875 42.84375 \nQ 18.109375 37.203125 18.109375 27.296875 \nQ 18.109375 17.390625 22.1875 11.75 \nQ 26.265625 6.109375 33.40625 6.109375 \nQ 40.53125 6.109375 44.609375 11.75 \nQ 48.6875 17.390625 48.6875 27.296875 \nz\nM 18.109375 46.390625 \nQ 20.953125 51.265625 25.265625 53.625 \nQ 29.59375 56 35.59375 56 \nQ 45.5625 56 51.78125 48.09375 \nQ 58.015625 40.1875 58.015625 27.296875 \nQ 58.015625 14.40625 51.78125 6.484375 \nQ 45.5625 -1.421875 35.59375 -1.421875 \nQ 29.59375 -1.421875 25.265625 0.953125 \nQ 20.953125 3.328125 18.109375 8.203125 \nL 18.109375 0 \nL 9.078125 0 \nL 9.078125 75.984375 \nL 18.109375 75.984375 \nz\n\" id=\"DejaVuSans-98\"/>\n      <path d=\"M 34.28125 27.484375 \nQ 23.390625 27.484375 19.1875 25 \nQ 14.984375 22.515625 14.984375 16.5 \nQ 14.984375 11.71875 18.140625 8.90625 \nQ 21.296875 6.109375 26.703125 6.109375 \nQ 34.1875 6.109375 38.703125 11.40625 \nQ 43.21875 16.703125 43.21875 25.484375 \nL 43.21875 27.484375 \nz\nM 52.203125 31.203125 \nL 52.203125 0 \nL 43.21875 0 \nL 43.21875 8.296875 \nQ 40.140625 3.328125 35.546875 0.953125 \nQ 30.953125 -1.421875 24.3125 -1.421875 \nQ 15.921875 -1.421875 10.953125 3.296875 \nQ 6 8.015625 6 15.921875 \nQ 6 25.140625 12.171875 29.828125 \nQ 18.359375 34.515625 30.609375 34.515625 \nL 43.21875 34.515625 \nL 43.21875 35.40625 \nQ 43.21875 41.609375 39.140625 45 \nQ 35.0625 48.390625 27.6875 48.390625 \nQ 23 48.390625 18.546875 47.265625 \nQ 14.109375 46.140625 10.015625 43.890625 \nL 10.015625 52.203125 \nQ 14.9375 54.109375 19.578125 55.046875 \nQ 24.21875 56 28.609375 56 \nQ 40.484375 56 46.34375 49.84375 \nQ 52.203125 43.703125 52.203125 31.203125 \nz\n\" id=\"DejaVuSans-97\"/>\n      <path d=\"M 52 44.1875 \nQ 55.375 50.25 60.0625 53.125 \nQ 64.75 56 71.09375 56 \nQ 79.640625 56 84.28125 50.015625 \nQ 88.921875 44.046875 88.921875 33.015625 \nL 88.921875 0 \nL 79.890625 0 \nL 79.890625 32.71875 \nQ 79.890625 40.578125 77.09375 44.375 \nQ 74.3125 48.1875 68.609375 48.1875 \nQ 61.625 48.1875 57.5625 43.546875 \nQ 53.515625 38.921875 53.515625 30.90625 \nL 53.515625 0 \nL 44.484375 0 \nL 44.484375 32.71875 \nQ 44.484375 40.625 41.703125 44.40625 \nQ 38.921875 48.1875 33.109375 48.1875 \nQ 26.21875 48.1875 22.15625 43.53125 \nQ 18.109375 38.875 18.109375 30.90625 \nL 18.109375 0 \nL 9.078125 0 \nL 9.078125 54.6875 \nL 18.109375 54.6875 \nL 18.109375 46.1875 \nQ 21.1875 51.21875 25.484375 53.609375 \nQ 29.78125 56 35.6875 56 \nQ 41.65625 56 45.828125 52.96875 \nQ 50 49.953125 52 44.1875 \nz\n\" id=\"DejaVuSans-109\"/>\n      <path d=\"M 9.421875 75.984375 \nL 18.40625 75.984375 \nL 18.40625 0 \nL 9.421875 0 \nz\n\" id=\"DejaVuSans-108\"/>\n      <path d=\"M 45.40625 46.390625 \nL 45.40625 75.984375 \nL 54.390625 75.984375 \nL 54.390625 0 \nL 45.40625 0 \nL 45.40625 8.203125 \nQ 42.578125 3.328125 38.25 0.953125 \nQ 33.9375 -1.421875 27.875 -1.421875 \nQ 17.96875 -1.421875 11.734375 6.484375 \nQ 5.515625 14.40625 5.515625 27.296875 \nQ 5.515625 40.1875 11.734375 48.09375 \nQ 17.96875 56 27.875 56 \nQ 33.9375 56 38.25 53.625 \nQ 42.578125 51.265625 45.40625 46.390625 \nz\nM 14.796875 27.296875 \nQ 14.796875 17.390625 18.875 11.75 \nQ 22.953125 6.109375 30.078125 6.109375 \nQ 37.203125 6.109375 41.296875 11.75 \nQ 45.40625 17.390625 45.40625 27.296875 \nQ 45.40625 37.203125 41.296875 42.84375 \nQ 37.203125 48.484375 30.078125 48.484375 \nQ 22.953125 48.484375 18.875 42.84375 \nQ 14.796875 37.203125 14.796875 27.296875 \nz\n\" id=\"DejaVuSans-100\"/>\n     </defs>\n     <g transform=\"translate(185.389063 40.243403)scale(0.1 -0.1)\">\n      <use xlink:href=\"#DejaVuSans-115\"/>\n      <use x=\"52.099609\" xlink:href=\"#DejaVuSans-117\"/>\n      <use x=\"115.478516\" xlink:href=\"#DejaVuSans-98\"/>\n      <use x=\"178.955078\" xlink:href=\"#DejaVuSans-115\"/>\n      <use x=\"231.054688\" xlink:href=\"#DejaVuSans-97\"/>\n      <use x=\"292.333984\" xlink:href=\"#DejaVuSans-109\"/>\n      <use x=\"389.746094\" xlink:href=\"#DejaVuSans-112\"/>\n      <use x=\"453.222656\" xlink:href=\"#DejaVuSans-108\"/>\n      <use x=\"481.005859\" xlink:href=\"#DejaVuSans-101\"/>\n      <use x=\"542.529297\" xlink:href=\"#DejaVuSans-100\"/>\n     </g>\n    </g>\n   </g>\n  </g>\n </g>\n <defs>\n  <clipPath id=\"peeb2311a04\">\n   <rect height=\"135.9\" width=\"195.3\" x=\"59.690625\" y=\"8.966841\"/>\n  </clipPath>\n </defs>\n <defs>\n  <pattern height=\"72\" id=\"hde83f9028b\" patternUnits=\"userSpaceOnUse\" width=\"72\" x=\"0\" y=\"0\">\n   <rect fill=\"#ff7f0e\" height=\"73\" width=\"73\" x=\"0\" y=\"0\"/>\n   <path d=\"M -36 36 \nL 36 -36 \nM -24 48 \nL 48 -24 \nM -12 60 \nL 60 -12 \nM 0 72 \nL 72 0 \nM 12 84 \nL 84 12 \nM 24 96 \nL 96 24 \nM 36 108 \nL 108 36 \n\" style=\"fill:#000000;stroke:#000000;stroke-linecap:butt;stroke-linejoin:miter;stroke-width:1.0;\"/>\n  </pattern>\n </defs>\n</svg>\n",
            "text/plain": [
              "<Figure size 252x180 with 1 Axes>"
            ]
          },
          "metadata": {},
          "output_type": "display_data"
        }
      ],
      "source": [
        "# 绘制列表长度对的直方图\n",
        "d2l.show_list_len_pair_hist(['origin', 'subsampled'], \n",
        "       'tokens per sentence','count', sentences, subsampled);\n",
        "# 图例x轴代表每个句子长度是多少个单词\n",
        "# 图例y轴代表当前句子长度的个数\n",
        "# origin代表原来句子组中含有的句子呈正态分布。有很多很长的句子\n",
        "# subsampled代表下采样后大多数句子只有几个单词。说明下采样去掉了很多单词\n",
        "# 并且通过公式，可以知道下采样去掉的大都是高频单词。低频单词去掉的概率很低。"
      ]
    },
    {
      "cell_type": "code",
      "execution_count": null,
      "metadata": {
        "id": "7yGePp2WDGkv"
      },
      "outputs": [],
      "source": [
        "def get_centers_and_contexts(corpus, max_window_size):\n",
        "  \"\"\"返回跳元模型中的中⼼词和上下⽂词\"\"\"\n",
        "  centers, contexts = [], []\n",
        "  for line in corpus:\n",
        "    # 要形成“中⼼词-上下⽂词”对，每个句⼦⾄少需要有2个词\n",
        "    if len(line) < 2:\n",
        "      continue\n",
        "    centers += line\n",
        "    for i in range(len(line)): # 上下⽂窗⼝中间i\n",
        "      # 上下文窗口是随机的\n",
        "      window_size = random.randint(1, max_window_size)\n",
        "      indices = list(range(max(0, i - window_size),min(len(line), i + 1 + window_size)))\n",
        "      # 从上下⽂词中排除中⼼词\n",
        "      indices.remove(i)\n",
        "      contexts.append([line[idx] for idx in indices])\n",
        "  return centers, contexts\n"
      ]
    },
    {
      "cell_type": "code",
      "execution_count": null,
      "metadata": {
        "colab": {
          "base_uri": "https://localhost:8080/"
        },
        "id": "1nIiBXNuD6zH",
        "outputId": "0df1aca9-d198-4810-f32c-aa4106deb763"
      },
      "outputs": [
        {
          "name": "stdout",
          "output_type": "stream",
          "text": [
            "数据集 [[0, 1, 2, 3, 4, 5, 6], [7, 8, 9]]\n",
            "中⼼词 0 的上下⽂词是 [1, 2]\n",
            "中⼼词 1 的上下⽂词是 [0, 2]\n",
            "中⼼词 2 的上下⽂词是 [0, 1, 3, 4]\n",
            "中⼼词 3 的上下⽂词是 [1, 2, 4, 5]\n",
            "中⼼词 4 的上下⽂词是 [3, 5]\n",
            "中⼼词 5 的上下⽂词是 [4, 6]\n",
            "中⼼词 6 的上下⽂词是 [4, 5]\n",
            "中⼼词 7 的上下⽂词是 [8]\n",
            "中⼼词 8 的上下⽂词是 [7, 9]\n",
            "中⼼词 9 的上下⽂词是 [8]\n"
          ]
        }
      ],
      "source": [
        "tiny_dataset = [list(range(7)), list(range(7, 10))]\n",
        "print('数据集', tiny_dataset)\n",
        "for center, context in zip(*get_centers_and_contexts(tiny_dataset, 2)):\n",
        "  print('中⼼词', center, '的上下⽂词是', context)"
      ]
    },
    {
      "cell_type": "code",
      "execution_count": null,
      "metadata": {
        "colab": {
          "base_uri": "https://localhost:8080/",
          "height": 90
        },
        "id": "c5hkwIt9HX8t",
        "outputId": "10bfffbf-30e2-4c1a-c9b4-4e1ce5b8d2d0"
      },
      "outputs": [
        {
          "data": {
            "text/plain": [
              "[[], [2115, 145, 274, 406], [140, 5277, 3054, 1580]]"
            ]
          },
          "metadata": {},
          "output_type": "display_data"
        },
        {
          "data": {
            "text/plain": [
              "[[],\n",
              " ['join', 'board', 'director', 'nov.'],\n",
              " ['chairman', 'n.v.', 'dutch', 'publishing']]"
            ]
          },
          "execution_count": 28,
          "metadata": {},
          "output_type": "execute_result"
        }
      ],
      "source": [
        "# 将词元映射到它们在语料库中的索引\n",
        "corpus = [vocab[line] for line in subsampled]\n",
        "display(corpus[:3])\n",
        "subsampled[:3]"
      ]
    },
    {
      "cell_type": "code",
      "execution_count": null,
      "metadata": {
        "colab": {
          "base_uri": "https://localhost:8080/",
          "height": 35
        },
        "id": "dij7U2VCFxty",
        "outputId": "04b84299-04a6-491d-f756-f2b83a979dcb"
      },
      "outputs": [
        {
          "data": {
            "application/vnd.google.colaboratory.intrinsic+json": {
              "type": "string"
            },
            "text/plain": [
              "'# “中⼼词-上下⽂词对”的数量: 1504037'"
            ]
          },
          "execution_count": 29,
          "metadata": {},
          "output_type": "execute_result"
        }
      ],
      "source": [
        "all_centers, all_contexts = get_centers_and_contexts(corpus, 5)\n",
        "f'# “中⼼词-上下⽂词对”的数量: {sum([len(contexts) for contexts in all_contexts])}'\n"
      ]
    },
    {
      "cell_type": "markdown",
      "metadata": {
        "id": "fE86s8SsIC7l"
      },
      "source": [
        "#### 负采样\n",
        "如果按照skip-gram模型进行任务训练。那么input是 中心词 target是 对应词对：\n",
        "\n",
        "  例： the man loves his son\n",
        "  \n",
        "  input：loves \n",
        "  \n",
        "  target：[the,man,his,son]\n",
        "\n",
        "> 任务类型为多分类任务，但是中心词很多，并且需要判断对应的target更多，有可能达到几万甚至更多，则sofmmax极难完成当前任务。\n",
        "\n",
        "&emsp;&emsp;所以这里word2vector转换了任务目标，使用负采样获取负样本（即如例子中[the,man,his,son]以外的单词）。并且改变任务目标——判断 输入是否为loves的上下文词。即\n",
        "\n",
        "&emsp;&emsp;input1：loves \n",
        "\n",
        "&emsp;&emsp;input2：[the,man,his,son,***no,and,ok***] \n",
        "\n",
        "&emsp;&emsp;label：[1,1,1,1,***0,0,0***]\n",
        "\n",
        "【注：加粗则是负样本】\n",
        "\n",
        "&emsp;&emsp;这里word2vector转换任务目标为二分类任务。任务计算难度大大降低。\n",
        "\n",
        "&emsp;&emsp;其中还有一些解决办法，比如hierarchical softmax。"
      ]
    },
    {
      "cell_type": "code",
      "execution_count": null,
      "metadata": {
        "id": "PV_PXZI7HrZF"
      },
      "outputs": [],
      "source": [
        "# 随机索引生成\n",
        "class RandomGenerator:\n",
        "  \"\"\"\n",
        "  根据n个采样权重在{1,...,n}中随机抽取\n",
        "  根据输入的sampling_weights来随机的生成数据 这些数据从population中选取\n",
        "  population的长度是sampling_weights的长度\n",
        "  \"\"\"\n",
        "  def __init__(self, sampling_weights):\n",
        "    # 生成一个index 1，2，3，4，5，6...\n",
        "    self.population = list(range(1, len(sampling_weights) + 1))\n",
        "    # 采样权重\n",
        "    self.sampling_weights = sampling_weights\n",
        "    # 采样候选数组\n",
        "    self.candidates = []\n",
        "    self.i = 0\n",
        "  def draw(self):\n",
        "    if self.i == len(self.candidates):\n",
        "      # 缓存k个随机采样结果 这里就在生成需要的index\n",
        "      self.candidates = random.choices(self.population, self.sampling_weights, k=10000)\n",
        "      self.i = 0\n",
        "    self.i += 1\n",
        "    return self.candidates[self.i - 1]"
      ]
    },
    {
      "cell_type": "code",
      "execution_count": null,
      "metadata": {
        "colab": {
          "base_uri": "https://localhost:8080/"
        },
        "id": "qTNluK5iHoOg",
        "outputId": "c41ac7e7-9cf1-4fee-abf5-c85c6dddc2aa"
      },
      "outputs": [
        {
          "data": {
            "text/plain": [
              "[3, 2, 3, 1, 3, 3, 3, 1, 3, 3]"
            ]
          },
          "execution_count": 31,
          "metadata": {},
          "output_type": "execute_result"
        }
      ],
      "source": [
        "generator = RandomGenerator([2, 3, 4])\n",
        "[generator.draw() for _ in range(10)]"
      ]
    },
    {
      "cell_type": "code",
      "execution_count": null,
      "metadata": {
        "id": "oOmCoL6-JJQ8"
      },
      "outputs": [],
      "source": [
        "# 负采样函数\n",
        "def get_negatives(all_contexts, vocab, counter, K):\n",
        "  \"\"\"\n",
        "  返回负采样中的噪声词\n",
        "  all_contexts：所有的上下文\n",
        "  vocab：词表\n",
        "  counter：词频统计的dict\n",
        "  k：每个中心词需要多少负采样词\n",
        "  \"\"\"\n",
        "  # 索引为1、2、...（索引0是词表中排除的未知标记）\n",
        "  # 根据单词出现频率的0.75次方进行权重计算\n",
        "  sampling_weights = [counter[vocab.to_tokens(i)]**0.75\n",
        "                    for i in range(1, len(vocab))]\n",
        "  all_negatives = []\n",
        "  # 输入权重list就可以得到index生成器generator\n",
        "  generator = RandomGenerator(sampling_weights)\n",
        "\n",
        "  for contexts in all_contexts:\n",
        "    negatives = []\n",
        "    while len(negatives) < len(contexts) * K:\n",
        "\n",
        "      neg = generator.draw()\n",
        "      # 噪声词不能是上下⽂词\n",
        "      if neg not in contexts:\n",
        "        negatives.append(neg)\n",
        "    all_negatives.append(negatives)\n",
        "  return all_negatives\n",
        "all_negatives = get_negatives(all_contexts, vocab, counter, 5)\n"
      ]
    },
    {
      "cell_type": "code",
      "execution_count": null,
      "metadata": {
        "id": "QF75H26SPGS6"
      },
      "outputs": [],
      "source": [
        "def batchify(data):\n",
        "  \"\"\"返回带有负采样的跳元模型的⼩批量样本\"\"\"\n",
        "  max_len = max(len(c) + len(n) for _, c, n in data)\n",
        "  centers, contexts_negatives, masks, labels = [], [], [], []\n",
        "  for center, context, negative in data:\n",
        "    cur_len = len(context) + len(negative)\n",
        "    centers += [center]\n",
        "    contexts_negatives += [context + negative + [0] * (max_len - cur_len)]\n",
        "    masks += [[1] * cur_len + [0] * (max_len - cur_len)]\n",
        "    labels += [[1] * len(context) + [0] * (max_len - len(context))]\n",
        "    \n",
        "  return (torch.tensor(centers).reshape((-1, 1)), torch.tensor(\n",
        "  contexts_negatives), torch.tensor(masks), torch.tensor(labels))"
      ]
    },
    {
      "cell_type": "code",
      "execution_count": null,
      "metadata": {
        "id": "UMo1jp5qPaqG"
      },
      "outputs": [],
      "source": [
        "# 综合前文的func\n",
        "def load_data_ptb(batch_size, max_window_size, num_noise_words):\n",
        "  \"\"\"下载PTB数据集，然后将其加载到内存中\"\"\"\n",
        "  num_workers = d2l.get_dataloader_workers()\n",
        "  sentences = read_ptb()\n",
        "  # 词表\n",
        "  vocab = d2l.Vocab(sentences, min_freq=10)\n",
        "  # 下采样和词频统计\n",
        "  subsampled, counter = subsample(sentences, vocab)\n",
        "  # 转换的语料\n",
        "  corpus = [vocab[line] for line in subsampled]\n",
        "  # 所有的中心词和上下文词\n",
        "  all_centers, all_contexts = get_centers_and_contexts(corpus, max_window_size)\n",
        "  # 所有的负采样词\n",
        "  all_negatives = get_negatives(all_contexts, vocab, counter, num_noise_words)\n",
        "\n",
        "  class PTBDataset(torch.utils.data.Dataset):\n",
        "    def __init__(self, centers, contexts, negatives):\n",
        "      assert len(centers) == len(contexts) == len(negatives)\n",
        "      self.centers = centers\n",
        "      self.contexts = contexts\n",
        "      self.negatives = negatives\n",
        "    def __getitem__(self, index):\n",
        "      return (self.centers[index], self.contexts[index],self.negatives[index])\n",
        "    def __len__(self):\n",
        "      return len(self.centers)\n",
        "\n",
        "  # 用PTBDataset封装\n",
        "  dataset = PTBDataset(all_centers, all_contexts, all_negatives)\n",
        "  # 转换为data_iter\n",
        "  data_iter = torch.utils.data.DataLoader(dataset, batch_size, shuffle=True,\n",
        "                       collate_fn=batchify, num_workers=num_workers)\n",
        "  return data_iter, vocab"
      ]
    },
    {
      "cell_type": "code",
      "execution_count": null,
      "metadata": {
        "colab": {
          "base_uri": "https://localhost:8080/"
        },
        "id": "psPyeIobQzOd",
        "outputId": "c09a9304-d5a7-4069-ac60-758898d06a44"
      },
      "outputs": [
        {
          "name": "stderr",
          "output_type": "stream",
          "text": [
            "/usr/local/lib/python3.7/dist-packages/torch/utils/data/dataloader.py:566: UserWarning: This DataLoader will create 4 worker processes in total. Our suggested max number of worker in current system is 2, which is smaller than what this DataLoader is going to create. Please be aware that excessive worker creation might get DataLoader running slow or even freeze, lower the worker number to avoid potential slowness/freeze if necessary.\n",
            "  cpuset_checked))\n"
          ]
        }
      ],
      "source": [
        "data_iter, vocab = load_data_ptb(5, 5, 5)"
      ]
    },
    {
      "cell_type": "code",
      "execution_count": null,
      "metadata": {
        "colab": {
          "base_uri": "https://localhost:8080/"
        },
        "id": "lx53jQ3UQLBy",
        "outputId": "91739677-3edc-4cbb-c3d1-49ad5abdc4c1"
      },
      "outputs": [
        {
          "name": "stdout",
          "output_type": "stream",
          "text": [
            "centers : tensor([[6050],\n",
            "        [  11],\n",
            "        [1358],\n",
            "        [2392],\n",
            "        [2840]]) torch.Size([5, 1])\n",
            "contexts_negatives : tensor([[  37, 3192, 2584, 2892, 1121, 2056,  175,  126,   49, 1619,   42,  916,\n",
            "          152,    8,    2, 4314,  905,  828,  128,  914, 1924, 3859, 1471,   49,\n",
            "            0,    0,    0,    0,    0,    0,    0,    0,    0,    0,    0,    0],\n",
            "        [ 268,    2,  717,  135, 2431, 3147, 4156,   96,  140,   79,    1,  287,\n",
            "            0,    0,    0,    0,    0,    0,    0,    0,    0,    0,    0,    0,\n",
            "            0,    0,    0,    0,    0,    0,    0,    0,    0,    0,    0,    0],\n",
            "        [2491, 2311,  245,  548,  325,   24,  607, 1249,    2,  201, 6227, 1016,\n",
            "            0,    0,    0,    0,    0,    0,    0,    0,    0,    0,    0,    0,\n",
            "            0,    0,    0,    0,    0,    0,    0,    0,    0,    0,    0,    0],\n",
            "        [ 103,  353,   92,  181,  579,  876, 3558,  235, 3308,  743,   23, 3500,\n",
            "         1971, 2714,   91,   10,   12, 1580, 2464,  187,   23, 5395,   64, 5475,\n",
            "         1565,  676, 1257, 5408, 1256,  442,    0,    0,    0,    0,    0,    0],\n",
            "        [   6, 1082,  236,  419,   94,  150,  782,   13, 5896,   64,   13, 1116,\n",
            "         3351,  340,  364,  609, 4282, 5190,    4,  609,   60,  303,  289,  309,\n",
            "           14,   26,  186,  543, 4808,   24, 1134,    8,  697, 1989,  220, 1482]]) torch.Size([5, 36])\n",
            "masks : tensor([[1, 1, 1, 1, 1, 1, 1, 1, 1, 1, 1, 1, 1, 1, 1, 1, 1, 1, 1, 1, 1, 1, 1, 1,\n",
            "         0, 0, 0, 0, 0, 0, 0, 0, 0, 0, 0, 0],\n",
            "        [1, 1, 1, 1, 1, 1, 1, 1, 1, 1, 1, 1, 0, 0, 0, 0, 0, 0, 0, 0, 0, 0, 0, 0,\n",
            "         0, 0, 0, 0, 0, 0, 0, 0, 0, 0, 0, 0],\n",
            "        [1, 1, 1, 1, 1, 1, 1, 1, 1, 1, 1, 1, 0, 0, 0, 0, 0, 0, 0, 0, 0, 0, 0, 0,\n",
            "         0, 0, 0, 0, 0, 0, 0, 0, 0, 0, 0, 0],\n",
            "        [1, 1, 1, 1, 1, 1, 1, 1, 1, 1, 1, 1, 1, 1, 1, 1, 1, 1, 1, 1, 1, 1, 1, 1,\n",
            "         1, 1, 1, 1, 1, 1, 0, 0, 0, 0, 0, 0],\n",
            "        [1, 1, 1, 1, 1, 1, 1, 1, 1, 1, 1, 1, 1, 1, 1, 1, 1, 1, 1, 1, 1, 1, 1, 1,\n",
            "         1, 1, 1, 1, 1, 1, 1, 1, 1, 1, 1, 1]]) torch.Size([5, 36])\n",
            "labels : tensor([[1, 1, 1, 1, 0, 0, 0, 0, 0, 0, 0, 0, 0, 0, 0, 0, 0, 0, 0, 0, 0, 0, 0, 0,\n",
            "         0, 0, 0, 0, 0, 0, 0, 0, 0, 0, 0, 0],\n",
            "        [1, 1, 0, 0, 0, 0, 0, 0, 0, 0, 0, 0, 0, 0, 0, 0, 0, 0, 0, 0, 0, 0, 0, 0,\n",
            "         0, 0, 0, 0, 0, 0, 0, 0, 0, 0, 0, 0],\n",
            "        [1, 1, 0, 0, 0, 0, 0, 0, 0, 0, 0, 0, 0, 0, 0, 0, 0, 0, 0, 0, 0, 0, 0, 0,\n",
            "         0, 0, 0, 0, 0, 0, 0, 0, 0, 0, 0, 0],\n",
            "        [1, 1, 1, 1, 1, 0, 0, 0, 0, 0, 0, 0, 0, 0, 0, 0, 0, 0, 0, 0, 0, 0, 0, 0,\n",
            "         0, 0, 0, 0, 0, 0, 0, 0, 0, 0, 0, 0],\n",
            "        [1, 1, 1, 1, 1, 1, 0, 0, 0, 0, 0, 0, 0, 0, 0, 0, 0, 0, 0, 0, 0, 0, 0, 0,\n",
            "         0, 0, 0, 0, 0, 0, 0, 0, 0, 0, 0, 0]]) torch.Size([5, 36])\n"
          ]
        }
      ],
      "source": [
        "names = ['centers', 'contexts_negatives', 'masks', 'labels']\n",
        "tmp = None\n",
        "for batch in data_iter:\n",
        "  for name,data in zip(names,batch):\n",
        "    print(name,\":\",data,data.shape)\n",
        "    if name == \"contexts_negatives\":\n",
        "      tmp = data\n",
        "    # break\n",
        "  break\n",
        "# "
      ]
    },
    {
      "cell_type": "code",
      "execution_count": null,
      "metadata": {
        "id": "jXbKAzCODDz5"
      },
      "outputs": [],
      "source": [
        "import math\n",
        "import torch\n",
        "from torch import nn\n",
        "from d2l import torch as d2l\n",
        "batch_size, max_window_size, num_noise_words = 512, 5, 5\n",
        "data_iter, vocab = load_data_ptb(batch_size, max_window_size,num_noise_words)"
      ]
    },
    {
      "cell_type": "code",
      "execution_count": null,
      "metadata": {
        "id": "5JGZLf4-DSWU"
      },
      "outputs": [],
      "source": [
        "# 前向传播\n",
        "def skip_gram(center, contexts_and_negatives, embed_v, embed_u):\n",
        "  \"\"\"\n",
        "  num_embeddings: 词表个数\n",
        "  embedding_dim: 词表维数\n",
        "  embed = nn.Embedding(num_embeddings=20, embedding_dim=4)\n",
        "  contexts_and_negatives: 上下文和负采样\n",
        "  center: 中心词\n",
        "  \"\"\"\n",
        "  v = embed_v(center)\n",
        "  u = embed_u(contexts_and_negatives)\n",
        "  # 例：输入shape center:(5,1) contexts_and_negatives:(5,36) 且embed_size = 4\n",
        "  # 则 v为（5，1，4） u为（5，36，4） \n",
        "  # pred为 v与u.permute(0, 2, 1) 矩阵乘法后的结果\n",
        "  # 其中 u.permute(0, 2, 1)的形状为 （5，4，36）\n",
        "  pred = torch.bmm(v, u.permute(0, 2, 1))\n",
        "  return pred"
      ]
    },
    {
      "cell_type": "code",
      "execution_count": null,
      "metadata": {
        "id": "x2X5oSYsK-bH"
      },
      "outputs": [],
      "source": [
        "class SigmoidBCELoss(nn.Module):\n",
        "  # 带掩码的⼆元交叉熵损失\n",
        "  def __init__(self):\n",
        "    super().__init__()\n",
        "  def forward(self, inputs, target, mask=None):\n",
        "    out = nn.functional.binary_cross_entropy_with_logits(inputs, target, weight=mask, reduction=\"none\")\n",
        "    return out.mean(dim=1)\n",
        "loss = SigmoidBCELoss()"
      ]
    },
    {
      "cell_type": "code",
      "execution_count": null,
      "metadata": {
        "id": "QU3riQbeQS6r"
      },
      "outputs": [],
      "source": [
        "embed_size = 50\n",
        "net = nn.Sequential(\n",
        "      nn.Embedding(num_embeddings=len(vocab),embedding_dim=embed_size),\n",
        "      nn.Embedding(num_embeddings=len(vocab),embedding_dim=embed_size)\n",
        "    )"
      ]
    },
    {
      "cell_type": "code",
      "execution_count": null,
      "metadata": {
        "id": "_0ge1PA6S5de"
      },
      "outputs": [],
      "source": [
        "def train(net, data_iter, lr, num_epochs,loss, device=d2l.try_gpu()):\n",
        "  def init_weights(m):\n",
        "    if type(m) == nn.Embedding:\n",
        "      nn.init.xavier_uniform_(m.weight)\n",
        "  net.apply(init_weights)\n",
        "\n",
        "  net = net.to(device)\n",
        "  optimizer = torch.optim.Adam(net.parameters(), lr=lr)\n",
        "  animator = d2l.Animator(xlabel='epoch', ylabel='loss',\n",
        "  xlim=[1, num_epochs])\n",
        "  # 规范化的损失之和，规范化的损失数\n",
        "  metric = d2l.Accumulator(2)\n",
        "  for epoch in range(num_epochs):\n",
        "    # 计时器和batches\n",
        "    timer, num_batches = d2l.Timer(), len(data_iter)\n",
        "    for i, batch in enumerate(data_iter):\n",
        "      # 常规的训练过程\n",
        "      optimizer.zero_grad()\n",
        "      center, context_negative, mask, label = [\n",
        "      data.to(device) for data in batch]\n",
        "      \n",
        "      pred = skip_gram(center, context_negative, net[0], net[1])\n",
        "      # 因为有掩码，这里是掩码训练loss的实现\n",
        "      l = (loss(pred.reshape(label.shape).float(), label.float(), mask)/mask.sum(axis=1) * mask.shape[1])\n",
        "      l.sum().backward()\n",
        "      optimizer.step()\n",
        "      # 更新图片\n",
        "      metric.add(l.sum(), l.numel())\n",
        "      if (i + 1) % (num_batches // 5) == 0 or i == num_batches - 1:\n",
        "        animator.add(epoch + (i + 1) / num_batches,(metric[0] / metric[1],))\n",
        "  print(f'loss {metric[0] / metric[1]:.3f}, 'f'{metric[1] / timer.stop():.1f} tokens/sec on {str(device)}')\n"
      ]
    },
    {
      "cell_type": "code",
      "execution_count": null,
      "metadata": {
        "colab": {
          "base_uri": "https://localhost:8080/",
          "height": 279
        },
        "id": "qhfl7H0DTnNs",
        "outputId": "330886a3-53fe-40fc-f3d6-d153b9327baf"
      },
      "outputs": [
        {
          "name": "stdout",
          "output_type": "stream",
          "text": [
            "loss 0.429, 208764.0 tokens/sec on cuda:0\n"
          ]
        },
        {
          "data": {
            "image/svg+xml": "<?xml version=\"1.0\" encoding=\"utf-8\" standalone=\"no\"?>\n<!DOCTYPE svg PUBLIC \"-//W3C//DTD SVG 1.1//EN\"\n  \"http://www.w3.org/Graphics/SVG/1.1/DTD/svg11.dtd\">\n<!-- Created with matplotlib (https://matplotlib.org/) -->\n<svg height=\"180.65625pt\" version=\"1.1\" viewBox=\"0 0 255.825 180.65625\" width=\"255.825pt\" xmlns=\"http://www.w3.org/2000/svg\" xmlns:xlink=\"http://www.w3.org/1999/xlink\">\n <defs>\n  <style type=\"text/css\">\n*{stroke-linecap:butt;stroke-linejoin:round;}\n  </style>\n </defs>\n <g id=\"figure_1\">\n  <g id=\"patch_1\">\n   <path d=\"M 0 180.65625 \nL 255.825 180.65625 \nL 255.825 0 \nL 0 0 \nz\n\" style=\"fill:none;\"/>\n  </g>\n  <g id=\"axes_1\">\n   <g id=\"patch_2\">\n    <path d=\"M 50.14375 143.1 \nL 245.44375 143.1 \nL 245.44375 7.2 \nL 50.14375 7.2 \nz\n\" style=\"fill:#ffffff;\"/>\n   </g>\n   <g id=\"matplotlib.axis_1\">\n    <g id=\"xtick_1\">\n     <g id=\"line2d_1\">\n      <path clip-path=\"url(#p59f6bda075)\" d=\"M 50.14375 143.1 \nL 50.14375 7.2 \n\" style=\"fill:none;stroke:#b0b0b0;stroke-linecap:square;stroke-width:0.8;\"/>\n     </g>\n     <g id=\"line2d_2\">\n      <defs>\n       <path d=\"M 0 0 \nL 0 3.5 \n\" id=\"m14d81b428f\" style=\"stroke:#000000;stroke-width:0.8;\"/>\n      </defs>\n      <g>\n       <use style=\"stroke:#000000;stroke-width:0.8;\" x=\"50.14375\" xlink:href=\"#m14d81b428f\" y=\"143.1\"/>\n      </g>\n     </g>\n     <g id=\"text_1\">\n      <!-- 1 -->\n      <defs>\n       <path d=\"M 12.40625 8.296875 \nL 28.515625 8.296875 \nL 28.515625 63.921875 \nL 10.984375 60.40625 \nL 10.984375 69.390625 \nL 28.421875 72.90625 \nL 38.28125 72.90625 \nL 38.28125 8.296875 \nL 54.390625 8.296875 \nL 54.390625 0 \nL 12.40625 0 \nz\n\" id=\"DejaVuSans-49\"/>\n      </defs>\n      <g transform=\"translate(46.9625 157.698438)scale(0.1 -0.1)\">\n       <use xlink:href=\"#DejaVuSans-49\"/>\n      </g>\n     </g>\n    </g>\n    <g id=\"xtick_2\">\n     <g id=\"line2d_3\">\n      <path clip-path=\"url(#p59f6bda075)\" d=\"M 98.96875 143.1 \nL 98.96875 7.2 \n\" style=\"fill:none;stroke:#b0b0b0;stroke-linecap:square;stroke-width:0.8;\"/>\n     </g>\n     <g id=\"line2d_4\">\n      <g>\n       <use style=\"stroke:#000000;stroke-width:0.8;\" x=\"98.96875\" xlink:href=\"#m14d81b428f\" y=\"143.1\"/>\n      </g>\n     </g>\n     <g id=\"text_2\">\n      <!-- 2 -->\n      <defs>\n       <path d=\"M 19.1875 8.296875 \nL 53.609375 8.296875 \nL 53.609375 0 \nL 7.328125 0 \nL 7.328125 8.296875 \nQ 12.9375 14.109375 22.625 23.890625 \nQ 32.328125 33.6875 34.8125 36.53125 \nQ 39.546875 41.84375 41.421875 45.53125 \nQ 43.3125 49.21875 43.3125 52.78125 \nQ 43.3125 58.59375 39.234375 62.25 \nQ 35.15625 65.921875 28.609375 65.921875 \nQ 23.96875 65.921875 18.8125 64.3125 \nQ 13.671875 62.703125 7.8125 59.421875 \nL 7.8125 69.390625 \nQ 13.765625 71.78125 18.9375 73 \nQ 24.125 74.21875 28.421875 74.21875 \nQ 39.75 74.21875 46.484375 68.546875 \nQ 53.21875 62.890625 53.21875 53.421875 \nQ 53.21875 48.921875 51.53125 44.890625 \nQ 49.859375 40.875 45.40625 35.40625 \nQ 44.1875 33.984375 37.640625 27.21875 \nQ 31.109375 20.453125 19.1875 8.296875 \nz\n\" id=\"DejaVuSans-50\"/>\n      </defs>\n      <g transform=\"translate(95.7875 157.698438)scale(0.1 -0.1)\">\n       <use xlink:href=\"#DejaVuSans-50\"/>\n      </g>\n     </g>\n    </g>\n    <g id=\"xtick_3\">\n     <g id=\"line2d_5\">\n      <path clip-path=\"url(#p59f6bda075)\" d=\"M 147.79375 143.1 \nL 147.79375 7.2 \n\" style=\"fill:none;stroke:#b0b0b0;stroke-linecap:square;stroke-width:0.8;\"/>\n     </g>\n     <g id=\"line2d_6\">\n      <g>\n       <use style=\"stroke:#000000;stroke-width:0.8;\" x=\"147.79375\" xlink:href=\"#m14d81b428f\" y=\"143.1\"/>\n      </g>\n     </g>\n     <g id=\"text_3\">\n      <!-- 3 -->\n      <defs>\n       <path d=\"M 40.578125 39.3125 \nQ 47.65625 37.796875 51.625 33 \nQ 55.609375 28.21875 55.609375 21.1875 \nQ 55.609375 10.40625 48.1875 4.484375 \nQ 40.765625 -1.421875 27.09375 -1.421875 \nQ 22.515625 -1.421875 17.65625 -0.515625 \nQ 12.796875 0.390625 7.625 2.203125 \nL 7.625 11.71875 \nQ 11.71875 9.328125 16.59375 8.109375 \nQ 21.484375 6.890625 26.8125 6.890625 \nQ 36.078125 6.890625 40.9375 10.546875 \nQ 45.796875 14.203125 45.796875 21.1875 \nQ 45.796875 27.640625 41.28125 31.265625 \nQ 36.765625 34.90625 28.71875 34.90625 \nL 20.21875 34.90625 \nL 20.21875 43.015625 \nL 29.109375 43.015625 \nQ 36.375 43.015625 40.234375 45.921875 \nQ 44.09375 48.828125 44.09375 54.296875 \nQ 44.09375 59.90625 40.109375 62.90625 \nQ 36.140625 65.921875 28.71875 65.921875 \nQ 24.65625 65.921875 20.015625 65.03125 \nQ 15.375 64.15625 9.8125 62.3125 \nL 9.8125 71.09375 \nQ 15.4375 72.65625 20.34375 73.4375 \nQ 25.25 74.21875 29.59375 74.21875 \nQ 40.828125 74.21875 47.359375 69.109375 \nQ 53.90625 64.015625 53.90625 55.328125 \nQ 53.90625 49.265625 50.4375 45.09375 \nQ 46.96875 40.921875 40.578125 39.3125 \nz\n\" id=\"DejaVuSans-51\"/>\n      </defs>\n      <g transform=\"translate(144.6125 157.698438)scale(0.1 -0.1)\">\n       <use xlink:href=\"#DejaVuSans-51\"/>\n      </g>\n     </g>\n    </g>\n    <g id=\"xtick_4\">\n     <g id=\"line2d_7\">\n      <path clip-path=\"url(#p59f6bda075)\" d=\"M 196.61875 143.1 \nL 196.61875 7.2 \n\" style=\"fill:none;stroke:#b0b0b0;stroke-linecap:square;stroke-width:0.8;\"/>\n     </g>\n     <g id=\"line2d_8\">\n      <g>\n       <use style=\"stroke:#000000;stroke-width:0.8;\" x=\"196.61875\" xlink:href=\"#m14d81b428f\" y=\"143.1\"/>\n      </g>\n     </g>\n     <g id=\"text_4\">\n      <!-- 4 -->\n      <defs>\n       <path d=\"M 37.796875 64.3125 \nL 12.890625 25.390625 \nL 37.796875 25.390625 \nz\nM 35.203125 72.90625 \nL 47.609375 72.90625 \nL 47.609375 25.390625 \nL 58.015625 25.390625 \nL 58.015625 17.1875 \nL 47.609375 17.1875 \nL 47.609375 0 \nL 37.796875 0 \nL 37.796875 17.1875 \nL 4.890625 17.1875 \nL 4.890625 26.703125 \nz\n\" id=\"DejaVuSans-52\"/>\n      </defs>\n      <g transform=\"translate(193.4375 157.698438)scale(0.1 -0.1)\">\n       <use xlink:href=\"#DejaVuSans-52\"/>\n      </g>\n     </g>\n    </g>\n    <g id=\"xtick_5\">\n     <g id=\"line2d_9\">\n      <path clip-path=\"url(#p59f6bda075)\" d=\"M 245.44375 143.1 \nL 245.44375 7.2 \n\" style=\"fill:none;stroke:#b0b0b0;stroke-linecap:square;stroke-width:0.8;\"/>\n     </g>\n     <g id=\"line2d_10\">\n      <g>\n       <use style=\"stroke:#000000;stroke-width:0.8;\" x=\"245.44375\" xlink:href=\"#m14d81b428f\" y=\"143.1\"/>\n      </g>\n     </g>\n     <g id=\"text_5\">\n      <!-- 5 -->\n      <defs>\n       <path d=\"M 10.796875 72.90625 \nL 49.515625 72.90625 \nL 49.515625 64.59375 \nL 19.828125 64.59375 \nL 19.828125 46.734375 \nQ 21.96875 47.46875 24.109375 47.828125 \nQ 26.265625 48.1875 28.421875 48.1875 \nQ 40.625 48.1875 47.75 41.5 \nQ 54.890625 34.8125 54.890625 23.390625 \nQ 54.890625 11.625 47.5625 5.09375 \nQ 40.234375 -1.421875 26.90625 -1.421875 \nQ 22.3125 -1.421875 17.546875 -0.640625 \nQ 12.796875 0.140625 7.71875 1.703125 \nL 7.71875 11.625 \nQ 12.109375 9.234375 16.796875 8.0625 \nQ 21.484375 6.890625 26.703125 6.890625 \nQ 35.15625 6.890625 40.078125 11.328125 \nQ 45.015625 15.765625 45.015625 23.390625 \nQ 45.015625 31 40.078125 35.4375 \nQ 35.15625 39.890625 26.703125 39.890625 \nQ 22.75 39.890625 18.8125 39.015625 \nQ 14.890625 38.140625 10.796875 36.28125 \nz\n\" id=\"DejaVuSans-53\"/>\n      </defs>\n      <g transform=\"translate(242.2625 157.698438)scale(0.1 -0.1)\">\n       <use xlink:href=\"#DejaVuSans-53\"/>\n      </g>\n     </g>\n    </g>\n    <g id=\"text_6\">\n     <!-- epoch -->\n     <defs>\n      <path d=\"M 56.203125 29.59375 \nL 56.203125 25.203125 \nL 14.890625 25.203125 \nQ 15.484375 15.921875 20.484375 11.0625 \nQ 25.484375 6.203125 34.421875 6.203125 \nQ 39.59375 6.203125 44.453125 7.46875 \nQ 49.3125 8.734375 54.109375 11.28125 \nL 54.109375 2.78125 \nQ 49.265625 0.734375 44.1875 -0.34375 \nQ 39.109375 -1.421875 33.890625 -1.421875 \nQ 20.796875 -1.421875 13.15625 6.1875 \nQ 5.515625 13.8125 5.515625 26.8125 \nQ 5.515625 40.234375 12.765625 48.109375 \nQ 20.015625 56 32.328125 56 \nQ 43.359375 56 49.78125 48.890625 \nQ 56.203125 41.796875 56.203125 29.59375 \nz\nM 47.21875 32.234375 \nQ 47.125 39.59375 43.09375 43.984375 \nQ 39.0625 48.390625 32.421875 48.390625 \nQ 24.90625 48.390625 20.390625 44.140625 \nQ 15.875 39.890625 15.1875 32.171875 \nz\n\" id=\"DejaVuSans-101\"/>\n      <path d=\"M 18.109375 8.203125 \nL 18.109375 -20.796875 \nL 9.078125 -20.796875 \nL 9.078125 54.6875 \nL 18.109375 54.6875 \nL 18.109375 46.390625 \nQ 20.953125 51.265625 25.265625 53.625 \nQ 29.59375 56 35.59375 56 \nQ 45.5625 56 51.78125 48.09375 \nQ 58.015625 40.1875 58.015625 27.296875 \nQ 58.015625 14.40625 51.78125 6.484375 \nQ 45.5625 -1.421875 35.59375 -1.421875 \nQ 29.59375 -1.421875 25.265625 0.953125 \nQ 20.953125 3.328125 18.109375 8.203125 \nz\nM 48.6875 27.296875 \nQ 48.6875 37.203125 44.609375 42.84375 \nQ 40.53125 48.484375 33.40625 48.484375 \nQ 26.265625 48.484375 22.1875 42.84375 \nQ 18.109375 37.203125 18.109375 27.296875 \nQ 18.109375 17.390625 22.1875 11.75 \nQ 26.265625 6.109375 33.40625 6.109375 \nQ 40.53125 6.109375 44.609375 11.75 \nQ 48.6875 17.390625 48.6875 27.296875 \nz\n\" id=\"DejaVuSans-112\"/>\n      <path d=\"M 30.609375 48.390625 \nQ 23.390625 48.390625 19.1875 42.75 \nQ 14.984375 37.109375 14.984375 27.296875 \nQ 14.984375 17.484375 19.15625 11.84375 \nQ 23.34375 6.203125 30.609375 6.203125 \nQ 37.796875 6.203125 41.984375 11.859375 \nQ 46.1875 17.53125 46.1875 27.296875 \nQ 46.1875 37.015625 41.984375 42.703125 \nQ 37.796875 48.390625 30.609375 48.390625 \nz\nM 30.609375 56 \nQ 42.328125 56 49.015625 48.375 \nQ 55.71875 40.765625 55.71875 27.296875 \nQ 55.71875 13.875 49.015625 6.21875 \nQ 42.328125 -1.421875 30.609375 -1.421875 \nQ 18.84375 -1.421875 12.171875 6.21875 \nQ 5.515625 13.875 5.515625 27.296875 \nQ 5.515625 40.765625 12.171875 48.375 \nQ 18.84375 56 30.609375 56 \nz\n\" id=\"DejaVuSans-111\"/>\n      <path d=\"M 48.78125 52.59375 \nL 48.78125 44.1875 \nQ 44.96875 46.296875 41.140625 47.34375 \nQ 37.3125 48.390625 33.40625 48.390625 \nQ 24.65625 48.390625 19.8125 42.84375 \nQ 14.984375 37.3125 14.984375 27.296875 \nQ 14.984375 17.28125 19.8125 11.734375 \nQ 24.65625 6.203125 33.40625 6.203125 \nQ 37.3125 6.203125 41.140625 7.25 \nQ 44.96875 8.296875 48.78125 10.40625 \nL 48.78125 2.09375 \nQ 45.015625 0.34375 40.984375 -0.53125 \nQ 36.96875 -1.421875 32.421875 -1.421875 \nQ 20.0625 -1.421875 12.78125 6.34375 \nQ 5.515625 14.109375 5.515625 27.296875 \nQ 5.515625 40.671875 12.859375 48.328125 \nQ 20.21875 56 33.015625 56 \nQ 37.15625 56 41.109375 55.140625 \nQ 45.0625 54.296875 48.78125 52.59375 \nz\n\" id=\"DejaVuSans-99\"/>\n      <path d=\"M 54.890625 33.015625 \nL 54.890625 0 \nL 45.90625 0 \nL 45.90625 32.71875 \nQ 45.90625 40.484375 42.875 44.328125 \nQ 39.84375 48.1875 33.796875 48.1875 \nQ 26.515625 48.1875 22.3125 43.546875 \nQ 18.109375 38.921875 18.109375 30.90625 \nL 18.109375 0 \nL 9.078125 0 \nL 9.078125 75.984375 \nL 18.109375 75.984375 \nL 18.109375 46.1875 \nQ 21.34375 51.125 25.703125 53.5625 \nQ 30.078125 56 35.796875 56 \nQ 45.21875 56 50.046875 50.171875 \nQ 54.890625 44.34375 54.890625 33.015625 \nz\n\" id=\"DejaVuSans-104\"/>\n     </defs>\n     <g transform=\"translate(132.565625 171.376563)scale(0.1 -0.1)\">\n      <use xlink:href=\"#DejaVuSans-101\"/>\n      <use x=\"61.523438\" xlink:href=\"#DejaVuSans-112\"/>\n      <use x=\"125\" xlink:href=\"#DejaVuSans-111\"/>\n      <use x=\"186.181641\" xlink:href=\"#DejaVuSans-99\"/>\n      <use x=\"241.162109\" xlink:href=\"#DejaVuSans-104\"/>\n     </g>\n    </g>\n   </g>\n   <g id=\"matplotlib.axis_2\">\n    <g id=\"ytick_1\">\n     <g id=\"line2d_11\">\n      <path clip-path=\"url(#p59f6bda075)\" d=\"M 50.14375 124.579531 \nL 245.44375 124.579531 \n\" style=\"fill:none;stroke:#b0b0b0;stroke-linecap:square;stroke-width:0.8;\"/>\n     </g>\n     <g id=\"line2d_12\">\n      <defs>\n       <path d=\"M 0 0 \nL -3.5 0 \n\" id=\"m3f20e06c08\" style=\"stroke:#000000;stroke-width:0.8;\"/>\n      </defs>\n      <g>\n       <use style=\"stroke:#000000;stroke-width:0.8;\" x=\"50.14375\" xlink:href=\"#m3f20e06c08\" y=\"124.579531\"/>\n      </g>\n     </g>\n     <g id=\"text_7\">\n      <!-- 0.45 -->\n      <defs>\n       <path d=\"M 31.78125 66.40625 \nQ 24.171875 66.40625 20.328125 58.90625 \nQ 16.5 51.421875 16.5 36.375 \nQ 16.5 21.390625 20.328125 13.890625 \nQ 24.171875 6.390625 31.78125 6.390625 \nQ 39.453125 6.390625 43.28125 13.890625 \nQ 47.125 21.390625 47.125 36.375 \nQ 47.125 51.421875 43.28125 58.90625 \nQ 39.453125 66.40625 31.78125 66.40625 \nz\nM 31.78125 74.21875 \nQ 44.046875 74.21875 50.515625 64.515625 \nQ 56.984375 54.828125 56.984375 36.375 \nQ 56.984375 17.96875 50.515625 8.265625 \nQ 44.046875 -1.421875 31.78125 -1.421875 \nQ 19.53125 -1.421875 13.0625 8.265625 \nQ 6.59375 17.96875 6.59375 36.375 \nQ 6.59375 54.828125 13.0625 64.515625 \nQ 19.53125 74.21875 31.78125 74.21875 \nz\n\" id=\"DejaVuSans-48\"/>\n       <path d=\"M 10.6875 12.40625 \nL 21 12.40625 \nL 21 0 \nL 10.6875 0 \nz\n\" id=\"DejaVuSans-46\"/>\n      </defs>\n      <g transform=\"translate(20.878125 128.378749)scale(0.1 -0.1)\">\n       <use xlink:href=\"#DejaVuSans-48\"/>\n       <use x=\"63.623047\" xlink:href=\"#DejaVuSans-46\"/>\n       <use x=\"95.410156\" xlink:href=\"#DejaVuSans-52\"/>\n       <use x=\"159.033203\" xlink:href=\"#DejaVuSans-53\"/>\n      </g>\n     </g>\n    </g>\n    <g id=\"ytick_2\">\n     <g id=\"line2d_13\">\n      <path clip-path=\"url(#p59f6bda075)\" d=\"M 50.14375 94.630796 \nL 245.44375 94.630796 \n\" style=\"fill:none;stroke:#b0b0b0;stroke-linecap:square;stroke-width:0.8;\"/>\n     </g>\n     <g id=\"line2d_14\">\n      <g>\n       <use style=\"stroke:#000000;stroke-width:0.8;\" x=\"50.14375\" xlink:href=\"#m3f20e06c08\" y=\"94.630796\"/>\n      </g>\n     </g>\n     <g id=\"text_8\">\n      <!-- 0.50 -->\n      <g transform=\"translate(20.878125 98.430014)scale(0.1 -0.1)\">\n       <use xlink:href=\"#DejaVuSans-48\"/>\n       <use x=\"63.623047\" xlink:href=\"#DejaVuSans-46\"/>\n       <use x=\"95.410156\" xlink:href=\"#DejaVuSans-53\"/>\n       <use x=\"159.033203\" xlink:href=\"#DejaVuSans-48\"/>\n      </g>\n     </g>\n    </g>\n    <g id=\"ytick_3\">\n     <g id=\"line2d_15\">\n      <path clip-path=\"url(#p59f6bda075)\" d=\"M 50.14375 64.682061 \nL 245.44375 64.682061 \n\" style=\"fill:none;stroke:#b0b0b0;stroke-linecap:square;stroke-width:0.8;\"/>\n     </g>\n     <g id=\"line2d_16\">\n      <g>\n       <use style=\"stroke:#000000;stroke-width:0.8;\" x=\"50.14375\" xlink:href=\"#m3f20e06c08\" y=\"64.682061\"/>\n      </g>\n     </g>\n     <g id=\"text_9\">\n      <!-- 0.55 -->\n      <g transform=\"translate(20.878125 68.481279)scale(0.1 -0.1)\">\n       <use xlink:href=\"#DejaVuSans-48\"/>\n       <use x=\"63.623047\" xlink:href=\"#DejaVuSans-46\"/>\n       <use x=\"95.410156\" xlink:href=\"#DejaVuSans-53\"/>\n       <use x=\"159.033203\" xlink:href=\"#DejaVuSans-53\"/>\n      </g>\n     </g>\n    </g>\n    <g id=\"ytick_4\">\n     <g id=\"line2d_17\">\n      <path clip-path=\"url(#p59f6bda075)\" d=\"M 50.14375 34.733326 \nL 245.44375 34.733326 \n\" style=\"fill:none;stroke:#b0b0b0;stroke-linecap:square;stroke-width:0.8;\"/>\n     </g>\n     <g id=\"line2d_18\">\n      <g>\n       <use style=\"stroke:#000000;stroke-width:0.8;\" x=\"50.14375\" xlink:href=\"#m3f20e06c08\" y=\"34.733326\"/>\n      </g>\n     </g>\n     <g id=\"text_10\">\n      <!-- 0.60 -->\n      <defs>\n       <path d=\"M 33.015625 40.375 \nQ 26.375 40.375 22.484375 35.828125 \nQ 18.609375 31.296875 18.609375 23.390625 \nQ 18.609375 15.53125 22.484375 10.953125 \nQ 26.375 6.390625 33.015625 6.390625 \nQ 39.65625 6.390625 43.53125 10.953125 \nQ 47.40625 15.53125 47.40625 23.390625 \nQ 47.40625 31.296875 43.53125 35.828125 \nQ 39.65625 40.375 33.015625 40.375 \nz\nM 52.59375 71.296875 \nL 52.59375 62.3125 \nQ 48.875 64.0625 45.09375 64.984375 \nQ 41.3125 65.921875 37.59375 65.921875 \nQ 27.828125 65.921875 22.671875 59.328125 \nQ 17.53125 52.734375 16.796875 39.40625 \nQ 19.671875 43.65625 24.015625 45.921875 \nQ 28.375 48.1875 33.59375 48.1875 \nQ 44.578125 48.1875 50.953125 41.515625 \nQ 57.328125 34.859375 57.328125 23.390625 \nQ 57.328125 12.15625 50.6875 5.359375 \nQ 44.046875 -1.421875 33.015625 -1.421875 \nQ 20.359375 -1.421875 13.671875 8.265625 \nQ 6.984375 17.96875 6.984375 36.375 \nQ 6.984375 53.65625 15.1875 63.9375 \nQ 23.390625 74.21875 37.203125 74.21875 \nQ 40.921875 74.21875 44.703125 73.484375 \nQ 48.484375 72.75 52.59375 71.296875 \nz\n\" id=\"DejaVuSans-54\"/>\n      </defs>\n      <g transform=\"translate(20.878125 38.532544)scale(0.1 -0.1)\">\n       <use xlink:href=\"#DejaVuSans-48\"/>\n       <use x=\"63.623047\" xlink:href=\"#DejaVuSans-46\"/>\n       <use x=\"95.410156\" xlink:href=\"#DejaVuSans-54\"/>\n       <use x=\"159.033203\" xlink:href=\"#DejaVuSans-48\"/>\n      </g>\n     </g>\n    </g>\n    <g id=\"text_11\">\n     <!-- loss -->\n     <defs>\n      <path d=\"M 9.421875 75.984375 \nL 18.40625 75.984375 \nL 18.40625 0 \nL 9.421875 0 \nz\n\" id=\"DejaVuSans-108\"/>\n      <path d=\"M 44.28125 53.078125 \nL 44.28125 44.578125 \nQ 40.484375 46.53125 36.375 47.5 \nQ 32.28125 48.484375 27.875 48.484375 \nQ 21.1875 48.484375 17.84375 46.4375 \nQ 14.5 44.390625 14.5 40.28125 \nQ 14.5 37.15625 16.890625 35.375 \nQ 19.28125 33.59375 26.515625 31.984375 \nL 29.59375 31.296875 \nQ 39.15625 29.25 43.1875 25.515625 \nQ 47.21875 21.78125 47.21875 15.09375 \nQ 47.21875 7.46875 41.1875 3.015625 \nQ 35.15625 -1.421875 24.609375 -1.421875 \nQ 20.21875 -1.421875 15.453125 -0.5625 \nQ 10.6875 0.296875 5.421875 2 \nL 5.421875 11.28125 \nQ 10.40625 8.6875 15.234375 7.390625 \nQ 20.0625 6.109375 24.8125 6.109375 \nQ 31.15625 6.109375 34.5625 8.28125 \nQ 37.984375 10.453125 37.984375 14.40625 \nQ 37.984375 18.0625 35.515625 20.015625 \nQ 33.0625 21.96875 24.703125 23.78125 \nL 21.578125 24.515625 \nQ 13.234375 26.265625 9.515625 29.90625 \nQ 5.8125 33.546875 5.8125 39.890625 \nQ 5.8125 47.609375 11.28125 51.796875 \nQ 16.75 56 26.8125 56 \nQ 31.78125 56 36.171875 55.265625 \nQ 40.578125 54.546875 44.28125 53.078125 \nz\n\" id=\"DejaVuSans-115\"/>\n     </defs>\n     <g transform=\"translate(14.798437 84.807812)rotate(-90)scale(0.1 -0.1)\">\n      <use xlink:href=\"#DejaVuSans-108\"/>\n      <use x=\"27.783203\" xlink:href=\"#DejaVuSans-111\"/>\n      <use x=\"88.964844\" xlink:href=\"#DejaVuSans-115\"/>\n      <use x=\"141.064453\" xlink:href=\"#DejaVuSans-115\"/>\n     </g>\n    </g>\n   </g>\n   <g id=\"line2d_19\">\n    <path clip-path=\"url(#p59f6bda075)\" d=\"M 11.08375 13.377273 \nL 20.84875 61.467109 \nL 30.61375 82.327888 \nL 40.37875 93.593221 \nL 50.14375 100.553886 \nL 59.90875 105.438247 \nL 69.67375 109.076659 \nL 79.43875 111.946035 \nL 89.20375 114.339026 \nL 98.96875 116.415249 \nL 108.73375 118.398117 \nL 118.49875 120.165593 \nL 128.26375 121.771442 \nL 138.02875 123.247416 \nL 147.79375 124.630309 \nL 157.55875 126.130069 \nL 167.32375 127.512462 \nL 177.08875 128.818683 \nL 186.85375 130.039772 \nL 196.61875 131.18152 \nL 206.38375 132.520368 \nL 216.14875 133.746572 \nL 225.91375 134.878136 \nL 235.67875 135.940237 \nL 245.44375 136.922727 \n\" style=\"fill:none;stroke:#1f77b4;stroke-linecap:square;stroke-width:1.5;\"/>\n   </g>\n   <g id=\"patch_3\">\n    <path d=\"M 50.14375 143.1 \nL 50.14375 7.2 \n\" style=\"fill:none;stroke:#000000;stroke-linecap:square;stroke-linejoin:miter;stroke-width:0.8;\"/>\n   </g>\n   <g id=\"patch_4\">\n    <path d=\"M 245.44375 143.1 \nL 245.44375 7.2 \n\" style=\"fill:none;stroke:#000000;stroke-linecap:square;stroke-linejoin:miter;stroke-width:0.8;\"/>\n   </g>\n   <g id=\"patch_5\">\n    <path d=\"M 50.14375 143.1 \nL 245.44375 143.1 \n\" style=\"fill:none;stroke:#000000;stroke-linecap:square;stroke-linejoin:miter;stroke-width:0.8;\"/>\n   </g>\n   <g id=\"patch_6\">\n    <path d=\"M 50.14375 7.2 \nL 245.44375 7.2 \n\" style=\"fill:none;stroke:#000000;stroke-linecap:square;stroke-linejoin:miter;stroke-width:0.8;\"/>\n   </g>\n  </g>\n </g>\n <defs>\n  <clipPath id=\"p59f6bda075\">\n   <rect height=\"135.9\" width=\"195.3\" x=\"50.14375\" y=\"7.2\"/>\n  </clipPath>\n </defs>\n</svg>\n",
            "text/plain": [
              "<Figure size 252x180 with 1 Axes>"
            ]
          },
          "metadata": {},
          "output_type": "display_data"
        }
      ],
      "source": [
        "lr, num_epochs = 0.002, 5\n",
        "train(net, data_iter, lr, num_epochs, loss)"
      ]
    },
    {
      "cell_type": "code",
      "execution_count": null,
      "metadata": {
        "colab": {
          "base_uri": "https://localhost:8080/"
        },
        "id": "QN70nO7tUDIR",
        "outputId": "b598e48d-74bd-490a-a461-a94e378d4a38"
      },
      "outputs": [
        {
          "name": "stdout",
          "output_type": "stream",
          "text": [
            "cosine sim=0.813: intel\n",
            "cosine sim=0.721: workstations\n",
            "cosine sim=0.716: disk\n"
          ]
        }
      ],
      "source": [
        "def get_similar_tokens(query_token, k, embed):\n",
        "  W = embed.weight.data\n",
        "  x = W[vocab[query_token]]\n",
        "  # 计算余弦相似性。增加1e-9以获得数值稳定性\n",
        "  cos = torch.mv(W, x) / torch.sqrt(torch.sum(W * W, dim=1) *\n",
        "  torch.sum(x * x) + 1e-9)\n",
        "  topk = torch.topk(cos, k=k+1)[1].cpu().numpy().astype('int32')\n",
        "  for i in topk[1:]: # 删除输⼊词\n",
        "    print(f'cosine sim={float(cos[i]):.3f}: {vocab.to_tokens(i)}')\n",
        "get_similar_tokens('chip', 3, net[0])\n"
      ]
    },
    {
      "cell_type": "markdown",
      "metadata": {
        "id": "-d9Lnkw9uSiU"
      },
      "source": [
        "### bert\n",
        "- bert的输入\n",
        "\n",
        "1）在序列tokens中把分割token（[SEP]）插入到每个句子后，以分开不同的句子tokens。\n",
        "\n",
        "2）为每一个token表征都添加一个可学习的分割embedding来指示其属于句子A还是句子B。\n",
        "<div align=center> \n",
        "<img src=\"https://pic1.zhimg.com/v2-a12ee6f717cc8312c43d140eb173def8_r.jpg\"/>\n",
        "</div>\n",
        "上面提到了BERT的输入为每一个token对应的表征，实际上该表征是由三部分组成的，分别是对应的token，分割和位置 embeddings\n",
        "<div align=center> \n",
        "<img src=\"https://pic1.zhimg.com/v2-ee823df66560850baa34128af76a6334_r.jpg\"/>\n",
        "</div>\n",
        "\n",
        "- BERT构建了两个预训练任务，分别是Masked Language Model和Next Sentence Prediction。\n",
        "\n",
        "- bert的输出\n",
        "\n",
        "C为分类token（[CLS]）对应最后一个Transformer的输出， $T_i$则代表其他token对应最后一个Transformer的输出。对于一些token级别的任务（如，序列标注和问答任务），就把 输入到额外的输出层中进行预测。对于一些句子级别的任务（如，自然语言推断和情感分类任务），就把C输入到额外的输出层中，这里也就解释了为什么要在每一个token序列前都要插入特定的分类token。\n",
        "<div align=center> \n",
        "<img src=\"https://pic3.zhimg.com/80/v2-f0618dc2c2f62bd8d71c2195947be1d6_720w.jpg\"/>\n",
        "</div>"
      ]
    },
    {
      "cell_type": "markdown",
      "metadata": {
        "id": "3zfcno6oYYYG"
      },
      "source": [
        "#### encoder块定义"
      ]
    },
    {
      "cell_type": "code",
      "execution_count": null,
      "metadata": {
        "id": "yQ0NEHPEzrwm"
      },
      "outputs": [],
      "source": [
        "class BERTEncoder(nn.Module):\n",
        "  \"\"\"BERT编码器实现\"\"\"\n",
        "  def __init__(self, vocab_size, num_hiddens, norm_shape, ffn_num_input,\n",
        "          ffn_num_hiddens, num_heads, num_layers, dropout,\n",
        "          max_len=1000, key_size=768, query_size=768, value_size=768,\n",
        "          **kwargs):\n",
        "    super(BERTEncoder, self).__init__(**kwargs)\n",
        "    self.token_embedding = nn.Embedding(vocab_size, num_hiddens)\n",
        "    self.segment_embedding = nn.Embedding(2, num_hiddens)\n",
        "    # 在BERT中，位置嵌⼊是可学习的，因此我们创建⼀个⾜够⻓的位置嵌⼊参数\n",
        "    self.pos_embedding = nn.Parameter(torch.randn(1, max_len,\n",
        "    num_hiddens))\n",
        "    # 堆叠\n",
        "    self.blks = nn.Sequential()\n",
        "    for i in range(num_layers):\n",
        "      self.blks.add_module(f\"{i}\", d2l.EncoderBlock(\n",
        "      key_size, query_size, value_size, num_hiddens, norm_shape,\n",
        "      ffn_num_input, ffn_num_hiddens, num_heads, dropout, True))\n",
        "  def forward(self, tokens, segments, valid_lens):\n",
        "    # 在以下代码段中，X的形状保持不变：（批量⼤⼩，最⼤序列⻓度，num_hiddens）\n",
        "    # 三个embedding相加\n",
        "    X = self.token_embedding(tokens) + self.segment_embedding(segments)\n",
        "    X = X + self.pos_embedding.data[:, :X.shape[1], :]\n",
        "    # 再在所有block中进行训练\n",
        "    for blk in self.blks:\n",
        "      X = blk(X, valid_lens)\n",
        "    return X"
      ]
    },
    {
      "cell_type": "code",
      "execution_count": null,
      "metadata": {
        "colab": {
          "base_uri": "https://localhost:8080/"
        },
        "id": "4wiDBXUFM2nM",
        "outputId": "65e03f6a-7201-43b2-8097-76c43ac0fa5c"
      },
      "outputs": [
        {
          "name": "stdout",
          "output_type": "stream",
          "text": [
            "tensor([[ 494, 9828, 1023, 7761, 9510, 5052, 3690, 4687],\n",
            "        [2855, 2629, 3319, 8461, 9122, 2673, 8691, 1581]])\n"
          ]
        },
        {
          "data": {
            "text/plain": [
              "torch.Size([2, 8, 768])"
            ]
          },
          "execution_count": 45,
          "metadata": {},
          "output_type": "execute_result"
        }
      ],
      "source": [
        "vocab_size, num_hiddens, ffn_num_hiddens, num_heads = 10000, 768, 1024, 4\n",
        "norm_shape, ffn_num_input, num_layers, dropout = [768], 768, 2, 0.2\n",
        "encoder = BERTEncoder(vocab_size, num_hiddens, norm_shape, ffn_num_input,ffn_num_hiddens, num_heads, num_layers, dropout)\n",
        "\"\"\"\n",
        "将tokens定义为⻓度为8的2个输⼊序列，其中每个词元是词表的索引。使⽤输\n",
        "⼊tokens的BERTEncoder的前向推断返回编码结果,其中每个词元由向量表⽰，其⻓度由超参\n",
        "数num_hiddens定义。此超参数通常称为Transformer编码器的隐藏⼤小（隐藏单元数）。\n",
        "\"\"\"\n",
        "tokens = torch.randint(0, vocab_size, (2, 8))\n",
        "print(tokens)\n",
        "segments = torch.tensor([[0, 0, 0, 0, 1, 1, 1, 1], [0, 0, 0, 1, 1, 1, 1, 1]])\n",
        "encoded_X = encoder(tokens, segments, None)\n",
        "encoded_X.shape"
      ]
    },
    {
      "cell_type": "markdown",
      "metadata": {
        "id": "rrEx4WROYV_E"
      },
      "source": [
        "#### 子任务定义"
      ]
    },
    {
      "cell_type": "code",
      "execution_count": null,
      "metadata": {
        "id": "fomBrervObo-"
      },
      "outputs": [],
      "source": [
        "# 子任务定义\n",
        "class MaskLM(nn.Module):\n",
        "  \"\"\"BERT的掩蔽语⾔模型任务\"\"\"\n",
        "  def __init__(self, vocab_size, num_hiddens, num_inputs=768, **kwargs):\n",
        "    super(MaskLM, self).__init__(**kwargs)\n",
        "    self.mlp = nn.Sequential(nn.Linear(num_inputs, num_hiddens),\n",
        "                  nn.ReLU(),\n",
        "                  nn.LayerNorm(num_hiddens),\n",
        "                  nn.Linear(num_hiddens, vocab_size))\n",
        "\n",
        "  def forward(self, X, pred_positions):\n",
        "    num_pred_positions = pred_positions.shape[1]\n",
        "    pred_positions = pred_positions.reshape(-1)\n",
        "    batch_size = X.shape[0]\n",
        "    # 假设batch_size=2，num_pred_positions=3\n",
        "    # 那么batch_idx是np.array（[0,1]）\n",
        "    batch_idx = torch.arange(0, batch_size)\n",
        "    # repeat_interleave后为np.array（[0,0,0,1,1,1]）\n",
        "    # 同时也应该为[0,0,0,1,1,1]\n",
        "    batch_idx = torch.repeat_interleave(batch_idx, num_pred_positions)\n",
        "    masked_X = X[batch_idx, pred_positions]\n",
        "    \n",
        "    masked_X = masked_X.reshape((batch_size, num_pred_positions, -1))\n",
        "    mlm_Y_hat = self.mlp(masked_X)\n",
        "    return mlm_Y_hat"
      ]
    },
    {
      "cell_type": "code",
      "execution_count": null,
      "metadata": {
        "colab": {
          "base_uri": "https://localhost:8080/"
        },
        "id": "3XZqptuVTYEM",
        "outputId": "0c246be7-8ba0-47ef-80aa-416cfeac83e2"
      },
      "outputs": [
        {
          "name": "stdout",
          "output_type": "stream",
          "text": [
            "torch.Size([6, 768])\n"
          ]
        },
        {
          "data": {
            "text/plain": [
              "torch.Size([2, 3, 768])"
            ]
          },
          "execution_count": 47,
          "metadata": {},
          "output_type": "execute_result"
        }
      ],
      "source": [
        "print(encoded_X[[0,0,0,1,1,1],[1, 5, 2, 6, 1, 5]].shape)\n",
        "encoded_X[[0,0,0,1,1,1],[1, 5, 2, 6, 1, 5]].reshape((2, 3, -1)).shape"
      ]
    },
    {
      "cell_type": "code",
      "execution_count": null,
      "metadata": {
        "colab": {
          "base_uri": "https://localhost:8080/"
        },
        "id": "AFJnr3KbOxoH",
        "outputId": "61e7ff91-961e-4ec3-ef47-932ce1123aa7"
      },
      "outputs": [
        {
          "name": "stdout",
          "output_type": "stream",
          "text": [
            "torch.Size([2, 3, 10000])\n"
          ]
        },
        {
          "data": {
            "text/plain": [
              "torch.Size([6])"
            ]
          },
          "execution_count": 48,
          "metadata": {},
          "output_type": "execute_result"
        }
      ],
      "source": [
        "\"\"\"\n",
        "我们将mlm_positions定义为在encoded_X的任⼀输⼊序列中预测的3个指⽰。\n",
        "mlm的前向推断返回encoded_X的所有掩蔽位置mlm_positions处的预测结\n",
        "果mlm_Y_hat。对于每个预测，结果的⼤小等于词表的⼤小。\n",
        "\"\"\"\n",
        "mlm = MaskLM(vocab_size, num_hiddens)\n",
        "mlm_positions = torch.tensor([[1, 5, 2], [6, 1, 5]])\n",
        "mlm_Y_hat = mlm(encoded_X, mlm_positions)\n",
        "print(mlm_Y_hat.shape)\n",
        "\"\"\"\n",
        "通过掩码下的预测词元mlm_Y的真实标签mlm_Y_hat，\n",
        "我们可以计算在BERT预训练中的遮蔽语⾔模型任务\n",
        "的交叉熵损失。\n",
        "\"\"\"\n",
        "mlm_Y = torch.tensor([[7, 8, 9], [10, 20, 30]])\n",
        "loss = nn.CrossEntropyLoss(reduction='none')\n",
        "mlm_l = loss(mlm_Y_hat.reshape((-1, vocab_size)), mlm_Y.reshape(-1))\n",
        "mlm_l.shape"
      ]
    },
    {
      "cell_type": "code",
      "execution_count": null,
      "metadata": {
        "id": "_sjCC8mYYNq2"
      },
      "outputs": [],
      "source": [
        "class NextSentencePred(nn.Module):\n",
        "  \"\"\"BERT的下⼀句预测任务\"\"\"\n",
        "  def __init__(self, num_inputs, **kwargs):\n",
        "    super(NextSentencePred, self).__init__(**kwargs)\n",
        "    self.output = nn.Linear(num_inputs, 2)\n",
        "  def forward(self, X):\n",
        "    # X的形状：(batchsize,num_hiddens)\n",
        "    return self.output(X)\n"
      ]
    },
    {
      "cell_type": "code",
      "execution_count": null,
      "metadata": {
        "colab": {
          "base_uri": "https://localhost:8080/"
        },
        "id": "GIJ7WlCkZTwZ",
        "outputId": "ff071e25-ef2f-4df7-d9d5-1b3500a43a87"
      },
      "outputs": [
        {
          "data": {
            "text/plain": [
              "768"
            ]
          },
          "execution_count": 50,
          "metadata": {},
          "output_type": "execute_result"
        }
      ],
      "source": [
        "encoded_X.shape[-1]"
      ]
    },
    {
      "cell_type": "code",
      "execution_count": null,
      "metadata": {
        "colab": {
          "base_uri": "https://localhost:8080/"
        },
        "id": "j8N7khD4ZXF1",
        "outputId": "929002ed-b634-438e-f120-9ec74ea34bab"
      },
      "outputs": [
        {
          "data": {
            "text/plain": [
              "tensor([[[ 1.0300,  0.3184,  0.1359,  ..., -0.7681,  1.8320,  0.1710],\n",
              "         [-0.1815,  0.1572, -0.7951,  ...,  0.2367,  0.4435,  1.4045],\n",
              "         [-0.8095,  1.2352,  0.4881,  ..., -0.4655,  0.9953,  1.4593],\n",
              "         ...,\n",
              "         [ 0.4617, -0.7007, -0.2722,  ..., -0.6532,  1.9664,  0.0795],\n",
              "         [-0.3651, -2.0006, -2.3630,  ..., -1.1384,  1.0908, -0.6801],\n",
              "         [-0.3488,  0.3627, -1.8713,  ..., -0.5273,  0.9861, -0.7218]],\n",
              "\n",
              "        [[ 0.6210,  0.3885,  0.3080,  ..., -0.6704,  2.2712,  1.6621],\n",
              "         [ 0.3867, -0.4777, -0.4435,  ..., -0.8720,  0.5934,  1.1697],\n",
              "         [-0.1471,  1.1895, -0.4421,  ..., -0.1049,  0.6449,  0.7023],\n",
              "         ...,\n",
              "         [ 0.3638, -0.5291,  0.2298,  ..., -0.5214,  1.9833,  0.2338],\n",
              "         [-0.3286, -2.5310, -2.8125,  ..., -0.7180,  0.0477,  0.5790],\n",
              "         [ 0.6858, -0.6276, -1.3450,  ...,  0.9266,  0.9094, -0.4732]]],\n",
              "       grad_fn=<NativeLayerNormBackward0>)"
            ]
          },
          "execution_count": 51,
          "metadata": {},
          "output_type": "execute_result"
        }
      ],
      "source": [
        "encoded_X"
      ]
    },
    {
      "cell_type": "code",
      "execution_count": null,
      "metadata": {
        "colab": {
          "base_uri": "https://localhost:8080/"
        },
        "id": "t2-kiI48YlpB",
        "outputId": "9bb1b919-8297-4c3f-f2e6-186a31452fc8"
      },
      "outputs": [
        {
          "name": "stdout",
          "output_type": "stream",
          "text": [
            "tensor([[-0.4331,  0.5601],\n",
            "        [-0.0136, -0.3232]], grad_fn=<AddmmBackward0>)\n"
          ]
        },
        {
          "data": {
            "text/plain": [
              "torch.Size([2])"
            ]
          },
          "execution_count": 52,
          "metadata": {},
          "output_type": "execute_result"
        }
      ],
      "source": [
        "encoded_X = torch.flatten(encoded_X, start_dim=1)\n",
        "# NSP的输⼊形状:(batchsize，num_hiddens)\n",
        "nsp = NextSentencePred(encoded_X.shape[-1])\n",
        "nsp_Y_hat = nsp(encoded_X)\n",
        "print(nsp_Y_hat)\n",
        "\n",
        "nsp_y = torch.tensor([0, 1])\n",
        "nsp_l = loss(nsp_Y_hat, nsp_y)\n",
        "nsp_l.shape\n"
      ]
    },
    {
      "cell_type": "markdown",
      "metadata": {
        "id": "sC7KEtlMbbiZ"
      },
      "source": [
        "#### 模型整合"
      ]
    },
    {
      "cell_type": "code",
      "execution_count": null,
      "metadata": {
        "id": "FYjCyLvsY4Ai"
      },
      "outputs": [],
      "source": [
        "class BERTModel(nn.Module):\n",
        "  \"\"\"BERT模型\"\"\"\n",
        "  def __init__(self, vocab_size, num_hiddens, norm_shape, ffn_num_input,\n",
        "        ffn_num_hiddens, num_heads, num_layers, dropout,\n",
        "        max_len=1000, key_size=768, query_size=768, value_size=768,\n",
        "        hid_in_features=768, mlm_in_features=768,\n",
        "        nsp_in_features=768):\n",
        "    super(BERTModel, self).__init__()\n",
        "    self.encoder = BERTEncoder(vocab_size, num_hiddens, norm_shape,\n",
        "                  ffn_num_input, ffn_num_hiddens, num_heads, num_layers,\n",
        "                  dropout, max_len=max_len, key_size=key_size,\n",
        "                  query_size=query_size, value_size=value_size)\n",
        "    self.hidden = nn.Sequential(nn.Linear(hid_in_features, num_hiddens),nn.Tanh())\n",
        "    self.mlm = MaskLM(vocab_size, num_hiddens, mlm_in_features)\n",
        "    self.nsp = NextSentencePred(nsp_in_features)\n",
        "  def forward(self, tokens, segments, valid_lens=None,pred_positions=None):\n",
        "    encoded_X = self.encoder(tokens, segments, valid_lens)\n",
        "    if pred_positions is not None:\n",
        "      mlm_Y_hat = self.mlm(encoded_X, pred_positions)\n",
        "    else:\n",
        "      mlm_Y_hat = None\n",
        "    # ⽤于下⼀句预测的多层感知机分类器的隐藏层，0是“<cls>”标记的索引\n",
        "    nsp_Y_hat = self.nsp(self.hidden(encoded_X[:, 0, :]))\n",
        "    return encoded_X, mlm_Y_hat, nsp_Y_hat"
      ]
    },
    {
      "cell_type": "code",
      "execution_count": null,
      "metadata": {
        "colab": {
          "base_uri": "https://localhost:8080/"
        },
        "id": "zyzCh3w2aJqR",
        "outputId": "9a8fd0b7-31d6-4150-9a14-667e3d9956e2"
      },
      "outputs": [
        {
          "name": "stdout",
          "output_type": "stream",
          "text": [
            "Downloading ../data/wikitext-2-v1.zip from https://s3.amazonaws.com/research.metamind.io/wikitext/wikitext-2-v1.zip...\n"
          ]
        }
      ],
      "source": [
        "batch_size, max_len = 512, 64\n",
        "train_iter, vocab = d2l.load_data_wiki(batch_size, max_len)\n",
        "\n",
        "net = d2l.BERTModel(len(vocab), num_hiddens=128, norm_shape=[128],\n",
        "          ffn_num_input=128, ffn_num_hiddens=256, num_heads=2,\n",
        "          num_layers=2, dropout=0.2, key_size=128, query_size=128,\n",
        "          value_size=128, hid_in_features=128, mlm_in_features=128,\n",
        "          nsp_in_features=128)\n",
        "devices = d2l.try_all_gpus()\n",
        "loss = nn.CrossEntropyLoss()"
      ]
    },
    {
      "cell_type": "markdown",
      "metadata": {
        "id": "UNQAi5l_beyl"
      },
      "source": [
        "#### loss计算"
      ]
    },
    {
      "cell_type": "code",
      "execution_count": null,
      "metadata": {
        "id": "JcDc61D9aVXJ"
      },
      "outputs": [],
      "source": [
        "def _get_batch_loss_bert(net, loss, vocab_size, tokens_X,\n",
        "            segments_X, valid_lens_x,\n",
        "            pred_positions_X, mlm_weights_X,\n",
        "            mlm_Y, nsp_y):\n",
        "  # 前向传播\n",
        "  _, mlm_Y_hat, nsp_Y_hat = net(tokens_X, segments_X,\n",
        "                    valid_lens_x.reshape(-1),\n",
        "                    pred_positions_X)\n",
        "  # 计算遮蔽语⾔模型损失\n",
        "  mlm_l = loss(mlm_Y_hat.reshape(-1, vocab_size), mlm_Y.reshape(-1)) *\\\n",
        "  mlm_weights_X.reshape(-1, 1)\n",
        "  mlm_l = mlm_l.sum() / (mlm_weights_X.sum() + 1e-8)\n",
        "  # 计算下⼀句⼦预测任务的损失\n",
        "  nsp_l = loss(nsp_Y_hat, nsp_y)\n",
        "  l = mlm_l + nsp_l\n",
        "  return mlm_l, nsp_l, l"
      ]
    },
    {
      "cell_type": "markdown",
      "metadata": {
        "id": "5vUs2zJsbiFF"
      },
      "source": [
        "#### 训练"
      ]
    },
    {
      "cell_type": "code",
      "execution_count": null,
      "metadata": {
        "id": "e0uRwn2DamY9"
      },
      "outputs": [],
      "source": [
        "def train_bert(train_iter, net, loss, vocab_size, devices, num_steps):\n",
        "  net = nn.DataParallel(net, device_ids=devices).to(devices[0])\n",
        "  trainer = torch.optim.Adam(net.parameters(), lr=0.01)\n",
        "  step, timer = 0, d2l.Timer()\n",
        "  animator = d2l.Animator(xlabel='step', ylabel='loss',\n",
        "  xlim=[1, num_steps], legend=['mlm', 'nsp'])\n",
        "  # 遮蔽语⾔模型损失的和，下⼀句预测任务损失的和，句⼦对的数量，计数\n",
        "  metric = d2l.Accumulator(4)\n",
        "  num_steps_reached = False\n",
        "  while step < num_steps and not num_steps_reached:\n",
        "    for tokens_X, segments_X, valid_lens_x, pred_positions_X, mlm_weights_X, mlm_Y, nsp_y in train_iter:\n",
        "      # 定义变量\n",
        "      tokens_X = tokens_X.to(devices[0])\n",
        "      segments_X = segments_X.to(devices[0])\n",
        "      valid_lens_x = valid_lens_x.to(devices[0])\n",
        "      pred_positions_X = pred_positions_X.to(devices[0])\n",
        "      mlm_weights_X = mlm_weights_X.to(devices[0])\n",
        "      mlm_Y, nsp_y = mlm_Y.to(devices[0]), nsp_y.to(devices[0])\n",
        "\n",
        "      # 训练\n",
        "      trainer.zero_grad()\n",
        "      # 计时\n",
        "      timer.start()\n",
        "      # 计算loss\n",
        "      mlm_l, nsp_l, l = _get_batch_loss_bert(net, loss, vocab_size, tokens_X, segments_X, valid_lens_x,\n",
        "                            pred_positions_X, mlm_weights_X, mlm_Y, nsp_y)\n",
        "      l.backward()\n",
        "      trainer.step()\n",
        "      # 画图\n",
        "      metric.add(mlm_l, nsp_l, tokens_X.shape[0], 1)\n",
        "      timer.stop()\n",
        "      animator.add(step + 1,(metric[0] / metric[3], metric[1] / metric[3]))\n",
        "\n",
        "      step += 1\n",
        "      if step == num_steps:\n",
        "        num_steps_reached = True\n",
        "      break\n",
        "  print(f'MLM loss {metric[0] / metric[3]:.3f}, '\n",
        "      f'NSP loss {metric[1] / metric[3]:.3f}')\n",
        "  print(f'{metric[2] / timer.sum():.1f} sentence pairs/sec on '\n",
        "      f'{str(devices)}')"
      ]
    },
    {
      "cell_type": "code",
      "execution_count": null,
      "metadata": {
        "colab": {
          "base_uri": "https://localhost:8080/",
          "height": 298
        },
        "id": "XZgutG_3bUnc",
        "outputId": "abc36ebf-adcf-4bc2-ba17-8f1f8e5e9d6d"
      },
      "outputs": [
        {
          "name": "stdout",
          "output_type": "stream",
          "text": [
            "MLM loss 5.749, NSP loss 0.790\n",
            "4550.1 sentence pairs/sec on [device(type='cuda', index=0)]\n"
          ]
        },
        {
          "data": {
            "image/svg+xml": "<?xml version=\"1.0\" encoding=\"utf-8\" standalone=\"no\"?>\n<!DOCTYPE svg PUBLIC \"-//W3C//DTD SVG 1.1//EN\"\n  \"http://www.w3.org/Graphics/SVG/1.1/DTD/svg11.dtd\">\n<!-- Created with matplotlib (https://matplotlib.org/) -->\n<svg height=\"180.65625pt\" version=\"1.1\" viewBox=\"0 0 249.465625 180.65625\" width=\"249.465625pt\" xmlns=\"http://www.w3.org/2000/svg\" xmlns:xlink=\"http://www.w3.org/1999/xlink\">\n <defs>\n  <style type=\"text/css\">\n*{stroke-linecap:butt;stroke-linejoin:round;}\n  </style>\n </defs>\n <g id=\"figure_1\">\n  <g id=\"patch_1\">\n   <path d=\"M 0 180.65625 \nL 249.465625 180.65625 \nL 249.465625 0 \nL 0 0 \nz\n\" style=\"fill:none;\"/>\n  </g>\n  <g id=\"axes_1\">\n   <g id=\"patch_2\">\n    <path d=\"M 40.603125 143.1 \nL 235.903125 143.1 \nL 235.903125 7.2 \nL 40.603125 7.2 \nz\n\" style=\"fill:#ffffff;\"/>\n   </g>\n   <g id=\"matplotlib.axis_1\">\n    <g id=\"xtick_1\">\n     <g id=\"line2d_1\">\n      <path clip-path=\"url(#p6cbcc02070)\" d=\"M 76.474554 143.1 \nL 76.474554 7.2 \n\" style=\"fill:none;stroke:#b0b0b0;stroke-linecap:square;stroke-width:0.8;\"/>\n     </g>\n     <g id=\"line2d_2\">\n      <defs>\n       <path d=\"M 0 0 \nL 0 3.5 \n\" id=\"m614c66b889\" style=\"stroke:#000000;stroke-width:0.8;\"/>\n      </defs>\n      <g>\n       <use style=\"stroke:#000000;stroke-width:0.8;\" x=\"76.474554\" xlink:href=\"#m614c66b889\" y=\"143.1\"/>\n      </g>\n     </g>\n     <g id=\"text_1\">\n      <!-- 10 -->\n      <defs>\n       <path d=\"M 12.40625 8.296875 \nL 28.515625 8.296875 \nL 28.515625 63.921875 \nL 10.984375 60.40625 \nL 10.984375 69.390625 \nL 28.421875 72.90625 \nL 38.28125 72.90625 \nL 38.28125 8.296875 \nL 54.390625 8.296875 \nL 54.390625 0 \nL 12.40625 0 \nz\n\" id=\"DejaVuSans-49\"/>\n       <path d=\"M 31.78125 66.40625 \nQ 24.171875 66.40625 20.328125 58.90625 \nQ 16.5 51.421875 16.5 36.375 \nQ 16.5 21.390625 20.328125 13.890625 \nQ 24.171875 6.390625 31.78125 6.390625 \nQ 39.453125 6.390625 43.28125 13.890625 \nQ 47.125 21.390625 47.125 36.375 \nQ 47.125 51.421875 43.28125 58.90625 \nQ 39.453125 66.40625 31.78125 66.40625 \nz\nM 31.78125 74.21875 \nQ 44.046875 74.21875 50.515625 64.515625 \nQ 56.984375 54.828125 56.984375 36.375 \nQ 56.984375 17.96875 50.515625 8.265625 \nQ 44.046875 -1.421875 31.78125 -1.421875 \nQ 19.53125 -1.421875 13.0625 8.265625 \nQ 6.59375 17.96875 6.59375 36.375 \nQ 6.59375 54.828125 13.0625 64.515625 \nQ 19.53125 74.21875 31.78125 74.21875 \nz\n\" id=\"DejaVuSans-48\"/>\n      </defs>\n      <g transform=\"translate(70.112054 157.698438)scale(0.1 -0.1)\">\n       <use xlink:href=\"#DejaVuSans-49\"/>\n       <use x=\"63.623047\" xlink:href=\"#DejaVuSans-48\"/>\n      </g>\n     </g>\n    </g>\n    <g id=\"xtick_2\">\n     <g id=\"line2d_3\">\n      <path clip-path=\"url(#p6cbcc02070)\" d=\"M 116.331696 143.1 \nL 116.331696 7.2 \n\" style=\"fill:none;stroke:#b0b0b0;stroke-linecap:square;stroke-width:0.8;\"/>\n     </g>\n     <g id=\"line2d_4\">\n      <g>\n       <use style=\"stroke:#000000;stroke-width:0.8;\" x=\"116.331696\" xlink:href=\"#m614c66b889\" y=\"143.1\"/>\n      </g>\n     </g>\n     <g id=\"text_2\">\n      <!-- 20 -->\n      <defs>\n       <path d=\"M 19.1875 8.296875 \nL 53.609375 8.296875 \nL 53.609375 0 \nL 7.328125 0 \nL 7.328125 8.296875 \nQ 12.9375 14.109375 22.625 23.890625 \nQ 32.328125 33.6875 34.8125 36.53125 \nQ 39.546875 41.84375 41.421875 45.53125 \nQ 43.3125 49.21875 43.3125 52.78125 \nQ 43.3125 58.59375 39.234375 62.25 \nQ 35.15625 65.921875 28.609375 65.921875 \nQ 23.96875 65.921875 18.8125 64.3125 \nQ 13.671875 62.703125 7.8125 59.421875 \nL 7.8125 69.390625 \nQ 13.765625 71.78125 18.9375 73 \nQ 24.125 74.21875 28.421875 74.21875 \nQ 39.75 74.21875 46.484375 68.546875 \nQ 53.21875 62.890625 53.21875 53.421875 \nQ 53.21875 48.921875 51.53125 44.890625 \nQ 49.859375 40.875 45.40625 35.40625 \nQ 44.1875 33.984375 37.640625 27.21875 \nQ 31.109375 20.453125 19.1875 8.296875 \nz\n\" id=\"DejaVuSans-50\"/>\n      </defs>\n      <g transform=\"translate(109.969196 157.698438)scale(0.1 -0.1)\">\n       <use xlink:href=\"#DejaVuSans-50\"/>\n       <use x=\"63.623047\" xlink:href=\"#DejaVuSans-48\"/>\n      </g>\n     </g>\n    </g>\n    <g id=\"xtick_3\">\n     <g id=\"line2d_5\">\n      <path clip-path=\"url(#p6cbcc02070)\" d=\"M 156.188839 143.1 \nL 156.188839 7.2 \n\" style=\"fill:none;stroke:#b0b0b0;stroke-linecap:square;stroke-width:0.8;\"/>\n     </g>\n     <g id=\"line2d_6\">\n      <g>\n       <use style=\"stroke:#000000;stroke-width:0.8;\" x=\"156.188839\" xlink:href=\"#m614c66b889\" y=\"143.1\"/>\n      </g>\n     </g>\n     <g id=\"text_3\">\n      <!-- 30 -->\n      <defs>\n       <path d=\"M 40.578125 39.3125 \nQ 47.65625 37.796875 51.625 33 \nQ 55.609375 28.21875 55.609375 21.1875 \nQ 55.609375 10.40625 48.1875 4.484375 \nQ 40.765625 -1.421875 27.09375 -1.421875 \nQ 22.515625 -1.421875 17.65625 -0.515625 \nQ 12.796875 0.390625 7.625 2.203125 \nL 7.625 11.71875 \nQ 11.71875 9.328125 16.59375 8.109375 \nQ 21.484375 6.890625 26.8125 6.890625 \nQ 36.078125 6.890625 40.9375 10.546875 \nQ 45.796875 14.203125 45.796875 21.1875 \nQ 45.796875 27.640625 41.28125 31.265625 \nQ 36.765625 34.90625 28.71875 34.90625 \nL 20.21875 34.90625 \nL 20.21875 43.015625 \nL 29.109375 43.015625 \nQ 36.375 43.015625 40.234375 45.921875 \nQ 44.09375 48.828125 44.09375 54.296875 \nQ 44.09375 59.90625 40.109375 62.90625 \nQ 36.140625 65.921875 28.71875 65.921875 \nQ 24.65625 65.921875 20.015625 65.03125 \nQ 15.375 64.15625 9.8125 62.3125 \nL 9.8125 71.09375 \nQ 15.4375 72.65625 20.34375 73.4375 \nQ 25.25 74.21875 29.59375 74.21875 \nQ 40.828125 74.21875 47.359375 69.109375 \nQ 53.90625 64.015625 53.90625 55.328125 \nQ 53.90625 49.265625 50.4375 45.09375 \nQ 46.96875 40.921875 40.578125 39.3125 \nz\n\" id=\"DejaVuSans-51\"/>\n      </defs>\n      <g transform=\"translate(149.826339 157.698438)scale(0.1 -0.1)\">\n       <use xlink:href=\"#DejaVuSans-51\"/>\n       <use x=\"63.623047\" xlink:href=\"#DejaVuSans-48\"/>\n      </g>\n     </g>\n    </g>\n    <g id=\"xtick_4\">\n     <g id=\"line2d_7\">\n      <path clip-path=\"url(#p6cbcc02070)\" d=\"M 196.045982 143.1 \nL 196.045982 7.2 \n\" style=\"fill:none;stroke:#b0b0b0;stroke-linecap:square;stroke-width:0.8;\"/>\n     </g>\n     <g id=\"line2d_8\">\n      <g>\n       <use style=\"stroke:#000000;stroke-width:0.8;\" x=\"196.045982\" xlink:href=\"#m614c66b889\" y=\"143.1\"/>\n      </g>\n     </g>\n     <g id=\"text_4\">\n      <!-- 40 -->\n      <defs>\n       <path d=\"M 37.796875 64.3125 \nL 12.890625 25.390625 \nL 37.796875 25.390625 \nz\nM 35.203125 72.90625 \nL 47.609375 72.90625 \nL 47.609375 25.390625 \nL 58.015625 25.390625 \nL 58.015625 17.1875 \nL 47.609375 17.1875 \nL 47.609375 0 \nL 37.796875 0 \nL 37.796875 17.1875 \nL 4.890625 17.1875 \nL 4.890625 26.703125 \nz\n\" id=\"DejaVuSans-52\"/>\n      </defs>\n      <g transform=\"translate(189.683482 157.698438)scale(0.1 -0.1)\">\n       <use xlink:href=\"#DejaVuSans-52\"/>\n       <use x=\"63.623047\" xlink:href=\"#DejaVuSans-48\"/>\n      </g>\n     </g>\n    </g>\n    <g id=\"xtick_5\">\n     <g id=\"line2d_9\">\n      <path clip-path=\"url(#p6cbcc02070)\" d=\"M 235.903125 143.1 \nL 235.903125 7.2 \n\" style=\"fill:none;stroke:#b0b0b0;stroke-linecap:square;stroke-width:0.8;\"/>\n     </g>\n     <g id=\"line2d_10\">\n      <g>\n       <use style=\"stroke:#000000;stroke-width:0.8;\" x=\"235.903125\" xlink:href=\"#m614c66b889\" y=\"143.1\"/>\n      </g>\n     </g>\n     <g id=\"text_5\">\n      <!-- 50 -->\n      <defs>\n       <path d=\"M 10.796875 72.90625 \nL 49.515625 72.90625 \nL 49.515625 64.59375 \nL 19.828125 64.59375 \nL 19.828125 46.734375 \nQ 21.96875 47.46875 24.109375 47.828125 \nQ 26.265625 48.1875 28.421875 48.1875 \nQ 40.625 48.1875 47.75 41.5 \nQ 54.890625 34.8125 54.890625 23.390625 \nQ 54.890625 11.625 47.5625 5.09375 \nQ 40.234375 -1.421875 26.90625 -1.421875 \nQ 22.3125 -1.421875 17.546875 -0.640625 \nQ 12.796875 0.140625 7.71875 1.703125 \nL 7.71875 11.625 \nQ 12.109375 9.234375 16.796875 8.0625 \nQ 21.484375 6.890625 26.703125 6.890625 \nQ 35.15625 6.890625 40.078125 11.328125 \nQ 45.015625 15.765625 45.015625 23.390625 \nQ 45.015625 31 40.078125 35.4375 \nQ 35.15625 39.890625 26.703125 39.890625 \nQ 22.75 39.890625 18.8125 39.015625 \nQ 14.890625 38.140625 10.796875 36.28125 \nz\n\" id=\"DejaVuSans-53\"/>\n      </defs>\n      <g transform=\"translate(229.540625 157.698438)scale(0.1 -0.1)\">\n       <use xlink:href=\"#DejaVuSans-53\"/>\n       <use x=\"63.623047\" xlink:href=\"#DejaVuSans-48\"/>\n      </g>\n     </g>\n    </g>\n    <g id=\"text_6\">\n     <!-- step -->\n     <defs>\n      <path d=\"M 44.28125 53.078125 \nL 44.28125 44.578125 \nQ 40.484375 46.53125 36.375 47.5 \nQ 32.28125 48.484375 27.875 48.484375 \nQ 21.1875 48.484375 17.84375 46.4375 \nQ 14.5 44.390625 14.5 40.28125 \nQ 14.5 37.15625 16.890625 35.375 \nQ 19.28125 33.59375 26.515625 31.984375 \nL 29.59375 31.296875 \nQ 39.15625 29.25 43.1875 25.515625 \nQ 47.21875 21.78125 47.21875 15.09375 \nQ 47.21875 7.46875 41.1875 3.015625 \nQ 35.15625 -1.421875 24.609375 -1.421875 \nQ 20.21875 -1.421875 15.453125 -0.5625 \nQ 10.6875 0.296875 5.421875 2 \nL 5.421875 11.28125 \nQ 10.40625 8.6875 15.234375 7.390625 \nQ 20.0625 6.109375 24.8125 6.109375 \nQ 31.15625 6.109375 34.5625 8.28125 \nQ 37.984375 10.453125 37.984375 14.40625 \nQ 37.984375 18.0625 35.515625 20.015625 \nQ 33.0625 21.96875 24.703125 23.78125 \nL 21.578125 24.515625 \nQ 13.234375 26.265625 9.515625 29.90625 \nQ 5.8125 33.546875 5.8125 39.890625 \nQ 5.8125 47.609375 11.28125 51.796875 \nQ 16.75 56 26.8125 56 \nQ 31.78125 56 36.171875 55.265625 \nQ 40.578125 54.546875 44.28125 53.078125 \nz\n\" id=\"DejaVuSans-115\"/>\n      <path d=\"M 18.3125 70.21875 \nL 18.3125 54.6875 \nL 36.8125 54.6875 \nL 36.8125 47.703125 \nL 18.3125 47.703125 \nL 18.3125 18.015625 \nQ 18.3125 11.328125 20.140625 9.421875 \nQ 21.96875 7.515625 27.59375 7.515625 \nL 36.8125 7.515625 \nL 36.8125 0 \nL 27.59375 0 \nQ 17.1875 0 13.234375 3.875 \nQ 9.28125 7.765625 9.28125 18.015625 \nL 9.28125 47.703125 \nL 2.6875 47.703125 \nL 2.6875 54.6875 \nL 9.28125 54.6875 \nL 9.28125 70.21875 \nz\n\" id=\"DejaVuSans-116\"/>\n      <path d=\"M 56.203125 29.59375 \nL 56.203125 25.203125 \nL 14.890625 25.203125 \nQ 15.484375 15.921875 20.484375 11.0625 \nQ 25.484375 6.203125 34.421875 6.203125 \nQ 39.59375 6.203125 44.453125 7.46875 \nQ 49.3125 8.734375 54.109375 11.28125 \nL 54.109375 2.78125 \nQ 49.265625 0.734375 44.1875 -0.34375 \nQ 39.109375 -1.421875 33.890625 -1.421875 \nQ 20.796875 -1.421875 13.15625 6.1875 \nQ 5.515625 13.8125 5.515625 26.8125 \nQ 5.515625 40.234375 12.765625 48.109375 \nQ 20.015625 56 32.328125 56 \nQ 43.359375 56 49.78125 48.890625 \nQ 56.203125 41.796875 56.203125 29.59375 \nz\nM 47.21875 32.234375 \nQ 47.125 39.59375 43.09375 43.984375 \nQ 39.0625 48.390625 32.421875 48.390625 \nQ 24.90625 48.390625 20.390625 44.140625 \nQ 15.875 39.890625 15.1875 32.171875 \nz\n\" id=\"DejaVuSans-101\"/>\n      <path d=\"M 18.109375 8.203125 \nL 18.109375 -20.796875 \nL 9.078125 -20.796875 \nL 9.078125 54.6875 \nL 18.109375 54.6875 \nL 18.109375 46.390625 \nQ 20.953125 51.265625 25.265625 53.625 \nQ 29.59375 56 35.59375 56 \nQ 45.5625 56 51.78125 48.09375 \nQ 58.015625 40.1875 58.015625 27.296875 \nQ 58.015625 14.40625 51.78125 6.484375 \nQ 45.5625 -1.421875 35.59375 -1.421875 \nQ 29.59375 -1.421875 25.265625 0.953125 \nQ 20.953125 3.328125 18.109375 8.203125 \nz\nM 48.6875 27.296875 \nQ 48.6875 37.203125 44.609375 42.84375 \nQ 40.53125 48.484375 33.40625 48.484375 \nQ 26.265625 48.484375 22.1875 42.84375 \nQ 18.109375 37.203125 18.109375 27.296875 \nQ 18.109375 17.390625 22.1875 11.75 \nQ 26.265625 6.109375 33.40625 6.109375 \nQ 40.53125 6.109375 44.609375 11.75 \nQ 48.6875 17.390625 48.6875 27.296875 \nz\n\" id=\"DejaVuSans-112\"/>\n     </defs>\n     <g transform=\"translate(127.4375 171.376563)scale(0.1 -0.1)\">\n      <use xlink:href=\"#DejaVuSans-115\"/>\n      <use x=\"52.099609\" xlink:href=\"#DejaVuSans-116\"/>\n      <use x=\"91.308594\" xlink:href=\"#DejaVuSans-101\"/>\n      <use x=\"152.832031\" xlink:href=\"#DejaVuSans-112\"/>\n     </g>\n    </g>\n   </g>\n   <g id=\"matplotlib.axis_2\">\n    <g id=\"ytick_1\">\n     <g id=\"line2d_11\">\n      <path clip-path=\"url(#p6cbcc02070)\" d=\"M 40.603125 120.056491 \nL 235.903125 120.056491 \n\" style=\"fill:none;stroke:#b0b0b0;stroke-linecap:square;stroke-width:0.8;\"/>\n     </g>\n     <g id=\"line2d_12\">\n      <defs>\n       <path d=\"M 0 0 \nL -3.5 0 \n\" id=\"md55187a9e8\" style=\"stroke:#000000;stroke-width:0.8;\"/>\n      </defs>\n      <g>\n       <use style=\"stroke:#000000;stroke-width:0.8;\" x=\"40.603125\" xlink:href=\"#md55187a9e8\" y=\"120.056491\"/>\n      </g>\n     </g>\n     <g id=\"text_7\">\n      <!-- 2 -->\n      <g transform=\"translate(27.240625 123.85571)scale(0.1 -0.1)\">\n       <use xlink:href=\"#DejaVuSans-50\"/>\n      </g>\n     </g>\n    </g>\n    <g id=\"ytick_2\">\n     <g id=\"line2d_13\">\n      <path clip-path=\"url(#p6cbcc02070)\" d=\"M 40.603125 94.178041 \nL 235.903125 94.178041 \n\" style=\"fill:none;stroke:#b0b0b0;stroke-linecap:square;stroke-width:0.8;\"/>\n     </g>\n     <g id=\"line2d_14\">\n      <g>\n       <use style=\"stroke:#000000;stroke-width:0.8;\" x=\"40.603125\" xlink:href=\"#md55187a9e8\" y=\"94.178041\"/>\n      </g>\n     </g>\n     <g id=\"text_8\">\n      <!-- 4 -->\n      <g transform=\"translate(27.240625 97.97726)scale(0.1 -0.1)\">\n       <use xlink:href=\"#DejaVuSans-52\"/>\n      </g>\n     </g>\n    </g>\n    <g id=\"ytick_3\">\n     <g id=\"line2d_15\">\n      <path clip-path=\"url(#p6cbcc02070)\" d=\"M 40.603125 68.299592 \nL 235.903125 68.299592 \n\" style=\"fill:none;stroke:#b0b0b0;stroke-linecap:square;stroke-width:0.8;\"/>\n     </g>\n     <g id=\"line2d_16\">\n      <g>\n       <use style=\"stroke:#000000;stroke-width:0.8;\" x=\"40.603125\" xlink:href=\"#md55187a9e8\" y=\"68.299592\"/>\n      </g>\n     </g>\n     <g id=\"text_9\">\n      <!-- 6 -->\n      <defs>\n       <path d=\"M 33.015625 40.375 \nQ 26.375 40.375 22.484375 35.828125 \nQ 18.609375 31.296875 18.609375 23.390625 \nQ 18.609375 15.53125 22.484375 10.953125 \nQ 26.375 6.390625 33.015625 6.390625 \nQ 39.65625 6.390625 43.53125 10.953125 \nQ 47.40625 15.53125 47.40625 23.390625 \nQ 47.40625 31.296875 43.53125 35.828125 \nQ 39.65625 40.375 33.015625 40.375 \nz\nM 52.59375 71.296875 \nL 52.59375 62.3125 \nQ 48.875 64.0625 45.09375 64.984375 \nQ 41.3125 65.921875 37.59375 65.921875 \nQ 27.828125 65.921875 22.671875 59.328125 \nQ 17.53125 52.734375 16.796875 39.40625 \nQ 19.671875 43.65625 24.015625 45.921875 \nQ 28.375 48.1875 33.59375 48.1875 \nQ 44.578125 48.1875 50.953125 41.515625 \nQ 57.328125 34.859375 57.328125 23.390625 \nQ 57.328125 12.15625 50.6875 5.359375 \nQ 44.046875 -1.421875 33.015625 -1.421875 \nQ 20.359375 -1.421875 13.671875 8.265625 \nQ 6.984375 17.96875 6.984375 36.375 \nQ 6.984375 53.65625 15.1875 63.9375 \nQ 23.390625 74.21875 37.203125 74.21875 \nQ 40.921875 74.21875 44.703125 73.484375 \nQ 48.484375 72.75 52.59375 71.296875 \nz\n\" id=\"DejaVuSans-54\"/>\n      </defs>\n      <g transform=\"translate(27.240625 72.09881)scale(0.1 -0.1)\">\n       <use xlink:href=\"#DejaVuSans-54\"/>\n      </g>\n     </g>\n    </g>\n    <g id=\"ytick_4\">\n     <g id=\"line2d_17\">\n      <path clip-path=\"url(#p6cbcc02070)\" d=\"M 40.603125 42.421142 \nL 235.903125 42.421142 \n\" style=\"fill:none;stroke:#b0b0b0;stroke-linecap:square;stroke-width:0.8;\"/>\n     </g>\n     <g id=\"line2d_18\">\n      <g>\n       <use style=\"stroke:#000000;stroke-width:0.8;\" x=\"40.603125\" xlink:href=\"#md55187a9e8\" y=\"42.421142\"/>\n      </g>\n     </g>\n     <g id=\"text_10\">\n      <!-- 8 -->\n      <defs>\n       <path d=\"M 31.78125 34.625 \nQ 24.75 34.625 20.71875 30.859375 \nQ 16.703125 27.09375 16.703125 20.515625 \nQ 16.703125 13.921875 20.71875 10.15625 \nQ 24.75 6.390625 31.78125 6.390625 \nQ 38.8125 6.390625 42.859375 10.171875 \nQ 46.921875 13.96875 46.921875 20.515625 \nQ 46.921875 27.09375 42.890625 30.859375 \nQ 38.875 34.625 31.78125 34.625 \nz\nM 21.921875 38.8125 \nQ 15.578125 40.375 12.03125 44.71875 \nQ 8.5 49.078125 8.5 55.328125 \nQ 8.5 64.0625 14.71875 69.140625 \nQ 20.953125 74.21875 31.78125 74.21875 \nQ 42.671875 74.21875 48.875 69.140625 \nQ 55.078125 64.0625 55.078125 55.328125 \nQ 55.078125 49.078125 51.53125 44.71875 \nQ 48 40.375 41.703125 38.8125 \nQ 48.828125 37.15625 52.796875 32.3125 \nQ 56.78125 27.484375 56.78125 20.515625 \nQ 56.78125 9.90625 50.3125 4.234375 \nQ 43.84375 -1.421875 31.78125 -1.421875 \nQ 19.734375 -1.421875 13.25 4.234375 \nQ 6.78125 9.90625 6.78125 20.515625 \nQ 6.78125 27.484375 10.78125 32.3125 \nQ 14.796875 37.15625 21.921875 38.8125 \nz\nM 18.3125 54.390625 \nQ 18.3125 48.734375 21.84375 45.5625 \nQ 25.390625 42.390625 31.78125 42.390625 \nQ 38.140625 42.390625 41.71875 45.5625 \nQ 45.3125 48.734375 45.3125 54.390625 \nQ 45.3125 60.0625 41.71875 63.234375 \nQ 38.140625 66.40625 31.78125 66.40625 \nQ 25.390625 66.40625 21.84375 63.234375 \nQ 18.3125 60.0625 18.3125 54.390625 \nz\n\" id=\"DejaVuSans-56\"/>\n      </defs>\n      <g transform=\"translate(27.240625 46.220361)scale(0.1 -0.1)\">\n       <use xlink:href=\"#DejaVuSans-56\"/>\n      </g>\n     </g>\n    </g>\n    <g id=\"ytick_5\">\n     <g id=\"line2d_19\">\n      <path clip-path=\"url(#p6cbcc02070)\" d=\"M 40.603125 16.542692 \nL 235.903125 16.542692 \n\" style=\"fill:none;stroke:#b0b0b0;stroke-linecap:square;stroke-width:0.8;\"/>\n     </g>\n     <g id=\"line2d_20\">\n      <g>\n       <use style=\"stroke:#000000;stroke-width:0.8;\" x=\"40.603125\" xlink:href=\"#md55187a9e8\" y=\"16.542692\"/>\n      </g>\n     </g>\n     <g id=\"text_11\">\n      <!-- 10 -->\n      <g transform=\"translate(20.878125 20.341911)scale(0.1 -0.1)\">\n       <use xlink:href=\"#DejaVuSans-49\"/>\n       <use x=\"63.623047\" xlink:href=\"#DejaVuSans-48\"/>\n      </g>\n     </g>\n    </g>\n    <g id=\"text_12\">\n     <!-- loss -->\n     <defs>\n      <path d=\"M 9.421875 75.984375 \nL 18.40625 75.984375 \nL 18.40625 0 \nL 9.421875 0 \nz\n\" id=\"DejaVuSans-108\"/>\n      <path d=\"M 30.609375 48.390625 \nQ 23.390625 48.390625 19.1875 42.75 \nQ 14.984375 37.109375 14.984375 27.296875 \nQ 14.984375 17.484375 19.15625 11.84375 \nQ 23.34375 6.203125 30.609375 6.203125 \nQ 37.796875 6.203125 41.984375 11.859375 \nQ 46.1875 17.53125 46.1875 27.296875 \nQ 46.1875 37.015625 41.984375 42.703125 \nQ 37.796875 48.390625 30.609375 48.390625 \nz\nM 30.609375 56 \nQ 42.328125 56 49.015625 48.375 \nQ 55.71875 40.765625 55.71875 27.296875 \nQ 55.71875 13.875 49.015625 6.21875 \nQ 42.328125 -1.421875 30.609375 -1.421875 \nQ 18.84375 -1.421875 12.171875 6.21875 \nQ 5.515625 13.875 5.515625 27.296875 \nQ 5.515625 40.765625 12.171875 48.375 \nQ 18.84375 56 30.609375 56 \nz\n\" id=\"DejaVuSans-111\"/>\n     </defs>\n     <g transform=\"translate(14.798437 84.807812)rotate(-90)scale(0.1 -0.1)\">\n      <use xlink:href=\"#DejaVuSans-108\"/>\n      <use x=\"27.783203\" xlink:href=\"#DejaVuSans-111\"/>\n      <use x=\"88.964844\" xlink:href=\"#DejaVuSans-115\"/>\n      <use x=\"141.064453\" xlink:href=\"#DejaVuSans-115\"/>\n     </g>\n    </g>\n   </g>\n   <g id=\"line2d_21\">\n    <path clip-path=\"url(#p6cbcc02070)\" d=\"M 40.603125 13.377273 \nL 44.588839 25.611271 \nL 48.574554 31.277305 \nL 52.560268 39.164425 \nL 56.545982 45.521745 \nL 60.531696 50.348832 \nL 64.517411 53.561935 \nL 68.503125 55.995355 \nL 72.488839 57.484107 \nL 76.474554 58.769034 \nL 80.460268 59.797561 \nL 84.445982 60.817031 \nL 88.431696 61.706094 \nL 92.417411 62.449606 \nL 96.403125 63.189893 \nL 100.388839 63.814217 \nL 104.374554 64.364225 \nL 108.360268 64.943343 \nL 112.345982 65.441667 \nL 116.331696 65.921712 \nL 120.317411 66.314055 \nL 124.303125 66.706878 \nL 128.288839 67.039316 \nL 132.274554 67.344975 \nL 136.260268 67.585832 \nL 140.245982 67.760586 \nL 144.231696 67.98861 \nL 148.217411 68.223358 \nL 152.203125 68.43575 \nL 156.188839 68.630475 \nL 160.174554 68.836505 \nL 164.160268 69.080783 \nL 168.145982 69.257405 \nL 172.131696 69.454499 \nL 176.117411 69.632774 \nL 180.103125 69.812152 \nL 184.088839 69.943183 \nL 188.074554 70.097017 \nL 192.060268 70.268639 \nL 196.045982 70.450489 \nL 200.031696 70.580876 \nL 204.017411 70.697047 \nL 208.003125 70.8084 \nL 211.988839 70.929678 \nL 215.974554 71.05072 \nL 219.960268 71.190036 \nL 223.945982 71.275614 \nL 227.931696 71.349615 \nL 231.917411 71.453191 \nL 235.903125 71.549685 \n\" style=\"fill:none;stroke:#1f77b4;stroke-linecap:square;stroke-width:1.5;\"/>\n   </g>\n   <g id=\"line2d_22\">\n    <path clip-path=\"url(#p6cbcc02070)\" d=\"M 40.603125 136.922727 \nL 44.588839 133.87432 \nL 48.574554 126.011259 \nL 52.560268 125.511751 \nL 56.545982 127.476557 \nL 60.531696 128.937296 \nL 64.517411 129.640803 \nL 68.503125 130.4192 \nL 72.488839 131.146462 \nL 76.474554 131.592401 \nL 80.460268 131.940983 \nL 84.445982 132.31875 \nL 88.431696 132.651565 \nL 92.417411 132.893737 \nL 96.403125 133.08763 \nL 100.388839 133.321369 \nL 104.374554 133.530358 \nL 108.360268 133.702036 \nL 112.345982 133.83488 \nL 116.331696 133.981268 \nL 120.317411 134.125134 \nL 124.303125 134.247822 \nL 128.288839 134.334891 \nL 132.274554 134.42963 \nL 136.260268 134.533446 \nL 140.245982 134.623845 \nL 144.231696 134.700751 \nL 148.217411 134.772678 \nL 152.203125 134.848186 \nL 156.188839 134.9186 \nL 160.174554 134.971423 \nL 164.160268 135.028646 \nL 168.145982 135.084819 \nL 172.131696 135.140445 \nL 176.117411 135.192851 \nL 180.103125 135.234443 \nL 184.088839 135.280934 \nL 188.074554 135.322736 \nL 192.060268 135.364777 \nL 196.045982 135.403353 \nL 200.031696 135.439465 \nL 204.017411 135.470857 \nL 208.003125 135.506308 \nL 211.988839 135.539863 \nL 215.974554 135.567882 \nL 219.960268 135.597289 \nL 223.945982 135.626315 \nL 227.931696 135.653288 \nL 231.917411 135.680232 \nL 235.903125 135.706932 \n\" style=\"fill:none;stroke:#bf00bf;stroke-dasharray:5.55,2.4;stroke-dashoffset:0;stroke-width:1.5;\"/>\n   </g>\n   <g id=\"patch_3\">\n    <path d=\"M 40.603125 143.1 \nL 40.603125 7.2 \n\" style=\"fill:none;stroke:#000000;stroke-linecap:square;stroke-linejoin:miter;stroke-width:0.8;\"/>\n   </g>\n   <g id=\"patch_4\">\n    <path d=\"M 235.903125 143.1 \nL 235.903125 7.2 \n\" style=\"fill:none;stroke:#000000;stroke-linecap:square;stroke-linejoin:miter;stroke-width:0.8;\"/>\n   </g>\n   <g id=\"patch_5\">\n    <path d=\"M 40.603125 143.1 \nL 235.903125 143.1 \n\" style=\"fill:none;stroke:#000000;stroke-linecap:square;stroke-linejoin:miter;stroke-width:0.8;\"/>\n   </g>\n   <g id=\"patch_6\">\n    <path d=\"M 40.603125 7.2 \nL 235.903125 7.2 \n\" style=\"fill:none;stroke:#000000;stroke-linecap:square;stroke-linejoin:miter;stroke-width:0.8;\"/>\n   </g>\n   <g id=\"legend_1\">\n    <g id=\"patch_7\">\n     <path d=\"M 174.64375 44.55625 \nL 228.903125 44.55625 \nQ 230.903125 44.55625 230.903125 42.55625 \nL 230.903125 14.2 \nQ 230.903125 12.2 228.903125 12.2 \nL 174.64375 12.2 \nQ 172.64375 12.2 172.64375 14.2 \nL 172.64375 42.55625 \nQ 172.64375 44.55625 174.64375 44.55625 \nz\n\" style=\"fill:#ffffff;opacity:0.8;stroke:#cccccc;stroke-linejoin:miter;\"/>\n    </g>\n    <g id=\"line2d_23\">\n     <path d=\"M 176.64375 20.298437 \nL 196.64375 20.298437 \n\" style=\"fill:none;stroke:#1f77b4;stroke-linecap:square;stroke-width:1.5;\"/>\n    </g>\n    <g id=\"line2d_24\"/>\n    <g id=\"text_13\">\n     <!-- mlm -->\n     <defs>\n      <path d=\"M 52 44.1875 \nQ 55.375 50.25 60.0625 53.125 \nQ 64.75 56 71.09375 56 \nQ 79.640625 56 84.28125 50.015625 \nQ 88.921875 44.046875 88.921875 33.015625 \nL 88.921875 0 \nL 79.890625 0 \nL 79.890625 32.71875 \nQ 79.890625 40.578125 77.09375 44.375 \nQ 74.3125 48.1875 68.609375 48.1875 \nQ 61.625 48.1875 57.5625 43.546875 \nQ 53.515625 38.921875 53.515625 30.90625 \nL 53.515625 0 \nL 44.484375 0 \nL 44.484375 32.71875 \nQ 44.484375 40.625 41.703125 44.40625 \nQ 38.921875 48.1875 33.109375 48.1875 \nQ 26.21875 48.1875 22.15625 43.53125 \nQ 18.109375 38.875 18.109375 30.90625 \nL 18.109375 0 \nL 9.078125 0 \nL 9.078125 54.6875 \nL 18.109375 54.6875 \nL 18.109375 46.1875 \nQ 21.1875 51.21875 25.484375 53.609375 \nQ 29.78125 56 35.6875 56 \nQ 41.65625 56 45.828125 52.96875 \nQ 50 49.953125 52 44.1875 \nz\n\" id=\"DejaVuSans-109\"/>\n     </defs>\n     <g transform=\"translate(204.64375 23.798437)scale(0.1 -0.1)\">\n      <use xlink:href=\"#DejaVuSans-109\"/>\n      <use x=\"97.412109\" xlink:href=\"#DejaVuSans-108\"/>\n      <use x=\"125.195312\" xlink:href=\"#DejaVuSans-109\"/>\n     </g>\n    </g>\n    <g id=\"line2d_25\">\n     <path d=\"M 176.64375 34.976562 \nL 196.64375 34.976562 \n\" style=\"fill:none;stroke:#bf00bf;stroke-dasharray:5.55,2.4;stroke-dashoffset:0;stroke-width:1.5;\"/>\n    </g>\n    <g id=\"line2d_26\"/>\n    <g id=\"text_14\">\n     <!-- nsp -->\n     <defs>\n      <path d=\"M 54.890625 33.015625 \nL 54.890625 0 \nL 45.90625 0 \nL 45.90625 32.71875 \nQ 45.90625 40.484375 42.875 44.328125 \nQ 39.84375 48.1875 33.796875 48.1875 \nQ 26.515625 48.1875 22.3125 43.546875 \nQ 18.109375 38.921875 18.109375 30.90625 \nL 18.109375 0 \nL 9.078125 0 \nL 9.078125 54.6875 \nL 18.109375 54.6875 \nL 18.109375 46.1875 \nQ 21.34375 51.125 25.703125 53.5625 \nQ 30.078125 56 35.796875 56 \nQ 45.21875 56 50.046875 50.171875 \nQ 54.890625 44.34375 54.890625 33.015625 \nz\n\" id=\"DejaVuSans-110\"/>\n     </defs>\n     <g transform=\"translate(204.64375 38.476562)scale(0.1 -0.1)\">\n      <use xlink:href=\"#DejaVuSans-110\"/>\n      <use x=\"63.378906\" xlink:href=\"#DejaVuSans-115\"/>\n      <use x=\"115.478516\" xlink:href=\"#DejaVuSans-112\"/>\n     </g>\n    </g>\n   </g>\n  </g>\n </g>\n <defs>\n  <clipPath id=\"p6cbcc02070\">\n   <rect height=\"135.9\" width=\"195.3\" x=\"40.603125\" y=\"7.2\"/>\n  </clipPath>\n </defs>\n</svg>\n",
            "text/plain": [
              "<Figure size 252x180 with 1 Axes>"
            ]
          },
          "metadata": {},
          "output_type": "display_data"
        }
      ],
      "source": [
        "train_bert(train_iter, net, loss, len(vocab), devices, 50)"
      ]
    },
    {
      "cell_type": "code",
      "execution_count": null,
      "metadata": {
        "id": "iagb3_E_gEDn"
      },
      "outputs": [],
      "source": [
        "# 用bert表示文本\n",
        "def get_bert_encoding(net, tokens_a, tokens_b=None):\n",
        "  tokens, segments = d2l.get_tokens_and_segments(tokens_a, tokens_b)\n",
        "  token_ids = torch.tensor(vocab[tokens], device=devices[0]).unsqueeze(0)\n",
        "  segments = torch.tensor(segments, device=devices[0]).unsqueeze(0)\n",
        "  valid_len = torch.tensor(len(tokens), device=devices[0]).unsqueeze(0)\n",
        "  encoded_X, _, _ = net(token_ids, segments, valid_len)\n",
        "  return encoded_X"
      ]
    },
    {
      "cell_type": "code",
      "execution_count": null,
      "metadata": {
        "colab": {
          "base_uri": "https://localhost:8080/"
        },
        "id": "ds6Eisb8gOHg",
        "outputId": "d2277668-234a-494f-c8e8-b562f9667bfe"
      },
      "outputs": [
        {
          "data": {
            "text/plain": [
              "(torch.Size([1, 6, 128]),\n",
              " torch.Size([1, 128]),\n",
              " tensor([-0.2891,  0.3696, -0.0006], device='cuda:0', grad_fn=<SliceBackward0>))"
            ]
          },
          "execution_count": 59,
          "metadata": {},
          "output_type": "execute_result"
        }
      ],
      "source": [
        "tokens_a = ['a', 'crane', 'is', 'flying']\n",
        "encoded_text = get_bert_encoding(net, tokens_a)\n",
        "# 词元：'<cls>','a','crane','is','flying','<sep>'\n",
        "encoded_text_cls = encoded_text[:, 0, :]\n",
        "encoded_text_crane = encoded_text[:, 2, :]\n",
        "encoded_text.shape, encoded_text_cls.shape, encoded_text_crane[0][:3]\n"
      ]
    },
    {
      "cell_type": "code",
      "execution_count": null,
      "metadata": {
        "colab": {
          "base_uri": "https://localhost:8080/"
        },
        "id": "-7Q6IVOAgQgv",
        "outputId": "2697cdb3-9534-4b8a-f550-485e2265019b"
      },
      "outputs": [
        {
          "data": {
            "text/plain": [
              "(torch.Size([1, 10, 128]),\n",
              " torch.Size([1, 128]),\n",
              " tensor([-0.2346,  0.2648, -0.0431], device='cuda:0', grad_fn=<SliceBackward0>))"
            ]
          },
          "execution_count": 60,
          "metadata": {},
          "output_type": "execute_result"
        }
      ],
      "source": [
        "tokens_a, tokens_b = ['a', 'crane', 'driver', 'came'], ['he', 'just', 'left']\n",
        "encoded_pair = get_bert_encoding(net, tokens_a, tokens_b)\n",
        "# 词元：'<cls>','a','crane','driver','came','<sep>','he','just','left','<sep>'\n",
        "encoded_pair_cls = encoded_pair[:, 0, :]\n",
        "encoded_pair_crane = encoded_pair[:, 2, :]\n",
        "encoded_pair.shape, encoded_pair_cls.shape, encoded_pair_crane[0][:3]\n"
      ]
    },
    {
      "cell_type": "markdown",
      "metadata": {
        "id": "n2bkkK7DOAX6"
      },
      "source": []
    },
    {
      "cell_type": "markdown",
      "metadata": {
        "id": "Z5eiVl_punMQ"
      },
      "source": [
        "## 下游任务实现"
      ]
    },
    {
      "cell_type": "markdown",
      "metadata": {
        "id": "8Em3fiRRuqEB"
      },
      "source": [
        "### glove微调lstm实现情感分析"
      ]
    },
    {
      "cell_type": "code",
      "execution_count": null,
      "metadata": {
        "colab": {
          "base_uri": "https://localhost:8080/"
        },
        "id": "ypUGurvh7O3x",
        "outputId": "2d238891-a1d0-4a6e-89ad-74c4dec164e7"
      },
      "outputs": [
        {
          "name": "stdout",
          "output_type": "stream",
          "text": [
            "Downloading ../data/aclImdb_v1.tar.gz from http://ai.stanford.edu/~amaas/data/sentiment/aclImdb_v1.tar.gz...\n"
          ]
        }
      ],
      "source": [
        "import torch\n",
        "from torch import nn\n",
        "from d2l import torch as d2l\n",
        "batch_size = 64\n",
        "train_iter, test_iter, vocab = d2l.load_data_imdb(batch_size)"
      ]
    },
    {
      "cell_type": "code",
      "execution_count": null,
      "metadata": {
        "id": "wsNRxtRx7jjt"
      },
      "outputs": [],
      "source": [
        "class BiRNN(nn.Module):\n",
        "  def __init__(self, vocab_size, embed_size, num_hiddens,\n",
        "    num_layers, **kwargs):\n",
        "    super(BiRNN, self).__init__(**kwargs)\n",
        "    self.embedding = nn.Embedding(vocab_size, embed_size)\n",
        "    # 将bidirectional设置为True以获取双向循环神经⽹络\n",
        "    self.encoder = nn.LSTM(embed_size, num_hiddens, num_layers=num_layers,\n",
        "    bidirectional=True)\n",
        "    self.decoder = nn.Linear(4 * num_hiddens, 2)\n",
        "  def forward(self, inputs):\n",
        "    # inputs的形状是（批量⼤⼩，时间步数）\n",
        "    # 因为⻓短期记忆⽹络要求其输⼊的第⼀个维度是时间维，\n",
        "    # 所以在获得词元表⽰之前，输⼊会被转置。\n",
        "    # 输出形状为（时间步数，批量⼤⼩，词向量维度）\n",
        "    embeddings = self.embedding(inputs.T)\n",
        "    self.encoder.flatten_parameters()\n",
        "    # 返回上⼀个隐藏层在不同时间步的隐状态，\n",
        "    # outputs的形状是（时间步数，批量⼤⼩，2*隐藏单元数）\n",
        "    outputs, _ = self.encoder(embeddings)\n",
        "    # 连结初始和最终时间步的隐状态，作为全连接层的输⼊，\n",
        "    # 其形状为（批量⼤⼩，4*隐藏单元数）\n",
        "    encoding = torch.cat((outputs[0], outputs[-1]), dim=1)\n",
        "    outs = self.decoder(encoding)\n",
        "    return outs"
      ]
    },
    {
      "cell_type": "code",
      "execution_count": null,
      "metadata": {
        "id": "y9Kh5Haj7nHE"
      },
      "outputs": [],
      "source": [
        "embed_size, num_hiddens, num_layers = 100, 100, 2\n",
        "devices = d2l.try_all_gpus()\n",
        "net = BiRNN(len(vocab), embed_size, num_hiddens, num_layers)"
      ]
    },
    {
      "cell_type": "code",
      "execution_count": null,
      "metadata": {
        "id": "MDrpRInE7pSZ"
      },
      "outputs": [],
      "source": [
        "def init_weights(m):\n",
        "  if type(m) == nn.Linear:\n",
        "    nn.init.xavier_uniform_(m.weight)\n",
        "  if type(m) == nn.LSTM:\n",
        "    for param in m._flat_weights_names:\n",
        "      if \"weight\" in param:\n",
        "        nn.init.xavier_uniform_(m._parameters[param])\n",
        "net.apply(init_weights);"
      ]
    },
    {
      "cell_type": "code",
      "execution_count": null,
      "metadata": {
        "colab": {
          "base_uri": "https://localhost:8080/"
        },
        "id": "Fva7FaUgAJtq",
        "outputId": "fd75fc73-01cb-4bbb-9ae2-1c4270c6ef3f"
      },
      "outputs": [
        {
          "name": "stdout",
          "output_type": "stream",
          "text": [
            "Downloading ../data/glove.6B.100d.zip from http://d2l-data.s3-accelerate.amazonaws.com/glove.6B.100d.zip...\n"
          ]
        },
        {
          "data": {
            "text/plain": [
              "torch.Size([49346, 100])"
            ]
          },
          "execution_count": 65,
          "metadata": {},
          "output_type": "execute_result"
        }
      ],
      "source": [
        "glove_embedding = d2l.TokenEmbedding('glove.6b.100d')\n",
        "embeds = glove_embedding[vocab.idx_to_token]\n",
        "embeds.shape"
      ]
    },
    {
      "cell_type": "code",
      "execution_count": null,
      "metadata": {
        "id": "b7-o8wC7GNEg"
      },
      "outputs": [],
      "source": [
        "net.embedding.weight.data.copy_(embeds)\n",
        "net.embedding.weight.requires_grad = False"
      ]
    },
    {
      "cell_type": "code",
      "execution_count": null,
      "metadata": {
        "colab": {
          "base_uri": "https://localhost:8080/",
          "height": 303
        },
        "id": "Ei8U1Q8FGRpe",
        "outputId": "7f1b1171-53b6-45b1-e0f5-d12afa182073"
      },
      "outputs": [
        {
          "name": "stdout",
          "output_type": "stream",
          "text": [
            "loss 0.261, train acc 0.894, test acc 0.856\n",
            "1051.6 examples/sec on [device(type='cuda', index=0)]\n"
          ]
        },
        {
          "data": {
            "image/svg+xml": "<?xml version=\"1.0\" encoding=\"utf-8\" standalone=\"no\"?>\n<!DOCTYPE svg PUBLIC \"-//W3C//DTD SVG 1.1//EN\"\n  \"http://www.w3.org/Graphics/SVG/1.1/DTD/svg11.dtd\">\n<!-- Created with matplotlib (https://matplotlib.org/) -->\n<svg height=\"184.455469pt\" version=\"1.1\" viewBox=\"0 0 235.784375 184.455469\" width=\"235.784375pt\" xmlns=\"http://www.w3.org/2000/svg\" xmlns:xlink=\"http://www.w3.org/1999/xlink\">\n <defs>\n  <style type=\"text/css\">\n*{stroke-linecap:butt;stroke-linejoin:round;}\n  </style>\n </defs>\n <g id=\"figure_1\">\n  <g id=\"patch_1\">\n   <path d=\"M 0 184.455469 \nL 235.784375 184.455469 \nL 235.784375 -0 \nL 0 -0 \nz\n\" style=\"fill:none;\"/>\n  </g>\n  <g id=\"axes_1\">\n   <g id=\"patch_2\">\n    <path d=\"M 30.103125 146.899219 \nL 225.403125 146.899219 \nL 225.403125 10.999219 \nL 30.103125 10.999219 \nz\n\" style=\"fill:#ffffff;\"/>\n   </g>\n   <g id=\"matplotlib.axis_1\">\n    <g id=\"xtick_1\">\n     <g id=\"line2d_1\">\n      <path clip-path=\"url(#p4dc64c4011)\" d=\"M 30.103125 146.899219 \nL 30.103125 10.999219 \n\" style=\"fill:none;stroke:#b0b0b0;stroke-linecap:square;stroke-width:0.8;\"/>\n     </g>\n     <g id=\"line2d_2\">\n      <defs>\n       <path d=\"M 0 0 \nL 0 3.5 \n\" id=\"mf084edd1f2\" style=\"stroke:#000000;stroke-width:0.8;\"/>\n      </defs>\n      <g>\n       <use style=\"stroke:#000000;stroke-width:0.8;\" x=\"30.103125\" xlink:href=\"#mf084edd1f2\" y=\"146.899219\"/>\n      </g>\n     </g>\n     <g id=\"text_1\">\n      <!-- 1 -->\n      <defs>\n       <path d=\"M 12.40625 8.296875 \nL 28.515625 8.296875 \nL 28.515625 63.921875 \nL 10.984375 60.40625 \nL 10.984375 69.390625 \nL 28.421875 72.90625 \nL 38.28125 72.90625 \nL 38.28125 8.296875 \nL 54.390625 8.296875 \nL 54.390625 0 \nL 12.40625 0 \nz\n\" id=\"DejaVuSans-49\"/>\n      </defs>\n      <g transform=\"translate(26.921875 161.497656)scale(0.1 -0.1)\">\n       <use xlink:href=\"#DejaVuSans-49\"/>\n      </g>\n     </g>\n    </g>\n    <g id=\"xtick_2\">\n     <g id=\"line2d_3\">\n      <path clip-path=\"url(#p4dc64c4011)\" d=\"M 78.928125 146.899219 \nL 78.928125 10.999219 \n\" style=\"fill:none;stroke:#b0b0b0;stroke-linecap:square;stroke-width:0.8;\"/>\n     </g>\n     <g id=\"line2d_4\">\n      <g>\n       <use style=\"stroke:#000000;stroke-width:0.8;\" x=\"78.928125\" xlink:href=\"#mf084edd1f2\" y=\"146.899219\"/>\n      </g>\n     </g>\n     <g id=\"text_2\">\n      <!-- 2 -->\n      <defs>\n       <path d=\"M 19.1875 8.296875 \nL 53.609375 8.296875 \nL 53.609375 0 \nL 7.328125 0 \nL 7.328125 8.296875 \nQ 12.9375 14.109375 22.625 23.890625 \nQ 32.328125 33.6875 34.8125 36.53125 \nQ 39.546875 41.84375 41.421875 45.53125 \nQ 43.3125 49.21875 43.3125 52.78125 \nQ 43.3125 58.59375 39.234375 62.25 \nQ 35.15625 65.921875 28.609375 65.921875 \nQ 23.96875 65.921875 18.8125 64.3125 \nQ 13.671875 62.703125 7.8125 59.421875 \nL 7.8125 69.390625 \nQ 13.765625 71.78125 18.9375 73 \nQ 24.125 74.21875 28.421875 74.21875 \nQ 39.75 74.21875 46.484375 68.546875 \nQ 53.21875 62.890625 53.21875 53.421875 \nQ 53.21875 48.921875 51.53125 44.890625 \nQ 49.859375 40.875 45.40625 35.40625 \nQ 44.1875 33.984375 37.640625 27.21875 \nQ 31.109375 20.453125 19.1875 8.296875 \nz\n\" id=\"DejaVuSans-50\"/>\n      </defs>\n      <g transform=\"translate(75.746875 161.497656)scale(0.1 -0.1)\">\n       <use xlink:href=\"#DejaVuSans-50\"/>\n      </g>\n     </g>\n    </g>\n    <g id=\"xtick_3\">\n     <g id=\"line2d_5\">\n      <path clip-path=\"url(#p4dc64c4011)\" d=\"M 127.753125 146.899219 \nL 127.753125 10.999219 \n\" style=\"fill:none;stroke:#b0b0b0;stroke-linecap:square;stroke-width:0.8;\"/>\n     </g>\n     <g id=\"line2d_6\">\n      <g>\n       <use style=\"stroke:#000000;stroke-width:0.8;\" x=\"127.753125\" xlink:href=\"#mf084edd1f2\" y=\"146.899219\"/>\n      </g>\n     </g>\n     <g id=\"text_3\">\n      <!-- 3 -->\n      <defs>\n       <path d=\"M 40.578125 39.3125 \nQ 47.65625 37.796875 51.625 33 \nQ 55.609375 28.21875 55.609375 21.1875 \nQ 55.609375 10.40625 48.1875 4.484375 \nQ 40.765625 -1.421875 27.09375 -1.421875 \nQ 22.515625 -1.421875 17.65625 -0.515625 \nQ 12.796875 0.390625 7.625 2.203125 \nL 7.625 11.71875 \nQ 11.71875 9.328125 16.59375 8.109375 \nQ 21.484375 6.890625 26.8125 6.890625 \nQ 36.078125 6.890625 40.9375 10.546875 \nQ 45.796875 14.203125 45.796875 21.1875 \nQ 45.796875 27.640625 41.28125 31.265625 \nQ 36.765625 34.90625 28.71875 34.90625 \nL 20.21875 34.90625 \nL 20.21875 43.015625 \nL 29.109375 43.015625 \nQ 36.375 43.015625 40.234375 45.921875 \nQ 44.09375 48.828125 44.09375 54.296875 \nQ 44.09375 59.90625 40.109375 62.90625 \nQ 36.140625 65.921875 28.71875 65.921875 \nQ 24.65625 65.921875 20.015625 65.03125 \nQ 15.375 64.15625 9.8125 62.3125 \nL 9.8125 71.09375 \nQ 15.4375 72.65625 20.34375 73.4375 \nQ 25.25 74.21875 29.59375 74.21875 \nQ 40.828125 74.21875 47.359375 69.109375 \nQ 53.90625 64.015625 53.90625 55.328125 \nQ 53.90625 49.265625 50.4375 45.09375 \nQ 46.96875 40.921875 40.578125 39.3125 \nz\n\" id=\"DejaVuSans-51\"/>\n      </defs>\n      <g transform=\"translate(124.571875 161.497656)scale(0.1 -0.1)\">\n       <use xlink:href=\"#DejaVuSans-51\"/>\n      </g>\n     </g>\n    </g>\n    <g id=\"xtick_4\">\n     <g id=\"line2d_7\">\n      <path clip-path=\"url(#p4dc64c4011)\" d=\"M 176.578125 146.899219 \nL 176.578125 10.999219 \n\" style=\"fill:none;stroke:#b0b0b0;stroke-linecap:square;stroke-width:0.8;\"/>\n     </g>\n     <g id=\"line2d_8\">\n      <g>\n       <use style=\"stroke:#000000;stroke-width:0.8;\" x=\"176.578125\" xlink:href=\"#mf084edd1f2\" y=\"146.899219\"/>\n      </g>\n     </g>\n     <g id=\"text_4\">\n      <!-- 4 -->\n      <defs>\n       <path d=\"M 37.796875 64.3125 \nL 12.890625 25.390625 \nL 37.796875 25.390625 \nz\nM 35.203125 72.90625 \nL 47.609375 72.90625 \nL 47.609375 25.390625 \nL 58.015625 25.390625 \nL 58.015625 17.1875 \nL 47.609375 17.1875 \nL 47.609375 0 \nL 37.796875 0 \nL 37.796875 17.1875 \nL 4.890625 17.1875 \nL 4.890625 26.703125 \nz\n\" id=\"DejaVuSans-52\"/>\n      </defs>\n      <g transform=\"translate(173.396875 161.497656)scale(0.1 -0.1)\">\n       <use xlink:href=\"#DejaVuSans-52\"/>\n      </g>\n     </g>\n    </g>\n    <g id=\"xtick_5\">\n     <g id=\"line2d_9\">\n      <path clip-path=\"url(#p4dc64c4011)\" d=\"M 225.403125 146.899219 \nL 225.403125 10.999219 \n\" style=\"fill:none;stroke:#b0b0b0;stroke-linecap:square;stroke-width:0.8;\"/>\n     </g>\n     <g id=\"line2d_10\">\n      <g>\n       <use style=\"stroke:#000000;stroke-width:0.8;\" x=\"225.403125\" xlink:href=\"#mf084edd1f2\" y=\"146.899219\"/>\n      </g>\n     </g>\n     <g id=\"text_5\">\n      <!-- 5 -->\n      <defs>\n       <path d=\"M 10.796875 72.90625 \nL 49.515625 72.90625 \nL 49.515625 64.59375 \nL 19.828125 64.59375 \nL 19.828125 46.734375 \nQ 21.96875 47.46875 24.109375 47.828125 \nQ 26.265625 48.1875 28.421875 48.1875 \nQ 40.625 48.1875 47.75 41.5 \nQ 54.890625 34.8125 54.890625 23.390625 \nQ 54.890625 11.625 47.5625 5.09375 \nQ 40.234375 -1.421875 26.90625 -1.421875 \nQ 22.3125 -1.421875 17.546875 -0.640625 \nQ 12.796875 0.140625 7.71875 1.703125 \nL 7.71875 11.625 \nQ 12.109375 9.234375 16.796875 8.0625 \nQ 21.484375 6.890625 26.703125 6.890625 \nQ 35.15625 6.890625 40.078125 11.328125 \nQ 45.015625 15.765625 45.015625 23.390625 \nQ 45.015625 31 40.078125 35.4375 \nQ 35.15625 39.890625 26.703125 39.890625 \nQ 22.75 39.890625 18.8125 39.015625 \nQ 14.890625 38.140625 10.796875 36.28125 \nz\n\" id=\"DejaVuSans-53\"/>\n      </defs>\n      <g transform=\"translate(222.221875 161.497656)scale(0.1 -0.1)\">\n       <use xlink:href=\"#DejaVuSans-53\"/>\n      </g>\n     </g>\n    </g>\n    <g id=\"text_6\">\n     <!-- epoch -->\n     <defs>\n      <path d=\"M 56.203125 29.59375 \nL 56.203125 25.203125 \nL 14.890625 25.203125 \nQ 15.484375 15.921875 20.484375 11.0625 \nQ 25.484375 6.203125 34.421875 6.203125 \nQ 39.59375 6.203125 44.453125 7.46875 \nQ 49.3125 8.734375 54.109375 11.28125 \nL 54.109375 2.78125 \nQ 49.265625 0.734375 44.1875 -0.34375 \nQ 39.109375 -1.421875 33.890625 -1.421875 \nQ 20.796875 -1.421875 13.15625 6.1875 \nQ 5.515625 13.8125 5.515625 26.8125 \nQ 5.515625 40.234375 12.765625 48.109375 \nQ 20.015625 56 32.328125 56 \nQ 43.359375 56 49.78125 48.890625 \nQ 56.203125 41.796875 56.203125 29.59375 \nz\nM 47.21875 32.234375 \nQ 47.125 39.59375 43.09375 43.984375 \nQ 39.0625 48.390625 32.421875 48.390625 \nQ 24.90625 48.390625 20.390625 44.140625 \nQ 15.875 39.890625 15.1875 32.171875 \nz\n\" id=\"DejaVuSans-101\"/>\n      <path d=\"M 18.109375 8.203125 \nL 18.109375 -20.796875 \nL 9.078125 -20.796875 \nL 9.078125 54.6875 \nL 18.109375 54.6875 \nL 18.109375 46.390625 \nQ 20.953125 51.265625 25.265625 53.625 \nQ 29.59375 56 35.59375 56 \nQ 45.5625 56 51.78125 48.09375 \nQ 58.015625 40.1875 58.015625 27.296875 \nQ 58.015625 14.40625 51.78125 6.484375 \nQ 45.5625 -1.421875 35.59375 -1.421875 \nQ 29.59375 -1.421875 25.265625 0.953125 \nQ 20.953125 3.328125 18.109375 8.203125 \nz\nM 48.6875 27.296875 \nQ 48.6875 37.203125 44.609375 42.84375 \nQ 40.53125 48.484375 33.40625 48.484375 \nQ 26.265625 48.484375 22.1875 42.84375 \nQ 18.109375 37.203125 18.109375 27.296875 \nQ 18.109375 17.390625 22.1875 11.75 \nQ 26.265625 6.109375 33.40625 6.109375 \nQ 40.53125 6.109375 44.609375 11.75 \nQ 48.6875 17.390625 48.6875 27.296875 \nz\n\" id=\"DejaVuSans-112\"/>\n      <path d=\"M 30.609375 48.390625 \nQ 23.390625 48.390625 19.1875 42.75 \nQ 14.984375 37.109375 14.984375 27.296875 \nQ 14.984375 17.484375 19.15625 11.84375 \nQ 23.34375 6.203125 30.609375 6.203125 \nQ 37.796875 6.203125 41.984375 11.859375 \nQ 46.1875 17.53125 46.1875 27.296875 \nQ 46.1875 37.015625 41.984375 42.703125 \nQ 37.796875 48.390625 30.609375 48.390625 \nz\nM 30.609375 56 \nQ 42.328125 56 49.015625 48.375 \nQ 55.71875 40.765625 55.71875 27.296875 \nQ 55.71875 13.875 49.015625 6.21875 \nQ 42.328125 -1.421875 30.609375 -1.421875 \nQ 18.84375 -1.421875 12.171875 6.21875 \nQ 5.515625 13.875 5.515625 27.296875 \nQ 5.515625 40.765625 12.171875 48.375 \nQ 18.84375 56 30.609375 56 \nz\n\" id=\"DejaVuSans-111\"/>\n      <path d=\"M 48.78125 52.59375 \nL 48.78125 44.1875 \nQ 44.96875 46.296875 41.140625 47.34375 \nQ 37.3125 48.390625 33.40625 48.390625 \nQ 24.65625 48.390625 19.8125 42.84375 \nQ 14.984375 37.3125 14.984375 27.296875 \nQ 14.984375 17.28125 19.8125 11.734375 \nQ 24.65625 6.203125 33.40625 6.203125 \nQ 37.3125 6.203125 41.140625 7.25 \nQ 44.96875 8.296875 48.78125 10.40625 \nL 48.78125 2.09375 \nQ 45.015625 0.34375 40.984375 -0.53125 \nQ 36.96875 -1.421875 32.421875 -1.421875 \nQ 20.0625 -1.421875 12.78125 6.34375 \nQ 5.515625 14.109375 5.515625 27.296875 \nQ 5.515625 40.671875 12.859375 48.328125 \nQ 20.21875 56 33.015625 56 \nQ 37.15625 56 41.109375 55.140625 \nQ 45.0625 54.296875 48.78125 52.59375 \nz\n\" id=\"DejaVuSans-99\"/>\n      <path d=\"M 54.890625 33.015625 \nL 54.890625 0 \nL 45.90625 0 \nL 45.90625 32.71875 \nQ 45.90625 40.484375 42.875 44.328125 \nQ 39.84375 48.1875 33.796875 48.1875 \nQ 26.515625 48.1875 22.3125 43.546875 \nQ 18.109375 38.921875 18.109375 30.90625 \nL 18.109375 0 \nL 9.078125 0 \nL 9.078125 75.984375 \nL 18.109375 75.984375 \nL 18.109375 46.1875 \nQ 21.34375 51.125 25.703125 53.5625 \nQ 30.078125 56 35.796875 56 \nQ 45.21875 56 50.046875 50.171875 \nQ 54.890625 44.34375 54.890625 33.015625 \nz\n\" id=\"DejaVuSans-104\"/>\n     </defs>\n     <g transform=\"translate(112.525 175.175781)scale(0.1 -0.1)\">\n      <use xlink:href=\"#DejaVuSans-101\"/>\n      <use x=\"61.523438\" xlink:href=\"#DejaVuSans-112\"/>\n      <use x=\"125\" xlink:href=\"#DejaVuSans-111\"/>\n      <use x=\"186.181641\" xlink:href=\"#DejaVuSans-99\"/>\n      <use x=\"241.162109\" xlink:href=\"#DejaVuSans-104\"/>\n     </g>\n    </g>\n   </g>\n   <g id=\"matplotlib.axis_2\">\n    <g id=\"ytick_1\">\n     <g id=\"line2d_11\">\n      <path clip-path=\"url(#p4dc64c4011)\" d=\"M 30.103125 146.899219 \nL 225.403125 146.899219 \n\" style=\"fill:none;stroke:#b0b0b0;stroke-linecap:square;stroke-width:0.8;\"/>\n     </g>\n     <g id=\"line2d_12\">\n      <defs>\n       <path d=\"M 0 0 \nL -3.5 0 \n\" id=\"m452aa76523\" style=\"stroke:#000000;stroke-width:0.8;\"/>\n      </defs>\n      <g>\n       <use style=\"stroke:#000000;stroke-width:0.8;\" x=\"30.103125\" xlink:href=\"#m452aa76523\" y=\"146.899219\"/>\n      </g>\n     </g>\n     <g id=\"text_7\">\n      <!-- 0.0 -->\n      <defs>\n       <path d=\"M 31.78125 66.40625 \nQ 24.171875 66.40625 20.328125 58.90625 \nQ 16.5 51.421875 16.5 36.375 \nQ 16.5 21.390625 20.328125 13.890625 \nQ 24.171875 6.390625 31.78125 6.390625 \nQ 39.453125 6.390625 43.28125 13.890625 \nQ 47.125 21.390625 47.125 36.375 \nQ 47.125 51.421875 43.28125 58.90625 \nQ 39.453125 66.40625 31.78125 66.40625 \nz\nM 31.78125 74.21875 \nQ 44.046875 74.21875 50.515625 64.515625 \nQ 56.984375 54.828125 56.984375 36.375 \nQ 56.984375 17.96875 50.515625 8.265625 \nQ 44.046875 -1.421875 31.78125 -1.421875 \nQ 19.53125 -1.421875 13.0625 8.265625 \nQ 6.59375 17.96875 6.59375 36.375 \nQ 6.59375 54.828125 13.0625 64.515625 \nQ 19.53125 74.21875 31.78125 74.21875 \nz\n\" id=\"DejaVuSans-48\"/>\n       <path d=\"M 10.6875 12.40625 \nL 21 12.40625 \nL 21 0 \nL 10.6875 0 \nz\n\" id=\"DejaVuSans-46\"/>\n      </defs>\n      <g transform=\"translate(7.2 150.698437)scale(0.1 -0.1)\">\n       <use xlink:href=\"#DejaVuSans-48\"/>\n       <use x=\"63.623047\" xlink:href=\"#DejaVuSans-46\"/>\n       <use x=\"95.410156\" xlink:href=\"#DejaVuSans-48\"/>\n      </g>\n     </g>\n    </g>\n    <g id=\"ytick_2\">\n     <g id=\"line2d_13\">\n      <path clip-path=\"url(#p4dc64c4011)\" d=\"M 30.103125 119.719219 \nL 225.403125 119.719219 \n\" style=\"fill:none;stroke:#b0b0b0;stroke-linecap:square;stroke-width:0.8;\"/>\n     </g>\n     <g id=\"line2d_14\">\n      <g>\n       <use style=\"stroke:#000000;stroke-width:0.8;\" x=\"30.103125\" xlink:href=\"#m452aa76523\" y=\"119.719219\"/>\n      </g>\n     </g>\n     <g id=\"text_8\">\n      <!-- 0.2 -->\n      <g transform=\"translate(7.2 123.518437)scale(0.1 -0.1)\">\n       <use xlink:href=\"#DejaVuSans-48\"/>\n       <use x=\"63.623047\" xlink:href=\"#DejaVuSans-46\"/>\n       <use x=\"95.410156\" xlink:href=\"#DejaVuSans-50\"/>\n      </g>\n     </g>\n    </g>\n    <g id=\"ytick_3\">\n     <g id=\"line2d_15\">\n      <path clip-path=\"url(#p4dc64c4011)\" d=\"M 30.103125 92.539219 \nL 225.403125 92.539219 \n\" style=\"fill:none;stroke:#b0b0b0;stroke-linecap:square;stroke-width:0.8;\"/>\n     </g>\n     <g id=\"line2d_16\">\n      <g>\n       <use style=\"stroke:#000000;stroke-width:0.8;\" x=\"30.103125\" xlink:href=\"#m452aa76523\" y=\"92.539219\"/>\n      </g>\n     </g>\n     <g id=\"text_9\">\n      <!-- 0.4 -->\n      <g transform=\"translate(7.2 96.338437)scale(0.1 -0.1)\">\n       <use xlink:href=\"#DejaVuSans-48\"/>\n       <use x=\"63.623047\" xlink:href=\"#DejaVuSans-46\"/>\n       <use x=\"95.410156\" xlink:href=\"#DejaVuSans-52\"/>\n      </g>\n     </g>\n    </g>\n    <g id=\"ytick_4\">\n     <g id=\"line2d_17\">\n      <path clip-path=\"url(#p4dc64c4011)\" d=\"M 30.103125 65.359219 \nL 225.403125 65.359219 \n\" style=\"fill:none;stroke:#b0b0b0;stroke-linecap:square;stroke-width:0.8;\"/>\n     </g>\n     <g id=\"line2d_18\">\n      <g>\n       <use style=\"stroke:#000000;stroke-width:0.8;\" x=\"30.103125\" xlink:href=\"#m452aa76523\" y=\"65.359219\"/>\n      </g>\n     </g>\n     <g id=\"text_10\">\n      <!-- 0.6 -->\n      <defs>\n       <path d=\"M 33.015625 40.375 \nQ 26.375 40.375 22.484375 35.828125 \nQ 18.609375 31.296875 18.609375 23.390625 \nQ 18.609375 15.53125 22.484375 10.953125 \nQ 26.375 6.390625 33.015625 6.390625 \nQ 39.65625 6.390625 43.53125 10.953125 \nQ 47.40625 15.53125 47.40625 23.390625 \nQ 47.40625 31.296875 43.53125 35.828125 \nQ 39.65625 40.375 33.015625 40.375 \nz\nM 52.59375 71.296875 \nL 52.59375 62.3125 \nQ 48.875 64.0625 45.09375 64.984375 \nQ 41.3125 65.921875 37.59375 65.921875 \nQ 27.828125 65.921875 22.671875 59.328125 \nQ 17.53125 52.734375 16.796875 39.40625 \nQ 19.671875 43.65625 24.015625 45.921875 \nQ 28.375 48.1875 33.59375 48.1875 \nQ 44.578125 48.1875 50.953125 41.515625 \nQ 57.328125 34.859375 57.328125 23.390625 \nQ 57.328125 12.15625 50.6875 5.359375 \nQ 44.046875 -1.421875 33.015625 -1.421875 \nQ 20.359375 -1.421875 13.671875 8.265625 \nQ 6.984375 17.96875 6.984375 36.375 \nQ 6.984375 53.65625 15.1875 63.9375 \nQ 23.390625 74.21875 37.203125 74.21875 \nQ 40.921875 74.21875 44.703125 73.484375 \nQ 48.484375 72.75 52.59375 71.296875 \nz\n\" id=\"DejaVuSans-54\"/>\n      </defs>\n      <g transform=\"translate(7.2 69.158437)scale(0.1 -0.1)\">\n       <use xlink:href=\"#DejaVuSans-48\"/>\n       <use x=\"63.623047\" xlink:href=\"#DejaVuSans-46\"/>\n       <use x=\"95.410156\" xlink:href=\"#DejaVuSans-54\"/>\n      </g>\n     </g>\n    </g>\n    <g id=\"ytick_5\">\n     <g id=\"line2d_19\">\n      <path clip-path=\"url(#p4dc64c4011)\" d=\"M 30.103125 38.179219 \nL 225.403125 38.179219 \n\" style=\"fill:none;stroke:#b0b0b0;stroke-linecap:square;stroke-width:0.8;\"/>\n     </g>\n     <g id=\"line2d_20\">\n      <g>\n       <use style=\"stroke:#000000;stroke-width:0.8;\" x=\"30.103125\" xlink:href=\"#m452aa76523\" y=\"38.179219\"/>\n      </g>\n     </g>\n     <g id=\"text_11\">\n      <!-- 0.8 -->\n      <defs>\n       <path d=\"M 31.78125 34.625 \nQ 24.75 34.625 20.71875 30.859375 \nQ 16.703125 27.09375 16.703125 20.515625 \nQ 16.703125 13.921875 20.71875 10.15625 \nQ 24.75 6.390625 31.78125 6.390625 \nQ 38.8125 6.390625 42.859375 10.171875 \nQ 46.921875 13.96875 46.921875 20.515625 \nQ 46.921875 27.09375 42.890625 30.859375 \nQ 38.875 34.625 31.78125 34.625 \nz\nM 21.921875 38.8125 \nQ 15.578125 40.375 12.03125 44.71875 \nQ 8.5 49.078125 8.5 55.328125 \nQ 8.5 64.0625 14.71875 69.140625 \nQ 20.953125 74.21875 31.78125 74.21875 \nQ 42.671875 74.21875 48.875 69.140625 \nQ 55.078125 64.0625 55.078125 55.328125 \nQ 55.078125 49.078125 51.53125 44.71875 \nQ 48 40.375 41.703125 38.8125 \nQ 48.828125 37.15625 52.796875 32.3125 \nQ 56.78125 27.484375 56.78125 20.515625 \nQ 56.78125 9.90625 50.3125 4.234375 \nQ 43.84375 -1.421875 31.78125 -1.421875 \nQ 19.734375 -1.421875 13.25 4.234375 \nQ 6.78125 9.90625 6.78125 20.515625 \nQ 6.78125 27.484375 10.78125 32.3125 \nQ 14.796875 37.15625 21.921875 38.8125 \nz\nM 18.3125 54.390625 \nQ 18.3125 48.734375 21.84375 45.5625 \nQ 25.390625 42.390625 31.78125 42.390625 \nQ 38.140625 42.390625 41.71875 45.5625 \nQ 45.3125 48.734375 45.3125 54.390625 \nQ 45.3125 60.0625 41.71875 63.234375 \nQ 38.140625 66.40625 31.78125 66.40625 \nQ 25.390625 66.40625 21.84375 63.234375 \nQ 18.3125 60.0625 18.3125 54.390625 \nz\n\" id=\"DejaVuSans-56\"/>\n      </defs>\n      <g transform=\"translate(7.2 41.978437)scale(0.1 -0.1)\">\n       <use xlink:href=\"#DejaVuSans-48\"/>\n       <use x=\"63.623047\" xlink:href=\"#DejaVuSans-46\"/>\n       <use x=\"95.410156\" xlink:href=\"#DejaVuSans-56\"/>\n      </g>\n     </g>\n    </g>\n    <g id=\"ytick_6\">\n     <g id=\"line2d_21\">\n      <path clip-path=\"url(#p4dc64c4011)\" d=\"M 30.103125 10.999219 \nL 225.403125 10.999219 \n\" style=\"fill:none;stroke:#b0b0b0;stroke-linecap:square;stroke-width:0.8;\"/>\n     </g>\n     <g id=\"line2d_22\">\n      <g>\n       <use style=\"stroke:#000000;stroke-width:0.8;\" x=\"30.103125\" xlink:href=\"#m452aa76523\" y=\"10.999219\"/>\n      </g>\n     </g>\n     <g id=\"text_12\">\n      <!-- 1.0 -->\n      <g transform=\"translate(7.2 14.798437)scale(0.1 -0.1)\">\n       <use xlink:href=\"#DejaVuSans-49\"/>\n       <use x=\"63.623047\" xlink:href=\"#DejaVuSans-46\"/>\n       <use x=\"95.410156\" xlink:href=\"#DejaVuSans-48\"/>\n      </g>\n     </g>\n    </g>\n   </g>\n   <g id=\"line2d_23\">\n    <path clip-path=\"url(#p4dc64c4011)\" d=\"M -1 53.53706 \nL 0.758176 53.695214 \nL 10.498202 56.581888 \nL 20.238227 61.638716 \nL 29.978253 66.867251 \nL 30.103125 66.902912 \nL 39.843151 92.701863 \nL 49.583176 92.965597 \nL 59.323202 93.716579 \nL 69.063227 94.293421 \nL 78.803253 94.76911 \nL 78.928125 94.764061 \nL 88.668151 100.553246 \nL 98.408176 101.316801 \nL 108.148202 101.6671 \nL 117.888227 101.809959 \nL 127.628253 102.330935 \nL 127.753125 102.334684 \nL 137.493151 107.887338 \nL 147.233176 108.013807 \nL 156.973202 107.24965 \nL 166.713227 107.463327 \nL 176.453253 107.215911 \nL 176.578125 107.219481 \nL 186.318151 113.54122 \nL 196.058176 113.208547 \nL 205.798202 112.552679 \nL 215.538227 111.784089 \nL 225.278253 111.477493 \nL 225.403125 111.470523 \n\" style=\"fill:none;stroke:#1f77b4;stroke-linecap:square;stroke-width:1.5;\"/>\n   </g>\n   <g id=\"line2d_24\">\n    <path clip-path=\"url(#p4dc64c4011)\" d=\"M -1 70.631203 \nL 0.758176 70.292127 \nL 10.498202 66.508053 \nL 20.238227 60.757076 \nL 29.978253 55.972536 \nL 30.103125 55.949503 \nL 39.843151 34.928726 \nL 49.583176 35.03762 \nL 59.323202 34.65649 \nL 69.063227 34.513567 \nL 78.803253 34.139243 \nL 78.928125 34.123963 \nL 88.668151 31.335216 \nL 98.408176 30.641016 \nL 108.148202 30.654627 \nL 117.888227 30.586569 \nL 127.628253 30.327945 \nL 127.753125 30.329635 \nL 137.493151 27.115565 \nL 147.233176 27.006671 \nL 156.973202 27.496695 \nL 166.713227 27.415024 \nL 176.453253 27.621923 \nL 176.578125 27.606199 \nL 186.318151 24.393209 \nL 196.058176 24.447656 \nL 205.798202 24.701743 \nL 215.538227 25.135051 \nL 225.278253 25.444038 \nL 225.403125 25.448107 \n\" style=\"fill:none;stroke:#bf00bf;stroke-dasharray:5.55,2.4;stroke-dashoffset:0;stroke-width:1.5;\"/>\n   </g>\n   <g id=\"line2d_25\">\n    <path clip-path=\"url(#p4dc64c4011)\" d=\"M 30.103125 34.999159 \nL 78.928125 33.324871 \nL 127.753125 30.335071 \nL 176.578125 30.014347 \nL 225.403125 30.541639 \n\" style=\"fill:none;stroke:#008000;stroke-dasharray:9.6,2.4,1.5,2.4;stroke-dashoffset:0;stroke-width:1.5;\"/>\n   </g>\n   <g id=\"patch_3\">\n    <path d=\"M 30.103125 146.899219 \nL 30.103125 10.999219 \n\" style=\"fill:none;stroke:#000000;stroke-linecap:square;stroke-linejoin:miter;stroke-width:0.8;\"/>\n   </g>\n   <g id=\"patch_4\">\n    <path d=\"M 225.403125 146.899219 \nL 225.403125 10.999219 \n\" style=\"fill:none;stroke:#000000;stroke-linecap:square;stroke-linejoin:miter;stroke-width:0.8;\"/>\n   </g>\n   <g id=\"patch_5\">\n    <path d=\"M 30.103125 146.899219 \nL 225.403125 146.899219 \n\" style=\"fill:none;stroke:#000000;stroke-linecap:square;stroke-linejoin:miter;stroke-width:0.8;\"/>\n   </g>\n   <g id=\"patch_6\">\n    <path d=\"M 30.103125 10.999219 \nL 225.403125 10.999219 \n\" style=\"fill:none;stroke:#000000;stroke-linecap:square;stroke-linejoin:miter;stroke-width:0.8;\"/>\n   </g>\n   <g id=\"legend_1\">\n    <g id=\"patch_7\">\n     <path d=\"M 140.634375 102.466406 \nL 218.403125 102.466406 \nQ 220.403125 102.466406 220.403125 100.466406 \nL 220.403125 57.432031 \nQ 220.403125 55.432031 218.403125 55.432031 \nL 140.634375 55.432031 \nQ 138.634375 55.432031 138.634375 57.432031 \nL 138.634375 100.466406 \nQ 138.634375 102.466406 140.634375 102.466406 \nz\n\" style=\"fill:#ffffff;opacity:0.8;stroke:#cccccc;stroke-linejoin:miter;\"/>\n    </g>\n    <g id=\"line2d_26\">\n     <path d=\"M 142.634375 63.530469 \nL 162.634375 63.530469 \n\" style=\"fill:none;stroke:#1f77b4;stroke-linecap:square;stroke-width:1.5;\"/>\n    </g>\n    <g id=\"line2d_27\"/>\n    <g id=\"text_13\">\n     <!-- train loss -->\n     <defs>\n      <path d=\"M 18.3125 70.21875 \nL 18.3125 54.6875 \nL 36.8125 54.6875 \nL 36.8125 47.703125 \nL 18.3125 47.703125 \nL 18.3125 18.015625 \nQ 18.3125 11.328125 20.140625 9.421875 \nQ 21.96875 7.515625 27.59375 7.515625 \nL 36.8125 7.515625 \nL 36.8125 0 \nL 27.59375 0 \nQ 17.1875 0 13.234375 3.875 \nQ 9.28125 7.765625 9.28125 18.015625 \nL 9.28125 47.703125 \nL 2.6875 47.703125 \nL 2.6875 54.6875 \nL 9.28125 54.6875 \nL 9.28125 70.21875 \nz\n\" id=\"DejaVuSans-116\"/>\n      <path d=\"M 41.109375 46.296875 \nQ 39.59375 47.171875 37.8125 47.578125 \nQ 36.03125 48 33.890625 48 \nQ 26.265625 48 22.1875 43.046875 \nQ 18.109375 38.09375 18.109375 28.8125 \nL 18.109375 0 \nL 9.078125 0 \nL 9.078125 54.6875 \nL 18.109375 54.6875 \nL 18.109375 46.1875 \nQ 20.953125 51.171875 25.484375 53.578125 \nQ 30.03125 56 36.53125 56 \nQ 37.453125 56 38.578125 55.875 \nQ 39.703125 55.765625 41.0625 55.515625 \nz\n\" id=\"DejaVuSans-114\"/>\n      <path d=\"M 34.28125 27.484375 \nQ 23.390625 27.484375 19.1875 25 \nQ 14.984375 22.515625 14.984375 16.5 \nQ 14.984375 11.71875 18.140625 8.90625 \nQ 21.296875 6.109375 26.703125 6.109375 \nQ 34.1875 6.109375 38.703125 11.40625 \nQ 43.21875 16.703125 43.21875 25.484375 \nL 43.21875 27.484375 \nz\nM 52.203125 31.203125 \nL 52.203125 0 \nL 43.21875 0 \nL 43.21875 8.296875 \nQ 40.140625 3.328125 35.546875 0.953125 \nQ 30.953125 -1.421875 24.3125 -1.421875 \nQ 15.921875 -1.421875 10.953125 3.296875 \nQ 6 8.015625 6 15.921875 \nQ 6 25.140625 12.171875 29.828125 \nQ 18.359375 34.515625 30.609375 34.515625 \nL 43.21875 34.515625 \nL 43.21875 35.40625 \nQ 43.21875 41.609375 39.140625 45 \nQ 35.0625 48.390625 27.6875 48.390625 \nQ 23 48.390625 18.546875 47.265625 \nQ 14.109375 46.140625 10.015625 43.890625 \nL 10.015625 52.203125 \nQ 14.9375 54.109375 19.578125 55.046875 \nQ 24.21875 56 28.609375 56 \nQ 40.484375 56 46.34375 49.84375 \nQ 52.203125 43.703125 52.203125 31.203125 \nz\n\" id=\"DejaVuSans-97\"/>\n      <path d=\"M 9.421875 54.6875 \nL 18.40625 54.6875 \nL 18.40625 0 \nL 9.421875 0 \nz\nM 9.421875 75.984375 \nL 18.40625 75.984375 \nL 18.40625 64.59375 \nL 9.421875 64.59375 \nz\n\" id=\"DejaVuSans-105\"/>\n      <path d=\"M 54.890625 33.015625 \nL 54.890625 0 \nL 45.90625 0 \nL 45.90625 32.71875 \nQ 45.90625 40.484375 42.875 44.328125 \nQ 39.84375 48.1875 33.796875 48.1875 \nQ 26.515625 48.1875 22.3125 43.546875 \nQ 18.109375 38.921875 18.109375 30.90625 \nL 18.109375 0 \nL 9.078125 0 \nL 9.078125 54.6875 \nL 18.109375 54.6875 \nL 18.109375 46.1875 \nQ 21.34375 51.125 25.703125 53.5625 \nQ 30.078125 56 35.796875 56 \nQ 45.21875 56 50.046875 50.171875 \nQ 54.890625 44.34375 54.890625 33.015625 \nz\n\" id=\"DejaVuSans-110\"/>\n      <path id=\"DejaVuSans-32\"/>\n      <path d=\"M 9.421875 75.984375 \nL 18.40625 75.984375 \nL 18.40625 0 \nL 9.421875 0 \nz\n\" id=\"DejaVuSans-108\"/>\n      <path d=\"M 44.28125 53.078125 \nL 44.28125 44.578125 \nQ 40.484375 46.53125 36.375 47.5 \nQ 32.28125 48.484375 27.875 48.484375 \nQ 21.1875 48.484375 17.84375 46.4375 \nQ 14.5 44.390625 14.5 40.28125 \nQ 14.5 37.15625 16.890625 35.375 \nQ 19.28125 33.59375 26.515625 31.984375 \nL 29.59375 31.296875 \nQ 39.15625 29.25 43.1875 25.515625 \nQ 47.21875 21.78125 47.21875 15.09375 \nQ 47.21875 7.46875 41.1875 3.015625 \nQ 35.15625 -1.421875 24.609375 -1.421875 \nQ 20.21875 -1.421875 15.453125 -0.5625 \nQ 10.6875 0.296875 5.421875 2 \nL 5.421875 11.28125 \nQ 10.40625 8.6875 15.234375 7.390625 \nQ 20.0625 6.109375 24.8125 6.109375 \nQ 31.15625 6.109375 34.5625 8.28125 \nQ 37.984375 10.453125 37.984375 14.40625 \nQ 37.984375 18.0625 35.515625 20.015625 \nQ 33.0625 21.96875 24.703125 23.78125 \nL 21.578125 24.515625 \nQ 13.234375 26.265625 9.515625 29.90625 \nQ 5.8125 33.546875 5.8125 39.890625 \nQ 5.8125 47.609375 11.28125 51.796875 \nQ 16.75 56 26.8125 56 \nQ 31.78125 56 36.171875 55.265625 \nQ 40.578125 54.546875 44.28125 53.078125 \nz\n\" id=\"DejaVuSans-115\"/>\n     </defs>\n     <g transform=\"translate(170.634375 67.030469)scale(0.1 -0.1)\">\n      <use xlink:href=\"#DejaVuSans-116\"/>\n      <use x=\"39.208984\" xlink:href=\"#DejaVuSans-114\"/>\n      <use x=\"80.322266\" xlink:href=\"#DejaVuSans-97\"/>\n      <use x=\"141.601562\" xlink:href=\"#DejaVuSans-105\"/>\n      <use x=\"169.384766\" xlink:href=\"#DejaVuSans-110\"/>\n      <use x=\"232.763672\" xlink:href=\"#DejaVuSans-32\"/>\n      <use x=\"264.550781\" xlink:href=\"#DejaVuSans-108\"/>\n      <use x=\"292.333984\" xlink:href=\"#DejaVuSans-111\"/>\n      <use x=\"353.515625\" xlink:href=\"#DejaVuSans-115\"/>\n      <use x=\"405.615234\" xlink:href=\"#DejaVuSans-115\"/>\n     </g>\n    </g>\n    <g id=\"line2d_28\">\n     <path d=\"M 142.634375 78.208594 \nL 162.634375 78.208594 \n\" style=\"fill:none;stroke:#bf00bf;stroke-dasharray:5.55,2.4;stroke-dashoffset:0;stroke-width:1.5;\"/>\n    </g>\n    <g id=\"line2d_29\"/>\n    <g id=\"text_14\">\n     <!-- train acc -->\n     <g transform=\"translate(170.634375 81.708594)scale(0.1 -0.1)\">\n      <use xlink:href=\"#DejaVuSans-116\"/>\n      <use x=\"39.208984\" xlink:href=\"#DejaVuSans-114\"/>\n      <use x=\"80.322266\" xlink:href=\"#DejaVuSans-97\"/>\n      <use x=\"141.601562\" xlink:href=\"#DejaVuSans-105\"/>\n      <use x=\"169.384766\" xlink:href=\"#DejaVuSans-110\"/>\n      <use x=\"232.763672\" xlink:href=\"#DejaVuSans-32\"/>\n      <use x=\"264.550781\" xlink:href=\"#DejaVuSans-97\"/>\n      <use x=\"325.830078\" xlink:href=\"#DejaVuSans-99\"/>\n      <use x=\"380.810547\" xlink:href=\"#DejaVuSans-99\"/>\n     </g>\n    </g>\n    <g id=\"line2d_30\">\n     <path d=\"M 142.634375 92.886719 \nL 162.634375 92.886719 \n\" style=\"fill:none;stroke:#008000;stroke-dasharray:9.6,2.4,1.5,2.4;stroke-dashoffset:0;stroke-width:1.5;\"/>\n    </g>\n    <g id=\"line2d_31\"/>\n    <g id=\"text_15\">\n     <!-- test acc -->\n     <g transform=\"translate(170.634375 96.386719)scale(0.1 -0.1)\">\n      <use xlink:href=\"#DejaVuSans-116\"/>\n      <use x=\"39.208984\" xlink:href=\"#DejaVuSans-101\"/>\n      <use x=\"100.732422\" xlink:href=\"#DejaVuSans-115\"/>\n      <use x=\"152.832031\" xlink:href=\"#DejaVuSans-116\"/>\n      <use x=\"192.041016\" xlink:href=\"#DejaVuSans-32\"/>\n      <use x=\"223.828125\" xlink:href=\"#DejaVuSans-97\"/>\n      <use x=\"285.107422\" xlink:href=\"#DejaVuSans-99\"/>\n      <use x=\"340.087891\" xlink:href=\"#DejaVuSans-99\"/>\n     </g>\n    </g>\n   </g>\n  </g>\n </g>\n <defs>\n  <clipPath id=\"p4dc64c4011\">\n   <rect height=\"135.9\" width=\"195.3\" x=\"30.103125\" y=\"10.999219\"/>\n  </clipPath>\n </defs>\n</svg>\n",
            "text/plain": [
              "<Figure size 252x180 with 1 Axes>"
            ]
          },
          "metadata": {},
          "output_type": "display_data"
        }
      ],
      "source": [
        "lr, num_epochs = 0.01, 5\n",
        "trainer = torch.optim.Adam(net.parameters(), lr=lr)\n",
        "loss = nn.CrossEntropyLoss(reduction=\"none\")\n",
        "d2l.train_ch13(net, train_iter, test_iter, loss, trainer, num_epochs,devices)"
      ]
    },
    {
      "cell_type": "code",
      "execution_count": null,
      "metadata": {
        "id": "-dMzxKopGWJV"
      },
      "outputs": [],
      "source": [
        "def predict_sentiment(net, vocab, sequence):\n",
        "  \"\"\"预测⽂本序列的情感\"\"\"\n",
        "  sequence = torch.tensor(vocab[sequence.split()], device=d2l.try_gpu())\n",
        "  label = torch.argmax(net(sequence.reshape(1, -1)), dim=1)\n",
        "  return 'positive' if label == 1 else 'negative'"
      ]
    },
    {
      "cell_type": "code",
      "execution_count": null,
      "metadata": {
        "colab": {
          "base_uri": "https://localhost:8080/",
          "height": 35
        },
        "id": "l3TkojaCGZNC",
        "outputId": "df76a10a-f08a-4b05-9dab-9e1e35e557a4"
      },
      "outputs": [
        {
          "data": {
            "application/vnd.google.colaboratory.intrinsic+json": {
              "type": "string"
            },
            "text/plain": [
              "'positive'"
            ]
          },
          "execution_count": 69,
          "metadata": {},
          "output_type": "execute_result"
        }
      ],
      "source": [
        "predict_sentiment(net, vocab, 'this movie is so great')"
      ]
    },
    {
      "cell_type": "code",
      "execution_count": null,
      "metadata": {
        "colab": {
          "base_uri": "https://localhost:8080/",
          "height": 35
        },
        "id": "cnTZ1Q_NGbNG",
        "outputId": "96356172-a922-40fe-e02d-63b82efaeca0"
      },
      "outputs": [
        {
          "data": {
            "application/vnd.google.colaboratory.intrinsic+json": {
              "type": "string"
            },
            "text/plain": [
              "'negative'"
            ]
          },
          "execution_count": 70,
          "metadata": {},
          "output_type": "execute_result"
        }
      ],
      "source": [
        "predict_sentiment(net, vocab, 'this movie is so bad')"
      ]
    },
    {
      "cell_type": "markdown",
      "metadata": {
        "id": "W2aJop9Kuw1w"
      },
      "source": [
        "### bert微调实现语义推断"
      ]
    },
    {
      "cell_type": "code",
      "execution_count": 2,
      "metadata": {
        "colab": {
          "base_uri": "https://localhost:8080/"
        },
        "id": "ItCIyNjdu2y4",
        "outputId": "648a793c-ea16-432f-f4b2-ad557706baa6"
      },
      "outputs": [
        {
          "output_type": "stream",
          "name": "stdout",
          "text": [
            "Downloading ../data/snli_1.0.zip from https://nlp.stanford.edu/projects/snli/snli_1.0.zip...\n"
          ]
        }
      ],
      "source": [
        "import os\n",
        "import re\n",
        "import torch\n",
        "from torch import nn\n",
        "from d2l import torch as d2l\n",
        "d2l.DATA_HUB['SNLI'] = (\n",
        "  'https://nlp.stanford.edu/projects/snli/snli_1.0.zip',\n",
        "  '9fcde07509c7e87ec61c640c1b2753d9041758e4')\n",
        "data_dir = d2l.download_extract('SNLI')\n",
        "\n",
        "def read_snli(data_dir, is_train):\n",
        "  \"\"\"将SNLI数据集解析为前提、假设和标签\"\"\"\n",
        "  def extract_text(s):\n",
        "    # 删除我们不会使⽤的信息\n",
        "    s = re.sub('\\\\(', '', s)\n",
        "    s = re.sub('\\\\)', '', s)\n",
        "    # ⽤⼀个空格替换两个或多个连续的空格\n",
        "    s = re.sub('\\\\s{2,}', ' ', s)\n",
        "    return s.strip()\n",
        "  label_set = {'entailment': 0, 'contradiction': 1, 'neutral': 2}\n",
        "  file_name = os.path.join(data_dir, 'snli_1.0_train.txt'\n",
        "  if is_train else 'snli_1.0_test.txt')\n",
        "  with open(file_name, 'r') as f:\n",
        "    rows = [row.split('\\t') for row in f.readlines()[1:]]\n",
        "  premises = [extract_text(row[1]) for row in rows if row[0] in label_set]\n",
        "  hypotheses = [extract_text(row[2]) for row in rows if row[0] in label_set]\n",
        "  labels = [label_set[row[0]] for row in rows if row[0] in label_set]\n",
        "  return premises, hypotheses, labels"
      ]
    },
    {
      "cell_type": "code",
      "execution_count": 3,
      "metadata": {
        "colab": {
          "base_uri": "https://localhost:8080/"
        },
        "id": "ukyfEAfqLcgz",
        "outputId": "60b559ab-39ec-4745-96c7-a06ca622dfeb"
      },
      "outputs": [
        {
          "output_type": "stream",
          "name": "stdout",
          "text": [
            "前提： A person on a horse jumps over a broken down airplane .\n",
            "假设： A person is training his horse for a competition .\n",
            "标签： 2\n",
            "前提： A person on a horse jumps over a broken down airplane .\n",
            "假设： A person is at a diner , ordering an omelette .\n",
            "标签： 1\n",
            "前提： A person on a horse jumps over a broken down airplane .\n",
            "假设： A person is outdoors , on a horse .\n",
            "标签： 0\n"
          ]
        }
      ],
      "source": [
        "train_data = read_snli(data_dir, is_train=True)\n",
        "for x0, x1, y in zip(train_data[0][:3], train_data[1][:3], train_data[2][:3]):\n",
        "  print('前提：', x0)\n",
        "  print('假设：', x1)\n",
        "  print('标签：', y)\n"
      ]
    },
    {
      "cell_type": "code",
      "execution_count": 4,
      "metadata": {
        "id": "Ws-SS-0Kke-u"
      },
      "outputs": [],
      "source": [
        "import multiprocessing\n",
        "class SNLIBERTDataset(torch.utils.data.Dataset):\n",
        "  def __init__(self, dataset, max_len, vocab=None):\n",
        "    all_premise_hypothesis_tokens = [[p_tokens, h_tokens] for p_tokens, h_tokens in zip(\n",
        "                      *[d2l.tokenize([s.lower() for s in sentences])\n",
        "                      for sentences in dataset[:2]])]\n",
        "    self.labels = torch.tensor(dataset[2])\n",
        "    self.vocab = vocab\n",
        "    self.max_len = max_len\n",
        "    (self.all_token_ids, self.all_segments,\n",
        "    self.valid_lens) = self._preprocess(all_premise_hypothesis_tokens)\n",
        "    print('read ' + str(len(self.all_token_ids)) + ' examples')\n",
        "  def _preprocess(self, all_premise_hypothesis_tokens):\n",
        "    pool = multiprocessing.Pool(4) # 使⽤4个进程\n",
        "    out = pool.map(self._mp_worker, all_premise_hypothesis_tokens)\n",
        "    all_token_ids = [token_ids for token_ids, segments, valid_len in out]\n",
        "    all_segments = [segments for token_ids, segments, valid_len in out]\n",
        "    valid_lens = [valid_len for token_ids, segments, valid_len in out]\n",
        "    return (torch.tensor(all_token_ids, dtype=torch.long),\n",
        "          torch.tensor(all_segments, dtype=torch.long),\n",
        "          torch.tensor(valid_lens))\n",
        "  def _mp_worker(self, premise_hypothesis_tokens):\n",
        "    p_tokens, h_tokens = premise_hypothesis_tokens\n",
        "    self._truncate_pair_of_tokens(p_tokens, h_tokens)\n",
        "    tokens, segments = d2l.get_tokens_and_segments(p_tokens, h_tokens)\n",
        "    token_ids = self.vocab[tokens] + [self.vocab['<pad>']] \\\n",
        "            * (self.max_len - len(tokens))\n",
        "    segments = segments + [0] * (self.max_len - len(segments))\n",
        "    valid_len = len(tokens)\n",
        "    return token_ids, segments, valid_len\n",
        "  def _truncate_pair_of_tokens(self, p_tokens, h_tokens):\n",
        "  # 为BERT输⼊中的'<CLS>'、'<SEP>'和'<SEP>'词元保留位置\n",
        "    while len(p_tokens) + len(h_tokens) > self.max_len - 3:\n",
        "      if len(p_tokens) > len(h_tokens):\n",
        "        p_tokens.pop()\n",
        "      else:\n",
        "        h_tokens.pop()\n",
        "  def __getitem__(self, idx):\n",
        "    return (self.all_token_ids[idx], self.all_segments[idx],self.valid_lens[idx]), self.labels[idx]\n",
        "  def __len__(self):\n",
        "    return len(self.all_token_ids)\n"
      ]
    },
    {
      "cell_type": "code",
      "execution_count": 5,
      "metadata": {
        "id": "7rEFOUDXLc-A"
      },
      "outputs": [],
      "source": [
        "import json\n",
        "d2l.DATA_HUB['bert.base'] = (d2l.DATA_URL + 'bert.base.torch.zip',\n",
        "'225d66f04cae318b841a13d32af3acc165f253ac')\n",
        "d2l.DATA_HUB['bert.small'] = (d2l.DATA_URL + 'bert.small.torch.zip',\n",
        "'c72329e68a732bef0452e4b96a1c341c8910f81f')\n",
        "\n",
        "def load_pretrained_model(pretrained_model, num_hiddens, ffn_num_hiddens,\n",
        "num_heads, num_layers, dropout, max_len, devices):\n",
        "  data_dir = d2l.download_extract(pretrained_model)\n",
        "  # 定义空词表以加载预定义词表\n",
        "  vocab = d2l.Vocab()\n",
        "  vocab.idx_to_token = json.load(open(os.path.join(data_dir,'vocab.json')))\n",
        "  vocab.token_to_idx = {token: idx for idx, token in enumerate(vocab.idx_to_token)}\n",
        "\n",
        "  bert = d2l.BERTModel(len(vocab), num_hiddens, norm_shape=[256],\n",
        "              ffn_num_input=256, ffn_num_hiddens=ffn_num_hiddens,\n",
        "              num_heads=4, num_layers=2, dropout=0.2,\n",
        "              max_len=max_len, key_size=256, query_size=256,\n",
        "              value_size=256, hid_in_features=256,\n",
        "              mlm_in_features=256, nsp_in_features=256)\n",
        "  \n",
        "  # 加载预训练BERT参数\n",
        "  bert.load_state_dict(torch.load(os.path.join(data_dir,'pretrained.params')))\n",
        "  return bert, vocab"
      ]
    },
    {
      "cell_type": "code",
      "execution_count": 6,
      "metadata": {
        "colab": {
          "base_uri": "https://localhost:8080/"
        },
        "id": "ydxgyOQSfuhA",
        "outputId": "cc3ce781-8585-4c04-a2b9-c27cf1c089f2"
      },
      "outputs": [
        {
          "output_type": "stream",
          "name": "stdout",
          "text": [
            "Downloading ../data/bert.small.torch.zip from http://d2l-data.s3-accelerate.amazonaws.com/bert.small.torch.zip...\n"
          ]
        }
      ],
      "source": [
        "devices = d2l.try_all_gpus()\n",
        "bert, vocab = load_pretrained_model('bert.small', num_hiddens=256, ffn_num_hiddens=512, num_heads=4,\n",
        "                  num_layers=2, dropout=0.1, max_len=512, devices=devices)"
      ]
    },
    {
      "cell_type": "code",
      "source": [
        "batch_size, max_len, num_workers = 512, 128, 2\n",
        "data_dir = d2l.download_extract('SNLI')\n",
        "train_set = SNLIBERTDataset(d2l.read_snli(data_dir, True), max_len, vocab)\n",
        "test_set = SNLIBERTDataset(d2l.read_snli(data_dir, False), max_len, vocab)\n",
        "train_iter = torch.utils.data.DataLoader(train_set, batch_size, shuffle=True,\n",
        "                      num_workers=num_workers)\n",
        "test_iter = torch.utils.data.DataLoader(test_set, batch_size,\n",
        "                      num_workers=num_workers)"
      ],
      "metadata": {
        "colab": {
          "base_uri": "https://localhost:8080/"
        },
        "id": "EXSCz_w-ouih",
        "outputId": "ef69db07-60fa-42f5-c58c-dc67ed39fa0b"
      },
      "execution_count": 7,
      "outputs": [
        {
          "output_type": "stream",
          "name": "stdout",
          "text": [
            "read 549367 examples\n",
            "read 9824 examples\n"
          ]
        }
      ]
    },
    {
      "cell_type": "code",
      "execution_count": 8,
      "metadata": {
        "id": "R5pXWWNif3ny"
      },
      "outputs": [],
      "source": [
        "class BERTClassifier(nn.Module):\n",
        "  def __init__(self, bert):\n",
        "    super(BERTClassifier, self).__init__()\n",
        "    self.encoder = bert.encoder\n",
        "    self.hidden = bert.hidden\n",
        "    \n",
        "    self.output = nn.Linear(256, 3)\n",
        "\n",
        "  def forward(self, inputs):\n",
        "    tokens_X, segments_X, valid_lens_x = inputs\n",
        "    encoded_X = self.encoder(tokens_X, segments_X, valid_lens_x)\n",
        "    return self.output(self.hidden(encoded_X[:, 0, :]))"
      ]
    },
    {
      "cell_type": "code",
      "execution_count": 9,
      "metadata": {
        "id": "ANqBS78Tf7dm"
      },
      "outputs": [],
      "source": [
        "net = BERTClassifier(bert)\n"
      ]
    },
    {
      "cell_type": "code",
      "execution_count": 10,
      "metadata": {
        "colab": {
          "base_uri": "https://localhost:8080/",
          "height": 303
        },
        "id": "wA55Echmf_QN",
        "outputId": "0f2f4c9f-6c6d-43a8-bc9c-953d93f2ad1d"
      },
      "outputs": [
        {
          "output_type": "stream",
          "name": "stdout",
          "text": [
            "loss 0.522, train acc 0.790, test acc 0.777\n",
            "2497.2 examples/sec on [device(type='cuda', index=0)]\n"
          ]
        },
        {
          "output_type": "display_data",
          "data": {
            "text/plain": [
              "<Figure size 252x180 with 1 Axes>"
            ],
            "image/svg+xml": "<?xml version=\"1.0\" encoding=\"utf-8\" standalone=\"no\"?>\n<!DOCTYPE svg PUBLIC \"-//W3C//DTD SVG 1.1//EN\"\n  \"http://www.w3.org/Graphics/SVG/1.1/DTD/svg11.dtd\">\n<!-- Created with matplotlib (https://matplotlib.org/) -->\n<svg height=\"184.455469pt\" version=\"1.1\" viewBox=\"0 0 235.784375 184.455469\" width=\"235.784375pt\" xmlns=\"http://www.w3.org/2000/svg\" xmlns:xlink=\"http://www.w3.org/1999/xlink\">\n <defs>\n  <style type=\"text/css\">\n*{stroke-linecap:butt;stroke-linejoin:round;}\n  </style>\n </defs>\n <g id=\"figure_1\">\n  <g id=\"patch_1\">\n   <path d=\"M 0 184.455469 \nL 235.784375 184.455469 \nL 235.784375 -0 \nL 0 -0 \nz\n\" style=\"fill:none;\"/>\n  </g>\n  <g id=\"axes_1\">\n   <g id=\"patch_2\">\n    <path d=\"M 30.103125 146.899219 \nL 225.403125 146.899219 \nL 225.403125 10.999219 \nL 30.103125 10.999219 \nz\n\" style=\"fill:#ffffff;\"/>\n   </g>\n   <g id=\"matplotlib.axis_1\">\n    <g id=\"xtick_1\">\n     <g id=\"line2d_1\">\n      <path clip-path=\"url(#p8bc9e3a28a)\" d=\"M 30.103125 146.899219 \nL 30.103125 10.999219 \n\" style=\"fill:none;stroke:#b0b0b0;stroke-linecap:square;stroke-width:0.8;\"/>\n     </g>\n     <g id=\"line2d_2\">\n      <defs>\n       <path d=\"M 0 0 \nL 0 3.5 \n\" id=\"m153da3995d\" style=\"stroke:#000000;stroke-width:0.8;\"/>\n      </defs>\n      <g>\n       <use style=\"stroke:#000000;stroke-width:0.8;\" x=\"30.103125\" xlink:href=\"#m153da3995d\" y=\"146.899219\"/>\n      </g>\n     </g>\n     <g id=\"text_1\">\n      <!-- 1 -->\n      <defs>\n       <path d=\"M 12.40625 8.296875 \nL 28.515625 8.296875 \nL 28.515625 63.921875 \nL 10.984375 60.40625 \nL 10.984375 69.390625 \nL 28.421875 72.90625 \nL 38.28125 72.90625 \nL 38.28125 8.296875 \nL 54.390625 8.296875 \nL 54.390625 0 \nL 12.40625 0 \nz\n\" id=\"DejaVuSans-49\"/>\n      </defs>\n      <g transform=\"translate(26.921875 161.497656)scale(0.1 -0.1)\">\n       <use xlink:href=\"#DejaVuSans-49\"/>\n      </g>\n     </g>\n    </g>\n    <g id=\"xtick_2\">\n     <g id=\"line2d_3\">\n      <path clip-path=\"url(#p8bc9e3a28a)\" d=\"M 78.928125 146.899219 \nL 78.928125 10.999219 \n\" style=\"fill:none;stroke:#b0b0b0;stroke-linecap:square;stroke-width:0.8;\"/>\n     </g>\n     <g id=\"line2d_4\">\n      <g>\n       <use style=\"stroke:#000000;stroke-width:0.8;\" x=\"78.928125\" xlink:href=\"#m153da3995d\" y=\"146.899219\"/>\n      </g>\n     </g>\n     <g id=\"text_2\">\n      <!-- 2 -->\n      <defs>\n       <path d=\"M 19.1875 8.296875 \nL 53.609375 8.296875 \nL 53.609375 0 \nL 7.328125 0 \nL 7.328125 8.296875 \nQ 12.9375 14.109375 22.625 23.890625 \nQ 32.328125 33.6875 34.8125 36.53125 \nQ 39.546875 41.84375 41.421875 45.53125 \nQ 43.3125 49.21875 43.3125 52.78125 \nQ 43.3125 58.59375 39.234375 62.25 \nQ 35.15625 65.921875 28.609375 65.921875 \nQ 23.96875 65.921875 18.8125 64.3125 \nQ 13.671875 62.703125 7.8125 59.421875 \nL 7.8125 69.390625 \nQ 13.765625 71.78125 18.9375 73 \nQ 24.125 74.21875 28.421875 74.21875 \nQ 39.75 74.21875 46.484375 68.546875 \nQ 53.21875 62.890625 53.21875 53.421875 \nQ 53.21875 48.921875 51.53125 44.890625 \nQ 49.859375 40.875 45.40625 35.40625 \nQ 44.1875 33.984375 37.640625 27.21875 \nQ 31.109375 20.453125 19.1875 8.296875 \nz\n\" id=\"DejaVuSans-50\"/>\n      </defs>\n      <g transform=\"translate(75.746875 161.497656)scale(0.1 -0.1)\">\n       <use xlink:href=\"#DejaVuSans-50\"/>\n      </g>\n     </g>\n    </g>\n    <g id=\"xtick_3\">\n     <g id=\"line2d_5\">\n      <path clip-path=\"url(#p8bc9e3a28a)\" d=\"M 127.753125 146.899219 \nL 127.753125 10.999219 \n\" style=\"fill:none;stroke:#b0b0b0;stroke-linecap:square;stroke-width:0.8;\"/>\n     </g>\n     <g id=\"line2d_6\">\n      <g>\n       <use style=\"stroke:#000000;stroke-width:0.8;\" x=\"127.753125\" xlink:href=\"#m153da3995d\" y=\"146.899219\"/>\n      </g>\n     </g>\n     <g id=\"text_3\">\n      <!-- 3 -->\n      <defs>\n       <path d=\"M 40.578125 39.3125 \nQ 47.65625 37.796875 51.625 33 \nQ 55.609375 28.21875 55.609375 21.1875 \nQ 55.609375 10.40625 48.1875 4.484375 \nQ 40.765625 -1.421875 27.09375 -1.421875 \nQ 22.515625 -1.421875 17.65625 -0.515625 \nQ 12.796875 0.390625 7.625 2.203125 \nL 7.625 11.71875 \nQ 11.71875 9.328125 16.59375 8.109375 \nQ 21.484375 6.890625 26.8125 6.890625 \nQ 36.078125 6.890625 40.9375 10.546875 \nQ 45.796875 14.203125 45.796875 21.1875 \nQ 45.796875 27.640625 41.28125 31.265625 \nQ 36.765625 34.90625 28.71875 34.90625 \nL 20.21875 34.90625 \nL 20.21875 43.015625 \nL 29.109375 43.015625 \nQ 36.375 43.015625 40.234375 45.921875 \nQ 44.09375 48.828125 44.09375 54.296875 \nQ 44.09375 59.90625 40.109375 62.90625 \nQ 36.140625 65.921875 28.71875 65.921875 \nQ 24.65625 65.921875 20.015625 65.03125 \nQ 15.375 64.15625 9.8125 62.3125 \nL 9.8125 71.09375 \nQ 15.4375 72.65625 20.34375 73.4375 \nQ 25.25 74.21875 29.59375 74.21875 \nQ 40.828125 74.21875 47.359375 69.109375 \nQ 53.90625 64.015625 53.90625 55.328125 \nQ 53.90625 49.265625 50.4375 45.09375 \nQ 46.96875 40.921875 40.578125 39.3125 \nz\n\" id=\"DejaVuSans-51\"/>\n      </defs>\n      <g transform=\"translate(124.571875 161.497656)scale(0.1 -0.1)\">\n       <use xlink:href=\"#DejaVuSans-51\"/>\n      </g>\n     </g>\n    </g>\n    <g id=\"xtick_4\">\n     <g id=\"line2d_7\">\n      <path clip-path=\"url(#p8bc9e3a28a)\" d=\"M 176.578125 146.899219 \nL 176.578125 10.999219 \n\" style=\"fill:none;stroke:#b0b0b0;stroke-linecap:square;stroke-width:0.8;\"/>\n     </g>\n     <g id=\"line2d_8\">\n      <g>\n       <use style=\"stroke:#000000;stroke-width:0.8;\" x=\"176.578125\" xlink:href=\"#m153da3995d\" y=\"146.899219\"/>\n      </g>\n     </g>\n     <g id=\"text_4\">\n      <!-- 4 -->\n      <defs>\n       <path d=\"M 37.796875 64.3125 \nL 12.890625 25.390625 \nL 37.796875 25.390625 \nz\nM 35.203125 72.90625 \nL 47.609375 72.90625 \nL 47.609375 25.390625 \nL 58.015625 25.390625 \nL 58.015625 17.1875 \nL 47.609375 17.1875 \nL 47.609375 0 \nL 37.796875 0 \nL 37.796875 17.1875 \nL 4.890625 17.1875 \nL 4.890625 26.703125 \nz\n\" id=\"DejaVuSans-52\"/>\n      </defs>\n      <g transform=\"translate(173.396875 161.497656)scale(0.1 -0.1)\">\n       <use xlink:href=\"#DejaVuSans-52\"/>\n      </g>\n     </g>\n    </g>\n    <g id=\"xtick_5\">\n     <g id=\"line2d_9\">\n      <path clip-path=\"url(#p8bc9e3a28a)\" d=\"M 225.403125 146.899219 \nL 225.403125 10.999219 \n\" style=\"fill:none;stroke:#b0b0b0;stroke-linecap:square;stroke-width:0.8;\"/>\n     </g>\n     <g id=\"line2d_10\">\n      <g>\n       <use style=\"stroke:#000000;stroke-width:0.8;\" x=\"225.403125\" xlink:href=\"#m153da3995d\" y=\"146.899219\"/>\n      </g>\n     </g>\n     <g id=\"text_5\">\n      <!-- 5 -->\n      <defs>\n       <path d=\"M 10.796875 72.90625 \nL 49.515625 72.90625 \nL 49.515625 64.59375 \nL 19.828125 64.59375 \nL 19.828125 46.734375 \nQ 21.96875 47.46875 24.109375 47.828125 \nQ 26.265625 48.1875 28.421875 48.1875 \nQ 40.625 48.1875 47.75 41.5 \nQ 54.890625 34.8125 54.890625 23.390625 \nQ 54.890625 11.625 47.5625 5.09375 \nQ 40.234375 -1.421875 26.90625 -1.421875 \nQ 22.3125 -1.421875 17.546875 -0.640625 \nQ 12.796875 0.140625 7.71875 1.703125 \nL 7.71875 11.625 \nQ 12.109375 9.234375 16.796875 8.0625 \nQ 21.484375 6.890625 26.703125 6.890625 \nQ 35.15625 6.890625 40.078125 11.328125 \nQ 45.015625 15.765625 45.015625 23.390625 \nQ 45.015625 31 40.078125 35.4375 \nQ 35.15625 39.890625 26.703125 39.890625 \nQ 22.75 39.890625 18.8125 39.015625 \nQ 14.890625 38.140625 10.796875 36.28125 \nz\n\" id=\"DejaVuSans-53\"/>\n      </defs>\n      <g transform=\"translate(222.221875 161.497656)scale(0.1 -0.1)\">\n       <use xlink:href=\"#DejaVuSans-53\"/>\n      </g>\n     </g>\n    </g>\n    <g id=\"text_6\">\n     <!-- epoch -->\n     <defs>\n      <path d=\"M 56.203125 29.59375 \nL 56.203125 25.203125 \nL 14.890625 25.203125 \nQ 15.484375 15.921875 20.484375 11.0625 \nQ 25.484375 6.203125 34.421875 6.203125 \nQ 39.59375 6.203125 44.453125 7.46875 \nQ 49.3125 8.734375 54.109375 11.28125 \nL 54.109375 2.78125 \nQ 49.265625 0.734375 44.1875 -0.34375 \nQ 39.109375 -1.421875 33.890625 -1.421875 \nQ 20.796875 -1.421875 13.15625 6.1875 \nQ 5.515625 13.8125 5.515625 26.8125 \nQ 5.515625 40.234375 12.765625 48.109375 \nQ 20.015625 56 32.328125 56 \nQ 43.359375 56 49.78125 48.890625 \nQ 56.203125 41.796875 56.203125 29.59375 \nz\nM 47.21875 32.234375 \nQ 47.125 39.59375 43.09375 43.984375 \nQ 39.0625 48.390625 32.421875 48.390625 \nQ 24.90625 48.390625 20.390625 44.140625 \nQ 15.875 39.890625 15.1875 32.171875 \nz\n\" id=\"DejaVuSans-101\"/>\n      <path d=\"M 18.109375 8.203125 \nL 18.109375 -20.796875 \nL 9.078125 -20.796875 \nL 9.078125 54.6875 \nL 18.109375 54.6875 \nL 18.109375 46.390625 \nQ 20.953125 51.265625 25.265625 53.625 \nQ 29.59375 56 35.59375 56 \nQ 45.5625 56 51.78125 48.09375 \nQ 58.015625 40.1875 58.015625 27.296875 \nQ 58.015625 14.40625 51.78125 6.484375 \nQ 45.5625 -1.421875 35.59375 -1.421875 \nQ 29.59375 -1.421875 25.265625 0.953125 \nQ 20.953125 3.328125 18.109375 8.203125 \nz\nM 48.6875 27.296875 \nQ 48.6875 37.203125 44.609375 42.84375 \nQ 40.53125 48.484375 33.40625 48.484375 \nQ 26.265625 48.484375 22.1875 42.84375 \nQ 18.109375 37.203125 18.109375 27.296875 \nQ 18.109375 17.390625 22.1875 11.75 \nQ 26.265625 6.109375 33.40625 6.109375 \nQ 40.53125 6.109375 44.609375 11.75 \nQ 48.6875 17.390625 48.6875 27.296875 \nz\n\" id=\"DejaVuSans-112\"/>\n      <path d=\"M 30.609375 48.390625 \nQ 23.390625 48.390625 19.1875 42.75 \nQ 14.984375 37.109375 14.984375 27.296875 \nQ 14.984375 17.484375 19.15625 11.84375 \nQ 23.34375 6.203125 30.609375 6.203125 \nQ 37.796875 6.203125 41.984375 11.859375 \nQ 46.1875 17.53125 46.1875 27.296875 \nQ 46.1875 37.015625 41.984375 42.703125 \nQ 37.796875 48.390625 30.609375 48.390625 \nz\nM 30.609375 56 \nQ 42.328125 56 49.015625 48.375 \nQ 55.71875 40.765625 55.71875 27.296875 \nQ 55.71875 13.875 49.015625 6.21875 \nQ 42.328125 -1.421875 30.609375 -1.421875 \nQ 18.84375 -1.421875 12.171875 6.21875 \nQ 5.515625 13.875 5.515625 27.296875 \nQ 5.515625 40.765625 12.171875 48.375 \nQ 18.84375 56 30.609375 56 \nz\n\" id=\"DejaVuSans-111\"/>\n      <path d=\"M 48.78125 52.59375 \nL 48.78125 44.1875 \nQ 44.96875 46.296875 41.140625 47.34375 \nQ 37.3125 48.390625 33.40625 48.390625 \nQ 24.65625 48.390625 19.8125 42.84375 \nQ 14.984375 37.3125 14.984375 27.296875 \nQ 14.984375 17.28125 19.8125 11.734375 \nQ 24.65625 6.203125 33.40625 6.203125 \nQ 37.3125 6.203125 41.140625 7.25 \nQ 44.96875 8.296875 48.78125 10.40625 \nL 48.78125 2.09375 \nQ 45.015625 0.34375 40.984375 -0.53125 \nQ 36.96875 -1.421875 32.421875 -1.421875 \nQ 20.0625 -1.421875 12.78125 6.34375 \nQ 5.515625 14.109375 5.515625 27.296875 \nQ 5.515625 40.671875 12.859375 48.328125 \nQ 20.21875 56 33.015625 56 \nQ 37.15625 56 41.109375 55.140625 \nQ 45.0625 54.296875 48.78125 52.59375 \nz\n\" id=\"DejaVuSans-99\"/>\n      <path d=\"M 54.890625 33.015625 \nL 54.890625 0 \nL 45.90625 0 \nL 45.90625 32.71875 \nQ 45.90625 40.484375 42.875 44.328125 \nQ 39.84375 48.1875 33.796875 48.1875 \nQ 26.515625 48.1875 22.3125 43.546875 \nQ 18.109375 38.921875 18.109375 30.90625 \nL 18.109375 0 \nL 9.078125 0 \nL 9.078125 75.984375 \nL 18.109375 75.984375 \nL 18.109375 46.1875 \nQ 21.34375 51.125 25.703125 53.5625 \nQ 30.078125 56 35.796875 56 \nQ 45.21875 56 50.046875 50.171875 \nQ 54.890625 44.34375 54.890625 33.015625 \nz\n\" id=\"DejaVuSans-104\"/>\n     </defs>\n     <g transform=\"translate(112.525 175.175781)scale(0.1 -0.1)\">\n      <use xlink:href=\"#DejaVuSans-101\"/>\n      <use x=\"61.523438\" xlink:href=\"#DejaVuSans-112\"/>\n      <use x=\"125\" xlink:href=\"#DejaVuSans-111\"/>\n      <use x=\"186.181641\" xlink:href=\"#DejaVuSans-99\"/>\n      <use x=\"241.162109\" xlink:href=\"#DejaVuSans-104\"/>\n     </g>\n    </g>\n   </g>\n   <g id=\"matplotlib.axis_2\">\n    <g id=\"ytick_1\">\n     <g id=\"line2d_11\">\n      <path clip-path=\"url(#p8bc9e3a28a)\" d=\"M 30.103125 146.899219 \nL 225.403125 146.899219 \n\" style=\"fill:none;stroke:#b0b0b0;stroke-linecap:square;stroke-width:0.8;\"/>\n     </g>\n     <g id=\"line2d_12\">\n      <defs>\n       <path d=\"M 0 0 \nL -3.5 0 \n\" id=\"mb94720a880\" style=\"stroke:#000000;stroke-width:0.8;\"/>\n      </defs>\n      <g>\n       <use style=\"stroke:#000000;stroke-width:0.8;\" x=\"30.103125\" xlink:href=\"#mb94720a880\" y=\"146.899219\"/>\n      </g>\n     </g>\n     <g id=\"text_7\">\n      <!-- 0.0 -->\n      <defs>\n       <path d=\"M 31.78125 66.40625 \nQ 24.171875 66.40625 20.328125 58.90625 \nQ 16.5 51.421875 16.5 36.375 \nQ 16.5 21.390625 20.328125 13.890625 \nQ 24.171875 6.390625 31.78125 6.390625 \nQ 39.453125 6.390625 43.28125 13.890625 \nQ 47.125 21.390625 47.125 36.375 \nQ 47.125 51.421875 43.28125 58.90625 \nQ 39.453125 66.40625 31.78125 66.40625 \nz\nM 31.78125 74.21875 \nQ 44.046875 74.21875 50.515625 64.515625 \nQ 56.984375 54.828125 56.984375 36.375 \nQ 56.984375 17.96875 50.515625 8.265625 \nQ 44.046875 -1.421875 31.78125 -1.421875 \nQ 19.53125 -1.421875 13.0625 8.265625 \nQ 6.59375 17.96875 6.59375 36.375 \nQ 6.59375 54.828125 13.0625 64.515625 \nQ 19.53125 74.21875 31.78125 74.21875 \nz\n\" id=\"DejaVuSans-48\"/>\n       <path d=\"M 10.6875 12.40625 \nL 21 12.40625 \nL 21 0 \nL 10.6875 0 \nz\n\" id=\"DejaVuSans-46\"/>\n      </defs>\n      <g transform=\"translate(7.2 150.698437)scale(0.1 -0.1)\">\n       <use xlink:href=\"#DejaVuSans-48\"/>\n       <use x=\"63.623047\" xlink:href=\"#DejaVuSans-46\"/>\n       <use x=\"95.410156\" xlink:href=\"#DejaVuSans-48\"/>\n      </g>\n     </g>\n    </g>\n    <g id=\"ytick_2\">\n     <g id=\"line2d_13\">\n      <path clip-path=\"url(#p8bc9e3a28a)\" d=\"M 30.103125 119.719219 \nL 225.403125 119.719219 \n\" style=\"fill:none;stroke:#b0b0b0;stroke-linecap:square;stroke-width:0.8;\"/>\n     </g>\n     <g id=\"line2d_14\">\n      <g>\n       <use style=\"stroke:#000000;stroke-width:0.8;\" x=\"30.103125\" xlink:href=\"#mb94720a880\" y=\"119.719219\"/>\n      </g>\n     </g>\n     <g id=\"text_8\">\n      <!-- 0.2 -->\n      <g transform=\"translate(7.2 123.518437)scale(0.1 -0.1)\">\n       <use xlink:href=\"#DejaVuSans-48\"/>\n       <use x=\"63.623047\" xlink:href=\"#DejaVuSans-46\"/>\n       <use x=\"95.410156\" xlink:href=\"#DejaVuSans-50\"/>\n      </g>\n     </g>\n    </g>\n    <g id=\"ytick_3\">\n     <g id=\"line2d_15\">\n      <path clip-path=\"url(#p8bc9e3a28a)\" d=\"M 30.103125 92.539219 \nL 225.403125 92.539219 \n\" style=\"fill:none;stroke:#b0b0b0;stroke-linecap:square;stroke-width:0.8;\"/>\n     </g>\n     <g id=\"line2d_16\">\n      <g>\n       <use style=\"stroke:#000000;stroke-width:0.8;\" x=\"30.103125\" xlink:href=\"#mb94720a880\" y=\"92.539219\"/>\n      </g>\n     </g>\n     <g id=\"text_9\">\n      <!-- 0.4 -->\n      <g transform=\"translate(7.2 96.338437)scale(0.1 -0.1)\">\n       <use xlink:href=\"#DejaVuSans-48\"/>\n       <use x=\"63.623047\" xlink:href=\"#DejaVuSans-46\"/>\n       <use x=\"95.410156\" xlink:href=\"#DejaVuSans-52\"/>\n      </g>\n     </g>\n    </g>\n    <g id=\"ytick_4\">\n     <g id=\"line2d_17\">\n      <path clip-path=\"url(#p8bc9e3a28a)\" d=\"M 30.103125 65.359219 \nL 225.403125 65.359219 \n\" style=\"fill:none;stroke:#b0b0b0;stroke-linecap:square;stroke-width:0.8;\"/>\n     </g>\n     <g id=\"line2d_18\">\n      <g>\n       <use style=\"stroke:#000000;stroke-width:0.8;\" x=\"30.103125\" xlink:href=\"#mb94720a880\" y=\"65.359219\"/>\n      </g>\n     </g>\n     <g id=\"text_10\">\n      <!-- 0.6 -->\n      <defs>\n       <path d=\"M 33.015625 40.375 \nQ 26.375 40.375 22.484375 35.828125 \nQ 18.609375 31.296875 18.609375 23.390625 \nQ 18.609375 15.53125 22.484375 10.953125 \nQ 26.375 6.390625 33.015625 6.390625 \nQ 39.65625 6.390625 43.53125 10.953125 \nQ 47.40625 15.53125 47.40625 23.390625 \nQ 47.40625 31.296875 43.53125 35.828125 \nQ 39.65625 40.375 33.015625 40.375 \nz\nM 52.59375 71.296875 \nL 52.59375 62.3125 \nQ 48.875 64.0625 45.09375 64.984375 \nQ 41.3125 65.921875 37.59375 65.921875 \nQ 27.828125 65.921875 22.671875 59.328125 \nQ 17.53125 52.734375 16.796875 39.40625 \nQ 19.671875 43.65625 24.015625 45.921875 \nQ 28.375 48.1875 33.59375 48.1875 \nQ 44.578125 48.1875 50.953125 41.515625 \nQ 57.328125 34.859375 57.328125 23.390625 \nQ 57.328125 12.15625 50.6875 5.359375 \nQ 44.046875 -1.421875 33.015625 -1.421875 \nQ 20.359375 -1.421875 13.671875 8.265625 \nQ 6.984375 17.96875 6.984375 36.375 \nQ 6.984375 53.65625 15.1875 63.9375 \nQ 23.390625 74.21875 37.203125 74.21875 \nQ 40.921875 74.21875 44.703125 73.484375 \nQ 48.484375 72.75 52.59375 71.296875 \nz\n\" id=\"DejaVuSans-54\"/>\n      </defs>\n      <g transform=\"translate(7.2 69.158437)scale(0.1 -0.1)\">\n       <use xlink:href=\"#DejaVuSans-48\"/>\n       <use x=\"63.623047\" xlink:href=\"#DejaVuSans-46\"/>\n       <use x=\"95.410156\" xlink:href=\"#DejaVuSans-54\"/>\n      </g>\n     </g>\n    </g>\n    <g id=\"ytick_5\">\n     <g id=\"line2d_19\">\n      <path clip-path=\"url(#p8bc9e3a28a)\" d=\"M 30.103125 38.179219 \nL 225.403125 38.179219 \n\" style=\"fill:none;stroke:#b0b0b0;stroke-linecap:square;stroke-width:0.8;\"/>\n     </g>\n     <g id=\"line2d_20\">\n      <g>\n       <use style=\"stroke:#000000;stroke-width:0.8;\" x=\"30.103125\" xlink:href=\"#mb94720a880\" y=\"38.179219\"/>\n      </g>\n     </g>\n     <g id=\"text_11\">\n      <!-- 0.8 -->\n      <defs>\n       <path d=\"M 31.78125 34.625 \nQ 24.75 34.625 20.71875 30.859375 \nQ 16.703125 27.09375 16.703125 20.515625 \nQ 16.703125 13.921875 20.71875 10.15625 \nQ 24.75 6.390625 31.78125 6.390625 \nQ 38.8125 6.390625 42.859375 10.171875 \nQ 46.921875 13.96875 46.921875 20.515625 \nQ 46.921875 27.09375 42.890625 30.859375 \nQ 38.875 34.625 31.78125 34.625 \nz\nM 21.921875 38.8125 \nQ 15.578125 40.375 12.03125 44.71875 \nQ 8.5 49.078125 8.5 55.328125 \nQ 8.5 64.0625 14.71875 69.140625 \nQ 20.953125 74.21875 31.78125 74.21875 \nQ 42.671875 74.21875 48.875 69.140625 \nQ 55.078125 64.0625 55.078125 55.328125 \nQ 55.078125 49.078125 51.53125 44.71875 \nQ 48 40.375 41.703125 38.8125 \nQ 48.828125 37.15625 52.796875 32.3125 \nQ 56.78125 27.484375 56.78125 20.515625 \nQ 56.78125 9.90625 50.3125 4.234375 \nQ 43.84375 -1.421875 31.78125 -1.421875 \nQ 19.734375 -1.421875 13.25 4.234375 \nQ 6.78125 9.90625 6.78125 20.515625 \nQ 6.78125 27.484375 10.78125 32.3125 \nQ 14.796875 37.15625 21.921875 38.8125 \nz\nM 18.3125 54.390625 \nQ 18.3125 48.734375 21.84375 45.5625 \nQ 25.390625 42.390625 31.78125 42.390625 \nQ 38.140625 42.390625 41.71875 45.5625 \nQ 45.3125 48.734375 45.3125 54.390625 \nQ 45.3125 60.0625 41.71875 63.234375 \nQ 38.140625 66.40625 31.78125 66.40625 \nQ 25.390625 66.40625 21.84375 63.234375 \nQ 18.3125 60.0625 18.3125 54.390625 \nz\n\" id=\"DejaVuSans-56\"/>\n      </defs>\n      <g transform=\"translate(7.2 41.978437)scale(0.1 -0.1)\">\n       <use xlink:href=\"#DejaVuSans-48\"/>\n       <use x=\"63.623047\" xlink:href=\"#DejaVuSans-46\"/>\n       <use x=\"95.410156\" xlink:href=\"#DejaVuSans-56\"/>\n      </g>\n     </g>\n    </g>\n    <g id=\"ytick_6\">\n     <g id=\"line2d_21\">\n      <path clip-path=\"url(#p8bc9e3a28a)\" d=\"M 30.103125 10.999219 \nL 225.403125 10.999219 \n\" style=\"fill:none;stroke:#b0b0b0;stroke-linecap:square;stroke-width:0.8;\"/>\n     </g>\n     <g id=\"line2d_22\">\n      <g>\n       <use style=\"stroke:#000000;stroke-width:0.8;\" x=\"30.103125\" xlink:href=\"#mb94720a880\" y=\"10.999219\"/>\n      </g>\n     </g>\n     <g id=\"text_12\">\n      <!-- 1.0 -->\n      <g transform=\"translate(7.2 14.798437)scale(0.1 -0.1)\">\n       <use xlink:href=\"#DejaVuSans-49\"/>\n       <use x=\"63.623047\" xlink:href=\"#DejaVuSans-46\"/>\n       <use x=\"95.410156\" xlink:href=\"#DejaVuSans-48\"/>\n      </g>\n     </g>\n    </g>\n   </g>\n   <g id=\"line2d_23\">\n    <path clip-path=\"url(#p8bc9e3a28a)\" d=\"M -1 26.053352 \nL 0.753521 27.653062 \nL 10.491219 32.86063 \nL 20.228917 36.221574 \nL 29.966615 38.887266 \nL 30.103125 38.913701 \nL 39.840823 54.57352 \nL 49.578521 55.235207 \nL 59.316219 55.959493 \nL 69.053917 56.455024 \nL 78.791615 57.065035 \nL 78.928125 57.065575 \nL 88.665823 64.46345 \nL 98.403521 64.763143 \nL 108.141219 64.869128 \nL 117.878917 65.006967 \nL 127.616615 65.33051 \nL 127.753125 65.334415 \nL 137.490823 71.208139 \nL 147.228521 71.520566 \nL 156.966219 71.367089 \nL 166.703917 71.315297 \nL 176.441615 71.242929 \nL 176.578125 71.2421 \nL 186.315823 76.773677 \nL 196.053521 76.353872 \nL 205.791219 75.9793 \nL 215.528917 75.87931 \nL 225.266615 75.915855 \nL 225.403125 75.916412 \n\" style=\"fill:none;stroke:#1f77b4;stroke-linecap:square;stroke-width:1.5;\"/>\n   </g>\n   <g id=\"line2d_24\">\n    <path clip-path=\"url(#p8bc9e3a28a)\" d=\"M -1 67.910199 \nL 0.753521 66.749996 \nL 10.491219 63.250831 \nL 20.228917 61.08977 \nL 29.966615 59.436912 \nL 30.103125 59.421511 \nL 39.840823 49.976452 \nL 49.578521 49.58885 \nL 59.316219 49.225642 \nL 69.053917 48.962176 \nL 78.791615 48.673862 \nL 78.928125 48.676999 \nL 88.665823 44.839023 \nL 98.403521 44.734216 \nL 108.141219 44.770805 \nL 117.878917 44.727704 \nL 127.616615 44.570865 \nL 127.753125 44.567842 \nL 137.490823 41.766737 \nL 147.228521 41.573246 \nL 156.966219 41.631955 \nL 166.703917 41.66472 \nL 176.441615 41.754085 \nL 176.578125 41.75444 \nL 186.315823 39.185619 \nL 196.053521 39.329497 \nL 205.791219 39.524641 \nL 215.528917 39.585624 \nL 225.266615 39.558213 \nL 225.403125 39.558981 \n\" style=\"fill:none;stroke:#bf00bf;stroke-dasharray:5.55,2.4;stroke-dashoffset:0;stroke-width:1.5;\"/>\n   </g>\n   <g id=\"line2d_25\">\n    <path clip-path=\"url(#p8bc9e3a28a)\" d=\"M 30.103125 48.819923 \nL 78.928125 46.025562 \nL 127.753125 42.594862 \nL 176.578125 41.75102 \nL 225.403125 41.336016 \n\" style=\"fill:none;stroke:#008000;stroke-dasharray:9.6,2.4,1.5,2.4;stroke-dashoffset:0;stroke-width:1.5;\"/>\n   </g>\n   <g id=\"patch_3\">\n    <path d=\"M 30.103125 146.899219 \nL 30.103125 10.999219 \n\" style=\"fill:none;stroke:#000000;stroke-linecap:square;stroke-linejoin:miter;stroke-width:0.8;\"/>\n   </g>\n   <g id=\"patch_4\">\n    <path d=\"M 225.403125 146.899219 \nL 225.403125 10.999219 \n\" style=\"fill:none;stroke:#000000;stroke-linecap:square;stroke-linejoin:miter;stroke-width:0.8;\"/>\n   </g>\n   <g id=\"patch_5\">\n    <path d=\"M 30.103125 146.899219 \nL 225.403125 146.899219 \n\" style=\"fill:none;stroke:#000000;stroke-linecap:square;stroke-linejoin:miter;stroke-width:0.8;\"/>\n   </g>\n   <g id=\"patch_6\">\n    <path d=\"M 30.103125 10.999219 \nL 225.403125 10.999219 \n\" style=\"fill:none;stroke:#000000;stroke-linecap:square;stroke-linejoin:miter;stroke-width:0.8;\"/>\n   </g>\n   <g id=\"legend_1\">\n    <g id=\"patch_7\">\n     <path d=\"M 37.103125 141.899219 \nL 114.871875 141.899219 \nQ 116.871875 141.899219 116.871875 139.899219 \nL 116.871875 96.864844 \nQ 116.871875 94.864844 114.871875 94.864844 \nL 37.103125 94.864844 \nQ 35.103125 94.864844 35.103125 96.864844 \nL 35.103125 139.899219 \nQ 35.103125 141.899219 37.103125 141.899219 \nz\n\" style=\"fill:#ffffff;opacity:0.8;stroke:#cccccc;stroke-linejoin:miter;\"/>\n    </g>\n    <g id=\"line2d_26\">\n     <path d=\"M 39.103125 102.963281 \nL 59.103125 102.963281 \n\" style=\"fill:none;stroke:#1f77b4;stroke-linecap:square;stroke-width:1.5;\"/>\n    </g>\n    <g id=\"line2d_27\"/>\n    <g id=\"text_13\">\n     <!-- train loss -->\n     <defs>\n      <path d=\"M 18.3125 70.21875 \nL 18.3125 54.6875 \nL 36.8125 54.6875 \nL 36.8125 47.703125 \nL 18.3125 47.703125 \nL 18.3125 18.015625 \nQ 18.3125 11.328125 20.140625 9.421875 \nQ 21.96875 7.515625 27.59375 7.515625 \nL 36.8125 7.515625 \nL 36.8125 0 \nL 27.59375 0 \nQ 17.1875 0 13.234375 3.875 \nQ 9.28125 7.765625 9.28125 18.015625 \nL 9.28125 47.703125 \nL 2.6875 47.703125 \nL 2.6875 54.6875 \nL 9.28125 54.6875 \nL 9.28125 70.21875 \nz\n\" id=\"DejaVuSans-116\"/>\n      <path d=\"M 41.109375 46.296875 \nQ 39.59375 47.171875 37.8125 47.578125 \nQ 36.03125 48 33.890625 48 \nQ 26.265625 48 22.1875 43.046875 \nQ 18.109375 38.09375 18.109375 28.8125 \nL 18.109375 0 \nL 9.078125 0 \nL 9.078125 54.6875 \nL 18.109375 54.6875 \nL 18.109375 46.1875 \nQ 20.953125 51.171875 25.484375 53.578125 \nQ 30.03125 56 36.53125 56 \nQ 37.453125 56 38.578125 55.875 \nQ 39.703125 55.765625 41.0625 55.515625 \nz\n\" id=\"DejaVuSans-114\"/>\n      <path d=\"M 34.28125 27.484375 \nQ 23.390625 27.484375 19.1875 25 \nQ 14.984375 22.515625 14.984375 16.5 \nQ 14.984375 11.71875 18.140625 8.90625 \nQ 21.296875 6.109375 26.703125 6.109375 \nQ 34.1875 6.109375 38.703125 11.40625 \nQ 43.21875 16.703125 43.21875 25.484375 \nL 43.21875 27.484375 \nz\nM 52.203125 31.203125 \nL 52.203125 0 \nL 43.21875 0 \nL 43.21875 8.296875 \nQ 40.140625 3.328125 35.546875 0.953125 \nQ 30.953125 -1.421875 24.3125 -1.421875 \nQ 15.921875 -1.421875 10.953125 3.296875 \nQ 6 8.015625 6 15.921875 \nQ 6 25.140625 12.171875 29.828125 \nQ 18.359375 34.515625 30.609375 34.515625 \nL 43.21875 34.515625 \nL 43.21875 35.40625 \nQ 43.21875 41.609375 39.140625 45 \nQ 35.0625 48.390625 27.6875 48.390625 \nQ 23 48.390625 18.546875 47.265625 \nQ 14.109375 46.140625 10.015625 43.890625 \nL 10.015625 52.203125 \nQ 14.9375 54.109375 19.578125 55.046875 \nQ 24.21875 56 28.609375 56 \nQ 40.484375 56 46.34375 49.84375 \nQ 52.203125 43.703125 52.203125 31.203125 \nz\n\" id=\"DejaVuSans-97\"/>\n      <path d=\"M 9.421875 54.6875 \nL 18.40625 54.6875 \nL 18.40625 0 \nL 9.421875 0 \nz\nM 9.421875 75.984375 \nL 18.40625 75.984375 \nL 18.40625 64.59375 \nL 9.421875 64.59375 \nz\n\" id=\"DejaVuSans-105\"/>\n      <path d=\"M 54.890625 33.015625 \nL 54.890625 0 \nL 45.90625 0 \nL 45.90625 32.71875 \nQ 45.90625 40.484375 42.875 44.328125 \nQ 39.84375 48.1875 33.796875 48.1875 \nQ 26.515625 48.1875 22.3125 43.546875 \nQ 18.109375 38.921875 18.109375 30.90625 \nL 18.109375 0 \nL 9.078125 0 \nL 9.078125 54.6875 \nL 18.109375 54.6875 \nL 18.109375 46.1875 \nQ 21.34375 51.125 25.703125 53.5625 \nQ 30.078125 56 35.796875 56 \nQ 45.21875 56 50.046875 50.171875 \nQ 54.890625 44.34375 54.890625 33.015625 \nz\n\" id=\"DejaVuSans-110\"/>\n      <path id=\"DejaVuSans-32\"/>\n      <path d=\"M 9.421875 75.984375 \nL 18.40625 75.984375 \nL 18.40625 0 \nL 9.421875 0 \nz\n\" id=\"DejaVuSans-108\"/>\n      <path d=\"M 44.28125 53.078125 \nL 44.28125 44.578125 \nQ 40.484375 46.53125 36.375 47.5 \nQ 32.28125 48.484375 27.875 48.484375 \nQ 21.1875 48.484375 17.84375 46.4375 \nQ 14.5 44.390625 14.5 40.28125 \nQ 14.5 37.15625 16.890625 35.375 \nQ 19.28125 33.59375 26.515625 31.984375 \nL 29.59375 31.296875 \nQ 39.15625 29.25 43.1875 25.515625 \nQ 47.21875 21.78125 47.21875 15.09375 \nQ 47.21875 7.46875 41.1875 3.015625 \nQ 35.15625 -1.421875 24.609375 -1.421875 \nQ 20.21875 -1.421875 15.453125 -0.5625 \nQ 10.6875 0.296875 5.421875 2 \nL 5.421875 11.28125 \nQ 10.40625 8.6875 15.234375 7.390625 \nQ 20.0625 6.109375 24.8125 6.109375 \nQ 31.15625 6.109375 34.5625 8.28125 \nQ 37.984375 10.453125 37.984375 14.40625 \nQ 37.984375 18.0625 35.515625 20.015625 \nQ 33.0625 21.96875 24.703125 23.78125 \nL 21.578125 24.515625 \nQ 13.234375 26.265625 9.515625 29.90625 \nQ 5.8125 33.546875 5.8125 39.890625 \nQ 5.8125 47.609375 11.28125 51.796875 \nQ 16.75 56 26.8125 56 \nQ 31.78125 56 36.171875 55.265625 \nQ 40.578125 54.546875 44.28125 53.078125 \nz\n\" id=\"DejaVuSans-115\"/>\n     </defs>\n     <g transform=\"translate(67.103125 106.463281)scale(0.1 -0.1)\">\n      <use xlink:href=\"#DejaVuSans-116\"/>\n      <use x=\"39.208984\" xlink:href=\"#DejaVuSans-114\"/>\n      <use x=\"80.322266\" xlink:href=\"#DejaVuSans-97\"/>\n      <use x=\"141.601562\" xlink:href=\"#DejaVuSans-105\"/>\n      <use x=\"169.384766\" xlink:href=\"#DejaVuSans-110\"/>\n      <use x=\"232.763672\" xlink:href=\"#DejaVuSans-32\"/>\n      <use x=\"264.550781\" xlink:href=\"#DejaVuSans-108\"/>\n      <use x=\"292.333984\" xlink:href=\"#DejaVuSans-111\"/>\n      <use x=\"353.515625\" xlink:href=\"#DejaVuSans-115\"/>\n      <use x=\"405.615234\" xlink:href=\"#DejaVuSans-115\"/>\n     </g>\n    </g>\n    <g id=\"line2d_28\">\n     <path d=\"M 39.103125 117.641406 \nL 59.103125 117.641406 \n\" style=\"fill:none;stroke:#bf00bf;stroke-dasharray:5.55,2.4;stroke-dashoffset:0;stroke-width:1.5;\"/>\n    </g>\n    <g id=\"line2d_29\"/>\n    <g id=\"text_14\">\n     <!-- train acc -->\n     <g transform=\"translate(67.103125 121.141406)scale(0.1 -0.1)\">\n      <use xlink:href=\"#DejaVuSans-116\"/>\n      <use x=\"39.208984\" xlink:href=\"#DejaVuSans-114\"/>\n      <use x=\"80.322266\" xlink:href=\"#DejaVuSans-97\"/>\n      <use x=\"141.601562\" xlink:href=\"#DejaVuSans-105\"/>\n      <use x=\"169.384766\" xlink:href=\"#DejaVuSans-110\"/>\n      <use x=\"232.763672\" xlink:href=\"#DejaVuSans-32\"/>\n      <use x=\"264.550781\" xlink:href=\"#DejaVuSans-97\"/>\n      <use x=\"325.830078\" xlink:href=\"#DejaVuSans-99\"/>\n      <use x=\"380.810547\" xlink:href=\"#DejaVuSans-99\"/>\n     </g>\n    </g>\n    <g id=\"line2d_30\">\n     <path d=\"M 39.103125 132.319531 \nL 59.103125 132.319531 \n\" style=\"fill:none;stroke:#008000;stroke-dasharray:9.6,2.4,1.5,2.4;stroke-dashoffset:0;stroke-width:1.5;\"/>\n    </g>\n    <g id=\"line2d_31\"/>\n    <g id=\"text_15\">\n     <!-- test acc -->\n     <g transform=\"translate(67.103125 135.819531)scale(0.1 -0.1)\">\n      <use xlink:href=\"#DejaVuSans-116\"/>\n      <use x=\"39.208984\" xlink:href=\"#DejaVuSans-101\"/>\n      <use x=\"100.732422\" xlink:href=\"#DejaVuSans-115\"/>\n      <use x=\"152.832031\" xlink:href=\"#DejaVuSans-116\"/>\n      <use x=\"192.041016\" xlink:href=\"#DejaVuSans-32\"/>\n      <use x=\"223.828125\" xlink:href=\"#DejaVuSans-97\"/>\n      <use x=\"285.107422\" xlink:href=\"#DejaVuSans-99\"/>\n      <use x=\"340.087891\" xlink:href=\"#DejaVuSans-99\"/>\n     </g>\n    </g>\n   </g>\n  </g>\n </g>\n <defs>\n  <clipPath id=\"p8bc9e3a28a\">\n   <rect height=\"135.9\" width=\"195.3\" x=\"30.103125\" y=\"10.999219\"/>\n  </clipPath>\n </defs>\n</svg>\n"
          },
          "metadata": {
            "needs_background": "light"
          }
        }
      ],
      "source": [
        "lr, num_epochs = 1e-4, 5\n",
        "trainer = torch.optim.Adam(net.parameters(), lr=lr)\n",
        "loss = nn.CrossEntropyLoss(reduction='none')\n",
        "d2l.train_ch13(net, train_iter, test_iter, loss, trainer, num_epochs,devices)"
      ]
    },
    {
      "cell_type": "code",
      "source": [],
      "metadata": {
        "id": "aiR94ieYUPP9"
      },
      "execution_count": null,
      "outputs": []
    }
  ],
  "metadata": {
    "accelerator": "GPU",
    "colab": {
      "collapsed_sections": [],
      "toc_visible": true,
      "provenance": []
    },
    "kernelspec": {
      "display_name": "Python 3",
      "name": "python3"
    },
    "language_info": {
      "name": "python"
    }
  },
  "nbformat": 4,
  "nbformat_minor": 0
}